{
 "cells": [
  {
   "cell_type": "code",
   "execution_count": 1,
   "metadata": {},
   "outputs": [
    {
     "data": {
      "text/plain": [
       "'C:\\\\Users\\\\ASUS'"
      ]
     },
     "execution_count": 1,
     "metadata": {},
     "output_type": "execute_result"
    }
   ],
   "source": [
    "import os\n",
    "os.getcwd()"
   ]
  },
  {
   "cell_type": "code",
   "execution_count": 2,
   "metadata": {},
   "outputs": [],
   "source": [
    "os.chdir('C:/Users/ASUS/Desktop/Data Science/portfolio projects/BigMartSales Prediction')"
   ]
  },
  {
   "cell_type": "code",
   "execution_count": 3,
   "metadata": {},
   "outputs": [
    {
     "data": {
      "text/html": [
       "<div>\n",
       "<style scoped>\n",
       "    .dataframe tbody tr th:only-of-type {\n",
       "        vertical-align: middle;\n",
       "    }\n",
       "\n",
       "    .dataframe tbody tr th {\n",
       "        vertical-align: top;\n",
       "    }\n",
       "\n",
       "    .dataframe thead th {\n",
       "        text-align: right;\n",
       "    }\n",
       "</style>\n",
       "<table border=\"1\" class=\"dataframe\">\n",
       "  <thead>\n",
       "    <tr style=\"text-align: right;\">\n",
       "      <th></th>\n",
       "      <th>Item_Identifier</th>\n",
       "      <th>Outlet_Identifier</th>\n",
       "      <th>Item_Outlet_Sales</th>\n",
       "    </tr>\n",
       "  </thead>\n",
       "  <tbody>\n",
       "    <tr>\n",
       "      <th>0</th>\n",
       "      <td>FDW58</td>\n",
       "      <td>OUT049</td>\n",
       "      <td>0</td>\n",
       "    </tr>\n",
       "    <tr>\n",
       "      <th>1</th>\n",
       "      <td>FDW14</td>\n",
       "      <td>OUT017</td>\n",
       "      <td>0</td>\n",
       "    </tr>\n",
       "    <tr>\n",
       "      <th>2</th>\n",
       "      <td>NCN55</td>\n",
       "      <td>OUT010</td>\n",
       "      <td>0</td>\n",
       "    </tr>\n",
       "    <tr>\n",
       "      <th>3</th>\n",
       "      <td>FDQ58</td>\n",
       "      <td>OUT017</td>\n",
       "      <td>0</td>\n",
       "    </tr>\n",
       "    <tr>\n",
       "      <th>4</th>\n",
       "      <td>FDY38</td>\n",
       "      <td>OUT027</td>\n",
       "      <td>0</td>\n",
       "    </tr>\n",
       "    <tr>\n",
       "      <th>5</th>\n",
       "      <td>FDH56</td>\n",
       "      <td>OUT046</td>\n",
       "      <td>0</td>\n",
       "    </tr>\n",
       "    <tr>\n",
       "      <th>6</th>\n",
       "      <td>FDL48</td>\n",
       "      <td>OUT018</td>\n",
       "      <td>0</td>\n",
       "    </tr>\n",
       "    <tr>\n",
       "      <th>7</th>\n",
       "      <td>FDC48</td>\n",
       "      <td>OUT027</td>\n",
       "      <td>0</td>\n",
       "    </tr>\n",
       "    <tr>\n",
       "      <th>8</th>\n",
       "      <td>FDN33</td>\n",
       "      <td>OUT045</td>\n",
       "      <td>0</td>\n",
       "    </tr>\n",
       "    <tr>\n",
       "      <th>9</th>\n",
       "      <td>FDA36</td>\n",
       "      <td>OUT017</td>\n",
       "      <td>0</td>\n",
       "    </tr>\n",
       "    <tr>\n",
       "      <th>10</th>\n",
       "      <td>FDT44</td>\n",
       "      <td>OUT017</td>\n",
       "      <td>0</td>\n",
       "    </tr>\n",
       "    <tr>\n",
       "      <th>11</th>\n",
       "      <td>FDQ56</td>\n",
       "      <td>OUT045</td>\n",
       "      <td>0</td>\n",
       "    </tr>\n",
       "    <tr>\n",
       "      <th>12</th>\n",
       "      <td>NCC54</td>\n",
       "      <td>OUT019</td>\n",
       "      <td>0</td>\n",
       "    </tr>\n",
       "    <tr>\n",
       "      <th>13</th>\n",
       "      <td>FDU11</td>\n",
       "      <td>OUT049</td>\n",
       "      <td>0</td>\n",
       "    </tr>\n",
       "    <tr>\n",
       "      <th>14</th>\n",
       "      <td>DRL59</td>\n",
       "      <td>OUT013</td>\n",
       "      <td>0</td>\n",
       "    </tr>\n",
       "    <tr>\n",
       "      <th>15</th>\n",
       "      <td>FDM24</td>\n",
       "      <td>OUT049</td>\n",
       "      <td>0</td>\n",
       "    </tr>\n",
       "    <tr>\n",
       "      <th>16</th>\n",
       "      <td>FDI57</td>\n",
       "      <td>OUT045</td>\n",
       "      <td>0</td>\n",
       "    </tr>\n",
       "    <tr>\n",
       "      <th>17</th>\n",
       "      <td>DRC12</td>\n",
       "      <td>OUT018</td>\n",
       "      <td>0</td>\n",
       "    </tr>\n",
       "    <tr>\n",
       "      <th>18</th>\n",
       "      <td>NCM42</td>\n",
       "      <td>OUT027</td>\n",
       "      <td>0</td>\n",
       "    </tr>\n",
       "    <tr>\n",
       "      <th>19</th>\n",
       "      <td>FDA46</td>\n",
       "      <td>OUT010</td>\n",
       "      <td>0</td>\n",
       "    </tr>\n",
       "    <tr>\n",
       "      <th>20</th>\n",
       "      <td>FDA31</td>\n",
       "      <td>OUT013</td>\n",
       "      <td>0</td>\n",
       "    </tr>\n",
       "    <tr>\n",
       "      <th>21</th>\n",
       "      <td>NCJ31</td>\n",
       "      <td>OUT035</td>\n",
       "      <td>0</td>\n",
       "    </tr>\n",
       "    <tr>\n",
       "      <th>22</th>\n",
       "      <td>FDG52</td>\n",
       "      <td>OUT046</td>\n",
       "      <td>0</td>\n",
       "    </tr>\n",
       "    <tr>\n",
       "      <th>23</th>\n",
       "      <td>NCL19</td>\n",
       "      <td>OUT019</td>\n",
       "      <td>0</td>\n",
       "    </tr>\n",
       "    <tr>\n",
       "      <th>24</th>\n",
       "      <td>FDS10</td>\n",
       "      <td>OUT035</td>\n",
       "      <td>0</td>\n",
       "    </tr>\n",
       "    <tr>\n",
       "      <th>25</th>\n",
       "      <td>FDX22</td>\n",
       "      <td>OUT010</td>\n",
       "      <td>0</td>\n",
       "    </tr>\n",
       "    <tr>\n",
       "      <th>26</th>\n",
       "      <td>NCF19</td>\n",
       "      <td>OUT035</td>\n",
       "      <td>0</td>\n",
       "    </tr>\n",
       "    <tr>\n",
       "      <th>27</th>\n",
       "      <td>NCE06</td>\n",
       "      <td>OUT046</td>\n",
       "      <td>0</td>\n",
       "    </tr>\n",
       "    <tr>\n",
       "      <th>28</th>\n",
       "      <td>DRC27</td>\n",
       "      <td>OUT046</td>\n",
       "      <td>0</td>\n",
       "    </tr>\n",
       "    <tr>\n",
       "      <th>29</th>\n",
       "      <td>FDE21</td>\n",
       "      <td>OUT035</td>\n",
       "      <td>0</td>\n",
       "    </tr>\n",
       "    <tr>\n",
       "      <th>...</th>\n",
       "      <td>...</td>\n",
       "      <td>...</td>\n",
       "      <td>...</td>\n",
       "    </tr>\n",
       "    <tr>\n",
       "      <th>5651</th>\n",
       "      <td>FDD23</td>\n",
       "      <td>OUT013</td>\n",
       "      <td>0</td>\n",
       "    </tr>\n",
       "    <tr>\n",
       "      <th>5652</th>\n",
       "      <td>FDP32</td>\n",
       "      <td>OUT045</td>\n",
       "      <td>0</td>\n",
       "    </tr>\n",
       "    <tr>\n",
       "      <th>5653</th>\n",
       "      <td>FDO31</td>\n",
       "      <td>OUT035</td>\n",
       "      <td>0</td>\n",
       "    </tr>\n",
       "    <tr>\n",
       "      <th>5654</th>\n",
       "      <td>FDQ57</td>\n",
       "      <td>OUT013</td>\n",
       "      <td>0</td>\n",
       "    </tr>\n",
       "    <tr>\n",
       "      <th>5655</th>\n",
       "      <td>FDX32</td>\n",
       "      <td>OUT027</td>\n",
       "      <td>0</td>\n",
       "    </tr>\n",
       "    <tr>\n",
       "      <th>5656</th>\n",
       "      <td>FDC39</td>\n",
       "      <td>OUT027</td>\n",
       "      <td>0</td>\n",
       "    </tr>\n",
       "    <tr>\n",
       "      <th>5657</th>\n",
       "      <td>FDU55</td>\n",
       "      <td>OUT046</td>\n",
       "      <td>0</td>\n",
       "    </tr>\n",
       "    <tr>\n",
       "      <th>5658</th>\n",
       "      <td>FDL45</td>\n",
       "      <td>OUT013</td>\n",
       "      <td>0</td>\n",
       "    </tr>\n",
       "    <tr>\n",
       "      <th>5659</th>\n",
       "      <td>DRK37</td>\n",
       "      <td>OUT049</td>\n",
       "      <td>0</td>\n",
       "    </tr>\n",
       "    <tr>\n",
       "      <th>5660</th>\n",
       "      <td>FDK22</td>\n",
       "      <td>OUT013</td>\n",
       "      <td>0</td>\n",
       "    </tr>\n",
       "    <tr>\n",
       "      <th>5661</th>\n",
       "      <td>DRG37</td>\n",
       "      <td>OUT027</td>\n",
       "      <td>0</td>\n",
       "    </tr>\n",
       "    <tr>\n",
       "      <th>5662</th>\n",
       "      <td>FDK22</td>\n",
       "      <td>OUT017</td>\n",
       "      <td>0</td>\n",
       "    </tr>\n",
       "    <tr>\n",
       "      <th>5663</th>\n",
       "      <td>DRH36</td>\n",
       "      <td>OUT018</td>\n",
       "      <td>0</td>\n",
       "    </tr>\n",
       "    <tr>\n",
       "      <th>5664</th>\n",
       "      <td>DRC36</td>\n",
       "      <td>OUT018</td>\n",
       "      <td>0</td>\n",
       "    </tr>\n",
       "    <tr>\n",
       "      <th>5665</th>\n",
       "      <td>DRE03</td>\n",
       "      <td>OUT027</td>\n",
       "      <td>0</td>\n",
       "    </tr>\n",
       "    <tr>\n",
       "      <th>5666</th>\n",
       "      <td>FDF34</td>\n",
       "      <td>OUT046</td>\n",
       "      <td>0</td>\n",
       "    </tr>\n",
       "    <tr>\n",
       "      <th>5667</th>\n",
       "      <td>FDZ22</td>\n",
       "      <td>OUT046</td>\n",
       "      <td>0</td>\n",
       "    </tr>\n",
       "    <tr>\n",
       "      <th>5668</th>\n",
       "      <td>FDC44</td>\n",
       "      <td>OUT010</td>\n",
       "      <td>0</td>\n",
       "    </tr>\n",
       "    <tr>\n",
       "      <th>5669</th>\n",
       "      <td>FDN31</td>\n",
       "      <td>OUT027</td>\n",
       "      <td>0</td>\n",
       "    </tr>\n",
       "    <tr>\n",
       "      <th>5670</th>\n",
       "      <td>FDO03</td>\n",
       "      <td>OUT017</td>\n",
       "      <td>0</td>\n",
       "    </tr>\n",
       "    <tr>\n",
       "      <th>5671</th>\n",
       "      <td>FDA01</td>\n",
       "      <td>OUT049</td>\n",
       "      <td>0</td>\n",
       "    </tr>\n",
       "    <tr>\n",
       "      <th>5672</th>\n",
       "      <td>NCH42</td>\n",
       "      <td>OUT049</td>\n",
       "      <td>0</td>\n",
       "    </tr>\n",
       "    <tr>\n",
       "      <th>5673</th>\n",
       "      <td>FDF46</td>\n",
       "      <td>OUT018</td>\n",
       "      <td>0</td>\n",
       "    </tr>\n",
       "    <tr>\n",
       "      <th>5674</th>\n",
       "      <td>DRL35</td>\n",
       "      <td>OUT046</td>\n",
       "      <td>0</td>\n",
       "    </tr>\n",
       "    <tr>\n",
       "      <th>5675</th>\n",
       "      <td>FDW46</td>\n",
       "      <td>OUT049</td>\n",
       "      <td>0</td>\n",
       "    </tr>\n",
       "    <tr>\n",
       "      <th>5676</th>\n",
       "      <td>FDB58</td>\n",
       "      <td>OUT046</td>\n",
       "      <td>0</td>\n",
       "    </tr>\n",
       "    <tr>\n",
       "      <th>5677</th>\n",
       "      <td>FDD47</td>\n",
       "      <td>OUT018</td>\n",
       "      <td>0</td>\n",
       "    </tr>\n",
       "    <tr>\n",
       "      <th>5678</th>\n",
       "      <td>NCO17</td>\n",
       "      <td>OUT045</td>\n",
       "      <td>0</td>\n",
       "    </tr>\n",
       "    <tr>\n",
       "      <th>5679</th>\n",
       "      <td>FDJ26</td>\n",
       "      <td>OUT017</td>\n",
       "      <td>0</td>\n",
       "    </tr>\n",
       "    <tr>\n",
       "      <th>5680</th>\n",
       "      <td>FDU37</td>\n",
       "      <td>OUT045</td>\n",
       "      <td>0</td>\n",
       "    </tr>\n",
       "  </tbody>\n",
       "</table>\n",
       "<p>5681 rows × 3 columns</p>\n",
       "</div>"
      ],
      "text/plain": [
       "     Item_Identifier Outlet_Identifier  Item_Outlet_Sales\n",
       "0              FDW58            OUT049                  0\n",
       "1              FDW14            OUT017                  0\n",
       "2              NCN55            OUT010                  0\n",
       "3              FDQ58            OUT017                  0\n",
       "4              FDY38            OUT027                  0\n",
       "5              FDH56            OUT046                  0\n",
       "6              FDL48            OUT018                  0\n",
       "7              FDC48            OUT027                  0\n",
       "8              FDN33            OUT045                  0\n",
       "9              FDA36            OUT017                  0\n",
       "10             FDT44            OUT017                  0\n",
       "11             FDQ56            OUT045                  0\n",
       "12             NCC54            OUT019                  0\n",
       "13             FDU11            OUT049                  0\n",
       "14             DRL59            OUT013                  0\n",
       "15             FDM24            OUT049                  0\n",
       "16             FDI57            OUT045                  0\n",
       "17             DRC12            OUT018                  0\n",
       "18             NCM42            OUT027                  0\n",
       "19             FDA46            OUT010                  0\n",
       "20             FDA31            OUT013                  0\n",
       "21             NCJ31            OUT035                  0\n",
       "22             FDG52            OUT046                  0\n",
       "23             NCL19            OUT019                  0\n",
       "24             FDS10            OUT035                  0\n",
       "25             FDX22            OUT010                  0\n",
       "26             NCF19            OUT035                  0\n",
       "27             NCE06            OUT046                  0\n",
       "28             DRC27            OUT046                  0\n",
       "29             FDE21            OUT035                  0\n",
       "...              ...               ...                ...\n",
       "5651           FDD23            OUT013                  0\n",
       "5652           FDP32            OUT045                  0\n",
       "5653           FDO31            OUT035                  0\n",
       "5654           FDQ57            OUT013                  0\n",
       "5655           FDX32            OUT027                  0\n",
       "5656           FDC39            OUT027                  0\n",
       "5657           FDU55            OUT046                  0\n",
       "5658           FDL45            OUT013                  0\n",
       "5659           DRK37            OUT049                  0\n",
       "5660           FDK22            OUT013                  0\n",
       "5661           DRG37            OUT027                  0\n",
       "5662           FDK22            OUT017                  0\n",
       "5663           DRH36            OUT018                  0\n",
       "5664           DRC36            OUT018                  0\n",
       "5665           DRE03            OUT027                  0\n",
       "5666           FDF34            OUT046                  0\n",
       "5667           FDZ22            OUT046                  0\n",
       "5668           FDC44            OUT010                  0\n",
       "5669           FDN31            OUT027                  0\n",
       "5670           FDO03            OUT017                  0\n",
       "5671           FDA01            OUT049                  0\n",
       "5672           NCH42            OUT049                  0\n",
       "5673           FDF46            OUT018                  0\n",
       "5674           DRL35            OUT046                  0\n",
       "5675           FDW46            OUT049                  0\n",
       "5676           FDB58            OUT046                  0\n",
       "5677           FDD47            OUT018                  0\n",
       "5678           NCO17            OUT045                  0\n",
       "5679           FDJ26            OUT017                  0\n",
       "5680           FDU37            OUT045                  0\n",
       "\n",
       "[5681 rows x 3 columns]"
      ]
     },
     "execution_count": 3,
     "metadata": {},
     "output_type": "execute_result"
    }
   ],
   "source": [
    "import pandas as pd\n",
    "import numpy as np\n",
    "import matplotlib.pyplot as plt\n",
    "import seaborn as sns\n",
    "%matplotlib inline\n",
    "import warnings # Ignores any warning\n",
    "warnings.filterwarnings(\"ignore\")\n",
    "pd.read_csv('SampleSubmission_TmnO39y_Jw0L2VF.csv')"
   ]
  },
  {
   "cell_type": "code",
   "execution_count": 4,
   "metadata": {},
   "outputs": [],
   "source": [
    "var={'Item_Identifier':'Unique product ID','Item_Weight':'Weight of product','Item_Fat_Content':'Whether the product is low fat or not',\n",
    "    'Item_Visibility':'The % of total display area of all products in a store allocated to the particular product',\n",
    "    'Item_Type':'The category to which the product belongs','Item_MRP':'Maximum Retail Price (list price) of the product',\n",
    "    'Outlet_Identifier':'Unique store ID','Outlet_Establishment_Year':'The year in which store was established',\n",
    "    'Outlet_Size':'The size of the store in terms of ground area covered','Outlet_Location_Type':'The type of city in which the store is located',\n",
    "    'Outlet_Type':'Whether the outlet is just a grocery store or some sort of supermarket','Item_Outlet_Sales':'Sales of the product in the particular store. This is the outcome variable to be predicted.'}"
   ]
  },
  {
   "cell_type": "code",
   "execution_count": 5,
   "metadata": {},
   "outputs": [
    {
     "data": {
      "text/plain": [
       "{'Item_Fat_Content': 'Whether the product is low fat or not',\n",
       " 'Item_Identifier': 'Unique product ID',\n",
       " 'Item_MRP': 'Maximum Retail Price (list price) of the product',\n",
       " 'Item_Outlet_Sales': 'Sales of the product in the particular store. This is the outcome variable to be predicted.',\n",
       " 'Item_Type': 'The category to which the product belongs',\n",
       " 'Item_Visibility': 'The % of total display area of all products in a store allocated to the particular product',\n",
       " 'Item_Weight': 'Weight of product',\n",
       " 'Outlet_Establishment_Year': 'The year in which store was established',\n",
       " 'Outlet_Identifier': 'Unique store ID',\n",
       " 'Outlet_Location_Type': 'The type of city in which the store is located',\n",
       " 'Outlet_Size': 'The size of the store in terms of ground area covered',\n",
       " 'Outlet_Type': 'Whether the outlet is just a grocery store or some sort of supermarket'}"
      ]
     },
     "execution_count": 5,
     "metadata": {},
     "output_type": "execute_result"
    }
   ],
   "source": [
    "var"
   ]
  },
  {
   "cell_type": "code",
   "execution_count": 6,
   "metadata": {},
   "outputs": [],
   "source": [
    "var1={'col1':list(var.keys()),'col2':list(var.values())}"
   ]
  },
  {
   "cell_type": "code",
   "execution_count": 7,
   "metadata": {},
   "outputs": [
    {
     "data": {
      "text/plain": [
       "{'col1': ['Item_Identifier',\n",
       "  'Item_Weight',\n",
       "  'Item_Fat_Content',\n",
       "  'Item_Visibility',\n",
       "  'Item_Type',\n",
       "  'Item_MRP',\n",
       "  'Outlet_Identifier',\n",
       "  'Outlet_Establishment_Year',\n",
       "  'Outlet_Size',\n",
       "  'Outlet_Location_Type',\n",
       "  'Outlet_Type',\n",
       "  'Item_Outlet_Sales'],\n",
       " 'col2': ['Unique product ID',\n",
       "  'Weight of product',\n",
       "  'Whether the product is low fat or not',\n",
       "  'The % of total display area of all products in a store allocated to the particular product',\n",
       "  'The category to which the product belongs',\n",
       "  'Maximum Retail Price (list price) of the product',\n",
       "  'Unique store ID',\n",
       "  'The year in which store was established',\n",
       "  'The size of the store in terms of ground area covered',\n",
       "  'The type of city in which the store is located',\n",
       "  'Whether the outlet is just a grocery store or some sort of supermarket',\n",
       "  'Sales of the product in the particular store. This is the outcome variable to be predicted.']}"
      ]
     },
     "execution_count": 7,
     "metadata": {},
     "output_type": "execute_result"
    }
   ],
   "source": [
    "var1"
   ]
  },
  {
   "cell_type": "code",
   "execution_count": 8,
   "metadata": {},
   "outputs": [],
   "source": [
    "var_name=pd.DataFrame.from_dict(var1)"
   ]
  },
  {
   "cell_type": "code",
   "execution_count": 9,
   "metadata": {},
   "outputs": [],
   "source": [
    "var_name.rename(columns={'col1':'Variable','col2':'Variable Explanation'},inplace=True)"
   ]
  },
  {
   "cell_type": "code",
   "execution_count": 10,
   "metadata": {
    "scrolled": true
   },
   "outputs": [
    {
     "data": {
      "text/html": [
       "<div>\n",
       "<style scoped>\n",
       "    .dataframe tbody tr th:only-of-type {\n",
       "        vertical-align: middle;\n",
       "    }\n",
       "\n",
       "    .dataframe tbody tr th {\n",
       "        vertical-align: top;\n",
       "    }\n",
       "\n",
       "    .dataframe thead th {\n",
       "        text-align: right;\n",
       "    }\n",
       "</style>\n",
       "<table border=\"1\" class=\"dataframe\">\n",
       "  <thead>\n",
       "    <tr style=\"text-align: right;\">\n",
       "      <th></th>\n",
       "      <th>Variable</th>\n",
       "      <th>Variable Explanation</th>\n",
       "    </tr>\n",
       "  </thead>\n",
       "  <tbody>\n",
       "    <tr>\n",
       "      <th>0</th>\n",
       "      <td>Item_Identifier</td>\n",
       "      <td>Unique product ID</td>\n",
       "    </tr>\n",
       "    <tr>\n",
       "      <th>1</th>\n",
       "      <td>Item_Weight</td>\n",
       "      <td>Weight of product</td>\n",
       "    </tr>\n",
       "    <tr>\n",
       "      <th>2</th>\n",
       "      <td>Item_Fat_Content</td>\n",
       "      <td>Whether the product is low fat or not</td>\n",
       "    </tr>\n",
       "    <tr>\n",
       "      <th>3</th>\n",
       "      <td>Item_Visibility</td>\n",
       "      <td>The % of total display area of all products in...</td>\n",
       "    </tr>\n",
       "    <tr>\n",
       "      <th>4</th>\n",
       "      <td>Item_Type</td>\n",
       "      <td>The category to which the product belongs</td>\n",
       "    </tr>\n",
       "    <tr>\n",
       "      <th>5</th>\n",
       "      <td>Item_MRP</td>\n",
       "      <td>Maximum Retail Price (list price) of the product</td>\n",
       "    </tr>\n",
       "    <tr>\n",
       "      <th>6</th>\n",
       "      <td>Outlet_Identifier</td>\n",
       "      <td>Unique store ID</td>\n",
       "    </tr>\n",
       "    <tr>\n",
       "      <th>7</th>\n",
       "      <td>Outlet_Establishment_Year</td>\n",
       "      <td>The year in which store was established</td>\n",
       "    </tr>\n",
       "    <tr>\n",
       "      <th>8</th>\n",
       "      <td>Outlet_Size</td>\n",
       "      <td>The size of the store in terms of ground area ...</td>\n",
       "    </tr>\n",
       "    <tr>\n",
       "      <th>9</th>\n",
       "      <td>Outlet_Location_Type</td>\n",
       "      <td>The type of city in which the store is located</td>\n",
       "    </tr>\n",
       "    <tr>\n",
       "      <th>10</th>\n",
       "      <td>Outlet_Type</td>\n",
       "      <td>Whether the outlet is just a grocery store or ...</td>\n",
       "    </tr>\n",
       "    <tr>\n",
       "      <th>11</th>\n",
       "      <td>Item_Outlet_Sales</td>\n",
       "      <td>Sales of the product in the particular store. ...</td>\n",
       "    </tr>\n",
       "  </tbody>\n",
       "</table>\n",
       "</div>"
      ],
      "text/plain": [
       "                     Variable  \\\n",
       "0             Item_Identifier   \n",
       "1                 Item_Weight   \n",
       "2            Item_Fat_Content   \n",
       "3             Item_Visibility   \n",
       "4                   Item_Type   \n",
       "5                    Item_MRP   \n",
       "6           Outlet_Identifier   \n",
       "7   Outlet_Establishment_Year   \n",
       "8                 Outlet_Size   \n",
       "9        Outlet_Location_Type   \n",
       "10                Outlet_Type   \n",
       "11          Item_Outlet_Sales   \n",
       "\n",
       "                                 Variable Explanation  \n",
       "0                                   Unique product ID  \n",
       "1                                   Weight of product  \n",
       "2               Whether the product is low fat or not  \n",
       "3   The % of total display area of all products in...  \n",
       "4           The category to which the product belongs  \n",
       "5    Maximum Retail Price (list price) of the product  \n",
       "6                                     Unique store ID  \n",
       "7             The year in which store was established  \n",
       "8   The size of the store in terms of ground area ...  \n",
       "9      The type of city in which the store is located  \n",
       "10  Whether the outlet is just a grocery store or ...  \n",
       "11  Sales of the product in the particular store. ...  "
      ]
     },
     "execution_count": 10,
     "metadata": {},
     "output_type": "execute_result"
    }
   ],
   "source": [
    "var_name"
   ]
  },
  {
   "cell_type": "code",
   "execution_count": 11,
   "metadata": {},
   "outputs": [],
   "source": [
    "train_df=pd.read_csv('train_kOBLwZA.csv')\n",
    "test_df=pd.read_csv('test_t02dQwI.csv')"
   ]
  },
  {
   "cell_type": "code",
   "execution_count": 12,
   "metadata": {
    "scrolled": true
   },
   "outputs": [
    {
     "data": {
      "text/html": [
       "<div>\n",
       "<style scoped>\n",
       "    .dataframe tbody tr th:only-of-type {\n",
       "        vertical-align: middle;\n",
       "    }\n",
       "\n",
       "    .dataframe tbody tr th {\n",
       "        vertical-align: top;\n",
       "    }\n",
       "\n",
       "    .dataframe thead th {\n",
       "        text-align: right;\n",
       "    }\n",
       "</style>\n",
       "<table border=\"1\" class=\"dataframe\">\n",
       "  <thead>\n",
       "    <tr style=\"text-align: right;\">\n",
       "      <th></th>\n",
       "      <th>Item_Identifier</th>\n",
       "      <th>Item_Weight</th>\n",
       "      <th>Item_Fat_Content</th>\n",
       "      <th>Item_Visibility</th>\n",
       "      <th>Item_Type</th>\n",
       "      <th>Item_MRP</th>\n",
       "      <th>Outlet_Identifier</th>\n",
       "      <th>Outlet_Establishment_Year</th>\n",
       "      <th>Outlet_Size</th>\n",
       "      <th>Outlet_Location_Type</th>\n",
       "      <th>Outlet_Type</th>\n",
       "      <th>Item_Outlet_Sales</th>\n",
       "    </tr>\n",
       "  </thead>\n",
       "  <tbody>\n",
       "    <tr>\n",
       "      <th>0</th>\n",
       "      <td>FDA15</td>\n",
       "      <td>9.30</td>\n",
       "      <td>Low Fat</td>\n",
       "      <td>0.016047</td>\n",
       "      <td>Dairy</td>\n",
       "      <td>249.8092</td>\n",
       "      <td>OUT049</td>\n",
       "      <td>1999</td>\n",
       "      <td>Medium</td>\n",
       "      <td>Tier 1</td>\n",
       "      <td>Supermarket Type1</td>\n",
       "      <td>3735.1380</td>\n",
       "    </tr>\n",
       "    <tr>\n",
       "      <th>1</th>\n",
       "      <td>DRC01</td>\n",
       "      <td>5.92</td>\n",
       "      <td>Regular</td>\n",
       "      <td>0.019278</td>\n",
       "      <td>Soft Drinks</td>\n",
       "      <td>48.2692</td>\n",
       "      <td>OUT018</td>\n",
       "      <td>2009</td>\n",
       "      <td>Medium</td>\n",
       "      <td>Tier 3</td>\n",
       "      <td>Supermarket Type2</td>\n",
       "      <td>443.4228</td>\n",
       "    </tr>\n",
       "    <tr>\n",
       "      <th>2</th>\n",
       "      <td>FDN15</td>\n",
       "      <td>17.50</td>\n",
       "      <td>Low Fat</td>\n",
       "      <td>0.016760</td>\n",
       "      <td>Meat</td>\n",
       "      <td>141.6180</td>\n",
       "      <td>OUT049</td>\n",
       "      <td>1999</td>\n",
       "      <td>Medium</td>\n",
       "      <td>Tier 1</td>\n",
       "      <td>Supermarket Type1</td>\n",
       "      <td>2097.2700</td>\n",
       "    </tr>\n",
       "    <tr>\n",
       "      <th>3</th>\n",
       "      <td>FDX07</td>\n",
       "      <td>19.20</td>\n",
       "      <td>Regular</td>\n",
       "      <td>0.000000</td>\n",
       "      <td>Fruits and Vegetables</td>\n",
       "      <td>182.0950</td>\n",
       "      <td>OUT010</td>\n",
       "      <td>1998</td>\n",
       "      <td>NaN</td>\n",
       "      <td>Tier 3</td>\n",
       "      <td>Grocery Store</td>\n",
       "      <td>732.3800</td>\n",
       "    </tr>\n",
       "    <tr>\n",
       "      <th>4</th>\n",
       "      <td>NCD19</td>\n",
       "      <td>8.93</td>\n",
       "      <td>Low Fat</td>\n",
       "      <td>0.000000</td>\n",
       "      <td>Household</td>\n",
       "      <td>53.8614</td>\n",
       "      <td>OUT013</td>\n",
       "      <td>1987</td>\n",
       "      <td>High</td>\n",
       "      <td>Tier 3</td>\n",
       "      <td>Supermarket Type1</td>\n",
       "      <td>994.7052</td>\n",
       "    </tr>\n",
       "  </tbody>\n",
       "</table>\n",
       "</div>"
      ],
      "text/plain": [
       "  Item_Identifier  Item_Weight Item_Fat_Content  Item_Visibility  \\\n",
       "0           FDA15         9.30          Low Fat         0.016047   \n",
       "1           DRC01         5.92          Regular         0.019278   \n",
       "2           FDN15        17.50          Low Fat         0.016760   \n",
       "3           FDX07        19.20          Regular         0.000000   \n",
       "4           NCD19         8.93          Low Fat         0.000000   \n",
       "\n",
       "               Item_Type  Item_MRP Outlet_Identifier  \\\n",
       "0                  Dairy  249.8092            OUT049   \n",
       "1            Soft Drinks   48.2692            OUT018   \n",
       "2                   Meat  141.6180            OUT049   \n",
       "3  Fruits and Vegetables  182.0950            OUT010   \n",
       "4              Household   53.8614            OUT013   \n",
       "\n",
       "   Outlet_Establishment_Year Outlet_Size Outlet_Location_Type  \\\n",
       "0                       1999      Medium               Tier 1   \n",
       "1                       2009      Medium               Tier 3   \n",
       "2                       1999      Medium               Tier 1   \n",
       "3                       1998         NaN               Tier 3   \n",
       "4                       1987        High               Tier 3   \n",
       "\n",
       "         Outlet_Type  Item_Outlet_Sales  \n",
       "0  Supermarket Type1          3735.1380  \n",
       "1  Supermarket Type2           443.4228  \n",
       "2  Supermarket Type1          2097.2700  \n",
       "3      Grocery Store           732.3800  \n",
       "4  Supermarket Type1           994.7052  "
      ]
     },
     "execution_count": 12,
     "metadata": {},
     "output_type": "execute_result"
    }
   ],
   "source": [
    "train_df.head()"
   ]
  },
  {
   "cell_type": "markdown",
   "metadata": {},
   "source": [
    "# Data Cleaning"
   ]
  },
  {
   "cell_type": "code",
   "execution_count": 13,
   "metadata": {},
   "outputs": [
    {
     "data": {
      "text/plain": [
       "array(['Low Fat', 'Regular', 'low fat', 'LF', 'reg'], dtype=object)"
      ]
     },
     "execution_count": 13,
     "metadata": {},
     "output_type": "execute_result"
    }
   ],
   "source": [
    "train_df.Item_Fat_Content.unique()"
   ]
  },
  {
   "cell_type": "markdown",
   "metadata": {},
   "source": [
    "Standardising fat content"
   ]
  },
  {
   "cell_type": "code",
   "execution_count": 14,
   "metadata": {},
   "outputs": [],
   "source": [
    "train_df.loc[train_df.Item_Fat_Content=='reg','Item_Fat_Content']='Regular'\n",
    "train_df.loc[train_df.Item_Fat_Content=='LF','Item_Fat_Content']='Low Fat'\n",
    "train_df.loc[train_df.Item_Fat_Content=='low fat','Item_Fat_Content']='Low Fat'\n",
    "\n",
    "test_df.loc[test_df.Item_Fat_Content=='reg','Item_Fat_Content']='Regular'\n",
    "test_df.loc[test_df.Item_Fat_Content=='LF','Item_Fat_Content']='Low Fat'\n",
    "test_df.loc[test_df.Item_Fat_Content=='low fat','Item_Fat_Content']='Low Fat'\n",
    "\n"
   ]
  },
  {
   "cell_type": "code",
   "execution_count": 15,
   "metadata": {},
   "outputs": [
    {
     "data": {
      "text/plain": [
       "array(['Low Fat', 'Regular'], dtype=object)"
      ]
     },
     "execution_count": 15,
     "metadata": {},
     "output_type": "execute_result"
    }
   ],
   "source": [
    "train_df.Item_Fat_Content.unique()"
   ]
  },
  {
   "cell_type": "code",
   "execution_count": 16,
   "metadata": {},
   "outputs": [
    {
     "name": "stdout",
     "output_type": "stream",
     "text": [
      "<class 'pandas.core.frame.DataFrame'>\n",
      "RangeIndex: 8523 entries, 0 to 8522\n",
      "Data columns (total 12 columns):\n",
      "Item_Identifier              8523 non-null object\n",
      "Item_Weight                  7060 non-null float64\n",
      "Item_Fat_Content             8523 non-null object\n",
      "Item_Visibility              8523 non-null float64\n",
      "Item_Type                    8523 non-null object\n",
      "Item_MRP                     8523 non-null float64\n",
      "Outlet_Identifier            8523 non-null object\n",
      "Outlet_Establishment_Year    8523 non-null int64\n",
      "Outlet_Size                  6113 non-null object\n",
      "Outlet_Location_Type         8523 non-null object\n",
      "Outlet_Type                  8523 non-null object\n",
      "Item_Outlet_Sales            8523 non-null float64\n",
      "dtypes: float64(4), int64(1), object(7)\n",
      "memory usage: 799.1+ KB\n"
     ]
    }
   ],
   "source": [
    "train_df.info()"
   ]
  },
  {
   "cell_type": "code",
   "execution_count": 17,
   "metadata": {},
   "outputs": [
    {
     "data": {
      "text/plain": [
       "Fruits and Vegetables    213\n",
       "Snack Foods              212\n",
       "Household                151\n",
       "Frozen Foods             138\n",
       "Dairy                    116\n",
       "Baking Goods             112\n",
       "Canned                   110\n",
       "Health and Hygiene        90\n",
       "Meat                      88\n",
       "Soft Drinks               71\n",
       "Breads                    47\n",
       "Others                    32\n",
       "Hard Drinks               31\n",
       "Breakfast                 21\n",
       "Starchy Foods             18\n",
       "Seafood                   13\n",
       "Name: Item_Type, dtype: int64"
      ]
     },
     "execution_count": 17,
     "metadata": {},
     "output_type": "execute_result"
    }
   ],
   "source": [
    "train_df[train_df.Item_Weight.isna()].Item_Type.value_counts()"
   ]
  },
  {
   "cell_type": "markdown",
   "metadata": {},
   "source": [
    "Item weights is different according to item type and fat content. We will replace missing values with mean of of each food type according to its fat content."
   ]
  },
  {
   "cell_type": "code",
   "execution_count": 18,
   "metadata": {},
   "outputs": [],
   "source": [
    "fvg_reg=train_df[(train_df.Item_Type=='Fruits and Vegetables')&(train_df.Item_Fat_Content=='Regular')&(train_df.Item_Weight.notna())].Item_Weight.mean()\n",
    "train_df.loc[(train_df.Item_Type=='Fruits and Vegetables')&(train_df.Item_Fat_Content=='Regular')&(train_df.Item_Weight.isna()),'Item_Weight']=fvg_reg\n",
    "\n",
    "fvg_reg1=test_df[(test_df.Item_Type=='Fruits and Vegetables')&(test_df.Item_Fat_Content=='Regular')&(test_df.Item_Weight.notna())].Item_Weight.mean()\n",
    "test_df.loc[(test_df.Item_Type=='Fruits and Vegetables')&(test_df.Item_Fat_Content=='Regular')&(test_df.Item_Weight.isna()),'Item_Weight']=fvg_reg1"
   ]
  },
  {
   "cell_type": "code",
   "execution_count": 19,
   "metadata": {},
   "outputs": [],
   "source": [
    "fvg_lf=train_df[(train_df.Item_Type=='Fruits and Vegetables')&(train_df.Item_Fat_Content=='Low Fat')&(train_df.Item_Weight.notna())].Item_Weight.mean()\n",
    "train_df.loc[(train_df.Item_Type=='Fruits and Vegetables')&(train_df.Item_Fat_Content=='Low Fat')&(train_df.Item_Weight.isna()),'Item_Weight']=fvg_lf\n",
    "\n",
    "#snack food\n",
    "snack_reg=train_df[(train_df.Item_Type=='Snack Foods')&(train_df.Item_Fat_Content=='Regular')&(train_df.Item_Weight.notna())].Item_Weight.mean()\n",
    "train_df.loc[(train_df.Item_Type=='Snack Foods')&(train_df.Item_Fat_Content=='Regular')&(train_df.Item_Weight.isna()),'Item_Weight']=snack_reg\n",
    "\n",
    "snack_lf=train_df[(train_df.Item_Type=='Snack Foods')&(train_df.Item_Fat_Content=='Low Fat')&(train_df.Item_Weight.notna())].Item_Weight.mean()\n",
    "train_df.loc[(train_df.Item_Type=='Snack Foods')&(train_df.Item_Fat_Content=='Low Fat')&(train_df.Item_Weight.isna()),'Item_Weight']=snack_lf\n",
    "\n",
    "#Frozen Foods\n",
    "ff_reg=train_df[(train_df.Item_Type=='Frozen Foods')&(train_df.Item_Fat_Content=='Regular')&(train_df.Item_Weight.notna())].Item_Weight.mean()\n",
    "train_df.loc[(train_df.Item_Type=='Frozen Foods')&(train_df.Item_Fat_Content=='Regular')&(train_df.Item_Weight.isna()),'Item_Weight']=ff_reg\n",
    "\n",
    "ff_lf=train_df[(train_df.Item_Type=='Frozen Foods')&(train_df.Item_Fat_Content=='Low Fat')&(train_df.Item_Weight.notna())].Item_Weight.mean()\n",
    "train_df.loc[(train_df.Item_Type=='Frozen Foods')&(train_df.Item_Fat_Content=='Low Fat')&(train_df.Item_Weight.isna()),'Item_Weight']=ff_lf\n",
    "\n",
    "#Household\n",
    "\n",
    "\n",
    "hh_lf=train_df[(train_df.Item_Type=='Household')&(train_df.Item_Fat_Content=='Low Fat')&(train_df.Item_Weight.notna())].Item_Weight.mean()\n",
    "train_df.loc[(train_df.Item_Type=='Household')&(train_df.Item_Fat_Content=='Low Fat')&(train_df.Item_Weight.isna()),'Item_Weight']=hh_lf\n",
    "\n",
    "#Dairy\n",
    "dairy_reg=train_df[(train_df.Item_Type=='Dairy')&(train_df.Item_Fat_Content=='Regular')&(train_df.Item_Weight.notna())].Item_Weight.mean()\n",
    "train_df.loc[(train_df.Item_Type=='Dairy')&(train_df.Item_Fat_Content=='Regular')&(train_df.Item_Weight.isna()),'Item_Weight']=dairy_reg\n",
    "\n",
    "dairy_lf=train_df[(train_df.Item_Type=='Dairy')&(train_df.Item_Fat_Content=='Low Fat')&(train_df.Item_Weight.notna())].Item_Weight.mean()\n",
    "train_df.loc[(train_df.Item_Type=='Dairy')&(train_df.Item_Fat_Content=='Low Fat')&(train_df.Item_Weight.isna()),'Item_Weight']=dairy_lf\n",
    "\n",
    "#Canned\n",
    "can_reg=train_df[(train_df.Item_Type=='Canned')&(train_df.Item_Fat_Content=='Regular')&(train_df.Item_Weight.notna())].Item_Weight.mean()\n",
    "train_df.loc[(train_df.Item_Type=='Canned')&(train_df.Item_Fat_Content=='Regular')&(train_df.Item_Weight.isna()),'Item_Weight']=can_reg\n",
    "\n",
    "can_lf=train_df[(train_df.Item_Type=='Canned')&(train_df.Item_Fat_Content=='Low Fat')&(train_df.Item_Weight.notna())].Item_Weight.mean()\n",
    "train_df.loc[(train_df.Item_Type=='Canned')&(train_df.Item_Fat_Content=='Low Fat')&(train_df.Item_Weight.isna()),'Item_Weight']=can_lf\n",
    "#Baking Goods\n",
    "bake_reg=train_df[(train_df.Item_Type=='Baking Goods')&(train_df.Item_Fat_Content=='Regular')&(train_df.Item_Weight.notna())].Item_Weight.mean()\n",
    "train_df.loc[(train_df.Item_Type=='Baking Goods')&(train_df.Item_Fat_Content=='Regular')&(train_df.Item_Weight.isna()),'Item_Weight']=bake_reg\n",
    "\n",
    "bake_lf=train_df[(train_df.Item_Type=='Baking Goods')&(train_df.Item_Fat_Content=='Low Fat')&(train_df.Item_Weight.notna())].Item_Weight.mean()\n",
    "train_df.loc[(train_df.Item_Type=='Baking Goods')&(train_df.Item_Fat_Content=='Low Fat')&(train_df.Item_Weight.isna()),'Item_Weight']=bake_lf\n",
    "#Health and Hygiene\n",
    "health_lf=train_df[(train_df.Item_Type=='Health and Hygiene')&(train_df.Item_Fat_Content=='Low Fat')&(train_df.Item_Weight.notna())].Item_Weight.mean()\n",
    "train_df.loc[(train_df.Item_Type=='Health and Hygiene')&(train_df.Item_Fat_Content=='Low Fat')&(train_df.Item_Weight.isna()),'Item_Weight']=health_lf\n",
    "\n",
    "#Soft Drinks\n",
    "soft_reg=train_df[(train_df.Item_Type=='Soft Drinks')&(train_df.Item_Fat_Content=='Regular')&(train_df.Item_Weight.notna())].Item_Weight.mean()\n",
    "train_df.loc[(train_df.Item_Type=='Soft Drinks')&(train_df.Item_Fat_Content=='Regular')&(train_df.Item_Weight.isna()),'Item_Weight']=soft_reg\n",
    "\n",
    "soft_lf=train_df[(train_df.Item_Type=='Soft Drinks')&(train_df.Item_Fat_Content=='Low Fat')&(train_df.Item_Weight.notna())].Item_Weight.mean()\n",
    "train_df.loc[(train_df.Item_Type=='Soft Drinks')&(train_df.Item_Fat_Content=='Low Fat')&(train_df.Item_Weight.isna()),'Item_Weight']=soft_lf\n",
    "\n",
    "#Meat\n",
    "meat_reg=train_df[(train_df.Item_Type=='Meat')&(train_df.Item_Fat_Content=='Regular')&(train_df.Item_Weight.notna())].Item_Weight.mean()\n",
    "train_df.loc[(train_df.Item_Type=='Meat')&(train_df.Item_Fat_Content=='Regular')&(train_df.Item_Weight.isna()),'Item_Weight']=meat_reg\n",
    "\n",
    "meat_lf=train_df[(train_df.Item_Type=='Meat')&(train_df.Item_Fat_Content=='Low Fat')&(train_df.Item_Weight.notna())].Item_Weight.mean()\n",
    "train_df.loc[(train_df.Item_Type=='Meat')&(train_df.Item_Fat_Content=='Low Fat')&(train_df.Item_Weight.isna()),'Item_Weight']=meat_lf\n",
    "\n",
    "#Hard Drinks\n",
    "hard_reg=train_df[(train_df.Item_Type=='Hard Drinks')&(train_df.Item_Fat_Content=='Low Fat')&(train_df.Item_Weight.notna())].Item_Weight.mean()\n",
    "train_df.loc[(train_df.Item_Type=='Hard Drinks')&(train_df.Item_Fat_Content=='Low Fat')&(train_df.Item_Weight.isna()),'Item_Weight']=hard_reg\n",
    "\n",
    "#Breads\n",
    "bread_reg=train_df[(train_df.Item_Type=='Breads')&(train_df.Item_Fat_Content=='Regular')&(train_df.Item_Weight.notna())].Item_Weight.mean()\n",
    "train_df.loc[(train_df.Item_Type=='Breads')&(train_df.Item_Fat_Content=='Regular')&(train_df.Item_Weight.isna()),'Item_Weight']=bread_reg\n",
    "\n",
    "bread_lf=train_df[(train_df.Item_Type=='Breads')&(train_df.Item_Fat_Content=='Low Fat')&(train_df.Item_Weight.notna())].Item_Weight.mean()\n",
    "train_df.loc[(train_df.Item_Type=='Breads')&(train_df.Item_Fat_Content=='Low Fat')&(train_df.Item_Weight.isna()),'Item_Weight']=bread_lf\n",
    "\n",
    "#Starchy Foods\n",
    "starch_reg=train_df[(train_df.Item_Type=='Starchy Foods')&(train_df.Item_Fat_Content=='Regular')&(train_df.Item_Weight.notna())].Item_Weight.mean()\n",
    "train_df.loc[(train_df.Item_Type=='Starchy Foods')&(train_df.Item_Fat_Content=='Regular')&(train_df.Item_Weight.isna()),'Item_Weight']=starch_reg\n",
    "\n",
    "starch_lf=train_df[(train_df.Item_Type=='Starchy Foods')&(train_df.Item_Fat_Content=='Low Fat')&(train_df.Item_Weight.notna())].Item_Weight.mean()\n",
    "train_df.loc[(train_df.Item_Type=='Starchy Foods')&(train_df.Item_Fat_Content=='Low Fat')&(train_df.Item_Weight.isna()),'Item_Weight']=starch_lf\n",
    "\n",
    "#Breakfast\n",
    "break_reg=train_df[(train_df.Item_Type=='Breakfast')&(train_df.Item_Fat_Content=='Regular')&(train_df.Item_Weight.notna())].Item_Weight.mean()\n",
    "train_df.loc[(train_df.Item_Type=='Breakfast')&(train_df.Item_Fat_Content=='Regular')&(train_df.Item_Weight.isna()),'Item_Weight']=break_reg\n",
    "\n",
    "break_lf=train_df[(train_df.Item_Type=='Breakfast')&(train_df.Item_Fat_Content=='Low Fat')&(train_df.Item_Weight.notna())].Item_Weight.mean()\n",
    "train_df.loc[(train_df.Item_Type=='Breakfast')&(train_df.Item_Fat_Content=='Low Fat')&(train_df.Item_Weight.isna()),'Item_Weight']=break_lf\n",
    "\n",
    "#Seafood\n",
    "sea_reg=train_df[(train_df.Item_Type=='Seafood')&(train_df.Item_Fat_Content=='Regular')&(train_df.Item_Weight.notna())].Item_Weight.mean()\n",
    "train_df.loc[(train_df.Item_Type=='Seafood')&(train_df.Item_Fat_Content=='Regular')&(train_df.Item_Weight.isna()),'Item_Weight']=sea_reg\n",
    "\n",
    "sea_lf=train_df[(train_df.Item_Type=='Seafood')&(train_df.Item_Fat_Content=='Low Fat')&(train_df.Item_Weight.notna())].Item_Weight.mean()\n",
    "train_df.loc[(train_df.Item_Type=='Seafood')&(train_df.Item_Fat_Content=='Low Fat')&(train_df.Item_Weight.isna()),'Item_Weight']=sea_lf\n",
    "\n",
    "#others\n",
    "others=train_df[(train_df.Item_Type=='Others')&(train_df.Item_Fat_Content=='Low Fat')&(train_df.Item_Weight.notna())].Item_Weight.mean()\n",
    "train_df.loc[((train_df.Item_Type=='Others')&(train_df.Item_Fat_Content=='Low Fat')&(train_df.Item_Weight.isna())),'Item_Weight']=others"
   ]
  },
  {
   "cell_type": "code",
   "execution_count": 20,
   "metadata": {},
   "outputs": [],
   "source": [
    "fvg_lf1=test_df[(test_df.Item_Type=='Fruits and Vegetables')&(test_df.Item_Fat_Content=='Low Fat')&(test_df.Item_Weight.notna())].Item_Weight.mean()\n",
    "test_df.loc[(train_df.Item_Type=='Fruits and Vegetables')&(test_df.Item_Fat_Content=='Low Fat')&(test_df.Item_Weight.isna()),'Item_Weight']=fvg_lf1\n",
    "\n",
    "#snack food\n",
    "snack_reg1=test_df[(test_df.Item_Type=='Snack Foods')&(test_df.Item_Fat_Content=='Regular')&(test_df.Item_Weight.notna())].Item_Weight.mean()\n",
    "test_df.loc[(test_df.Item_Type=='Snack Foods')&(test_df.Item_Fat_Content=='Regular')&(test_df.Item_Weight.isna()),'Item_Weight']=snack_reg1\n",
    "\n",
    "snack_lf1=test_df[(test_df.Item_Type=='Snack Foods')&(test_df.Item_Fat_Content=='Low Fat')&(test_df.Item_Weight.notna())].Item_Weight.mean()\n",
    "test_df.loc[(test_df.Item_Type=='Snack Foods')&(test_df.Item_Fat_Content=='Low Fat')&(test_df.Item_Weight.isna()),'Item_Weight']=snack_lf1\n",
    "\n",
    "#Frozen Foods\n",
    "ff_reg1=test_df[(test_df.Item_Type=='Frozen Foods')&(test_df.Item_Fat_Content=='Regular')&(test_df.Item_Weight.notna())].Item_Weight.mean()\n",
    "test_df.loc[(test_df.Item_Type=='Frozen Foods')&(test_df.Item_Fat_Content=='Regular')&(test_df.Item_Weight.isna()),'Item_Weight']=ff_reg1\n",
    "\n",
    "ff_lf1=test_df[(test_df.Item_Type=='Frozen Foods')&(test_df.Item_Fat_Content=='Low Fat')&(test_df.Item_Weight.notna())].Item_Weight.mean()\n",
    "test_df.loc[(test_df.Item_Type=='Frozen Foods')&(test_df.Item_Fat_Content=='Low Fat')&(test_df.Item_Weight.isna()),'Item_Weight']=ff_lf1\n",
    "\n",
    "#Household\n",
    "\n",
    "\n",
    "hh_lf1=test_df[(test_df.Item_Type=='Household')&(test_df.Item_Fat_Content=='Low Fat')&(test_df.Item_Weight.notna())].Item_Weight.mean()\n",
    "test_df.loc[(test_df.Item_Type=='Household')&(test_df.Item_Fat_Content=='Low Fat')&(test_df.Item_Weight.isna()),'Item_Weight']=hh_lf1\n",
    "\n",
    "#Dairy\n",
    "dairy_reg1=test_df[(test_df.Item_Type=='Dairy')&(test_df.Item_Fat_Content=='Regular')&(test_df.Item_Weight.notna())].Item_Weight.mean()\n",
    "test_df.loc[(test_df.Item_Type=='Dairy')&(test_df.Item_Fat_Content=='Regular')&(test_df.Item_Weight.isna()),'Item_Weight']=dairy_reg1\n",
    "\n",
    "dairy_lf1=test_df[(test_df.Item_Type=='Dairy')&(test_df.Item_Fat_Content=='Low Fat')&(test_df.Item_Weight.notna())].Item_Weight.mean()\n",
    "test_df.loc[(test_df.Item_Type=='Dairy')&(test_df.Item_Fat_Content=='Low Fat')&(test_df.Item_Weight.isna()),'Item_Weight']=dairy_lf1\n",
    "\n",
    "#Canned\n",
    "can_reg1=test_df[(test_df.Item_Type=='Canned')&(test_df.Item_Fat_Content=='Regular')&(test_df.Item_Weight.notna())].Item_Weight.mean()\n",
    "test_df.loc[(test_df.Item_Type=='Canned')&(test_df.Item_Fat_Content=='Regular')&(test_df.Item_Weight.isna()),'Item_Weight']=can_reg1\n",
    "\n",
    "can_lf1=test_df[(test_df.Item_Type=='Canned')&(test_df.Item_Fat_Content=='Low Fat')&(test_df.Item_Weight.notna())].Item_Weight.mean()\n",
    "test_df.loc[(test_df.Item_Type=='Canned')&(test_df.Item_Fat_Content=='Low Fat')&(test_df.Item_Weight.isna()),'Item_Weight']=can_lf1\n",
    "#Baking Goods\n",
    "bake_reg1=test_df[(test_df.Item_Type=='Baking Goods')&(test_df.Item_Fat_Content=='Regular')&(test_df.Item_Weight.notna())].Item_Weight.mean()\n",
    "test_df.loc[(test_df.Item_Type=='Baking Goods')&(test_df.Item_Fat_Content=='Regular')&(test_df.Item_Weight.isna()),'Item_Weight']=bake_reg1\n",
    "\n",
    "bake_lf1=test_df[(test_df.Item_Type=='Baking Goods')&(test_df.Item_Fat_Content=='Low Fat')&(test_df.Item_Weight.notna())].Item_Weight.mean()\n",
    "test_df.loc[(test_df.Item_Type=='Baking Goods')&(test_df.Item_Fat_Content=='Low Fat')&(test_df.Item_Weight.isna()),'Item_Weight']=bake_lf1\n",
    "#Health and Hygiene\n",
    "health_lf1=test_df[(test_df.Item_Type=='Health and Hygiene')&(test_df.Item_Fat_Content=='Low Fat')&(test_df.Item_Weight.notna())].Item_Weight.mean()\n",
    "test_df.loc[(test_df.Item_Type=='Health and Hygiene')&(test_df.Item_Fat_Content=='Low Fat')&(test_df.Item_Weight.isna()),'Item_Weight']=health_lf1\n",
    "\n",
    "#Soft Drinks\n",
    "soft_reg1=test_df[(test_df.Item_Type=='Soft Drinks')&(test_df.Item_Fat_Content=='Regular')&(test_df.Item_Weight.notna())].Item_Weight.mean()\n",
    "test_df.loc[(test_df.Item_Type=='Soft Drinks')&(test_df.Item_Fat_Content=='Regular')&(test_df.Item_Weight.isna()),'Item_Weight']=soft_reg1\n",
    "\n",
    "soft_lf1=test_df[(test_df.Item_Type=='Soft Drinks')&(test_df.Item_Fat_Content=='Low Fat')&(test_df.Item_Weight.notna())].Item_Weight.mean()\n",
    "test_df.loc[(test_df.Item_Type=='Soft Drinks')&(test_df.Item_Fat_Content=='Low Fat')&(test_df.Item_Weight.isna()),'Item_Weight']=soft_lf1\n",
    "\n",
    "#Meat\n",
    "meat_reg1=test_df[(test_df.Item_Type=='Meat')&(test_df.Item_Fat_Content=='Regular')&(test_df.Item_Weight.notna())].Item_Weight.mean()\n",
    "test_df.loc[(test_df.Item_Type=='Meat')&(test_df.Item_Fat_Content=='Regular')&(test_df.Item_Weight.isna()),'Item_Weight']=meat_reg1\n",
    "\n",
    "meat_lf1=test_df[(test_df.Item_Type=='Meat')&(test_df.Item_Fat_Content=='Low Fat')&(test_df.Item_Weight.notna())].Item_Weight.mean()\n",
    "test_df.loc[(test_df.Item_Type=='Meat')&(test_df.Item_Fat_Content=='Low Fat')&(test_df.Item_Weight.isna()),'Item_Weight']=meat_lf1\n",
    "\n",
    "#Hard Drinks\n",
    "hard_reg1=test_df[(test_df.Item_Type=='Hard Drinks')&(test_df.Item_Fat_Content=='Low Fat')&(test_df.Item_Weight.notna())].Item_Weight.mean()\n",
    "test_df.loc[(test_df.Item_Type=='Hard Drinks')&(test_df.Item_Fat_Content=='Low Fat')&(test_df.Item_Weight.isna()),'Item_Weight']=hard_reg1\n",
    "\n",
    "#Breads\n",
    "bread_reg1=test_df[(test_df.Item_Type=='Breads')&(test_df.Item_Fat_Content=='Regular')&(test_df.Item_Weight.notna())].Item_Weight.mean()\n",
    "test_df.loc[(test_df.Item_Type=='Breads')&(test_df.Item_Fat_Content=='Regular')&(test_df.Item_Weight.isna()),'Item_Weight']=bread_reg1\n",
    "\n",
    "bread_lf1=test_df[(test_df.Item_Type=='Breads')&(test_df.Item_Fat_Content=='Low Fat')&(test_df.Item_Weight.notna())].Item_Weight.mean()\n",
    "test_df.loc[(test_df.Item_Type=='Breads')&(test_df.Item_Fat_Content=='Low Fat')&(test_df.Item_Weight.isna()),'Item_Weight']=bread_lf1\n",
    "\n",
    "#Starchy Foods\n",
    "starch_reg1=test_df[(test_df.Item_Type=='Starchy Foods')&(test_df.Item_Fat_Content=='Regular')&(test_df.Item_Weight.notna())].Item_Weight.mean()\n",
    "test_df.loc[(test_df.Item_Type=='Starchy Foods')&(test_df.Item_Fat_Content=='Regular')&(test_df.Item_Weight.isna()),'Item_Weight']=starch_reg1\n",
    "\n",
    "starch_lf1=test_df[(test_df.Item_Type=='Starchy Foods')&(test_df.Item_Fat_Content=='Low Fat')&(test_df.Item_Weight.notna())].Item_Weight.mean()\n",
    "test_df.loc[(test_df.Item_Type=='Starchy Foods')&(test_df.Item_Fat_Content=='Low Fat')&(test_df.Item_Weight.isna()),'Item_Weight']=starch_lf1\n",
    "\n",
    "#Breakfast\n",
    "break_reg1=test_df[(test_df.Item_Type=='Breakfast')&(test_df.Item_Fat_Content=='Regular')&(test_df.Item_Weight.notna())].Item_Weight.mean()\n",
    "test_df.loc[(test_df.Item_Type=='Breakfast')&(test_df.Item_Fat_Content=='Regular')&(test_df.Item_Weight.isna()),'Item_Weight']=break_reg1\n",
    "\n",
    "break_lf1=test_df[(test_df.Item_Type=='Breakfast')&(test_df.Item_Fat_Content=='Low Fat')&(test_df.Item_Weight.notna())].Item_Weight.mean()\n",
    "test_df.loc[(test_df.Item_Type=='Breakfast')&(test_df.Item_Fat_Content=='Low Fat')&(test_df.Item_Weight.isna()),'Item_Weight']=break_lf1\n",
    "\n",
    "#Seafood\n",
    "sea_reg1=test_df[(test_df.Item_Type=='Seafood')&(test_df.Item_Fat_Content=='Regular')&(test_df.Item_Weight.notna())].Item_Weight.mean()\n",
    "test_df.loc[(test_df.Item_Type=='Seafood')&(test_df.Item_Fat_Content=='Regular')&(test_df.Item_Weight.isna()),'Item_Weight']=sea_reg1\n",
    "\n",
    "sea_lf1=test_df[(test_df.Item_Type=='Seafood')&(test_df.Item_Fat_Content=='Low Fat')&(test_df.Item_Weight.notna())].Item_Weight.mean()\n",
    "test_df.loc[(test_df.Item_Type=='Seafood')&(test_df.Item_Fat_Content=='Low Fat')&(test_df.Item_Weight.isna()),'Item_Weight']=sea_lf1\n",
    "\n",
    "#others\n",
    "others1=test_df[(test_df.Item_Type=='Others')&(test_df.Item_Fat_Content=='Low Fat')&(test_df.Item_Weight.notna())].Item_Weight.mean()\n",
    "test_df.loc[((test_df.Item_Type=='Others')&(test_df.Item_Fat_Content=='Low Fat')&(test_df.Item_Weight.isna())),'Item_Weight']=others1"
   ]
  },
  {
   "cell_type": "markdown",
   "metadata": {},
   "source": [
    "### Outlet Size\n",
    "\n",
    "Outlet size is different in different cities and hence we will fill missing values with mode of that city type ."
   ]
  },
  {
   "cell_type": "code",
   "execution_count": 21,
   "metadata": {
    "scrolled": true
   },
   "outputs": [
    {
     "data": {
      "text/plain": [
       "Outlet_Size  Outlet_Location_Type  Outlet_Type      \n",
       "High         Tier 3                Supermarket Type1    932\n",
       "Medium       Tier 1                Supermarket Type1    930\n",
       "             Tier 3                Supermarket Type2    928\n",
       "                                   Supermarket Type3    935\n",
       "Small        Tier 1                Grocery Store        528\n",
       "                                   Supermarket Type1    930\n",
       "             Tier 2                Supermarket Type1    930\n",
       "Name: Outlet_Size, dtype: int64"
      ]
     },
     "execution_count": 21,
     "metadata": {},
     "output_type": "execute_result"
    }
   ],
   "source": [
    "train_df.groupby(['Outlet_Size','Outlet_Location_Type','Outlet_Type'])['Outlet_Size'].count()"
   ]
  },
  {
   "cell_type": "code",
   "execution_count": 22,
   "metadata": {},
   "outputs": [],
   "source": [
    "tier1=train_df[train_df.Outlet_Location_Type=='Tier 1'].Outlet_Size.mode()\n",
    "tier2=train_df[train_df.Outlet_Location_Type=='Tier 2'].Outlet_Size.mode()\n",
    "tier3=train_df[train_df.Outlet_Location_Type=='Tier 3'].Outlet_Size.mode()"
   ]
  },
  {
   "cell_type": "code",
   "execution_count": 23,
   "metadata": {},
   "outputs": [],
   "source": [
    "tier11=test_df[test_df.Outlet_Location_Type=='Tier 1'].Outlet_Size.mode()\n",
    "tier21=test_df[test_df.Outlet_Location_Type=='Tier 2'].Outlet_Size.mode()\n",
    "tier31=test_df[test_df.Outlet_Location_Type=='Tier 3'].Outlet_Size.mode()"
   ]
  },
  {
   "cell_type": "code",
   "execution_count": 24,
   "metadata": {},
   "outputs": [],
   "source": [
    "train_df.loc[(train_df.Outlet_Location_Type=='Tier 1')&(train_df.Outlet_Size.isna()),'Outlet_Size']=tier1\n",
    "train_df.loc[(train_df.Outlet_Location_Type=='Tier 2')&(train_df.Outlet_Size.isna()),'Outlet_Size']=tier2[0]\n",
    "train_df.loc[(train_df.Outlet_Location_Type=='Tier 3')&(train_df.Outlet_Size.isna()),'Outlet_Size']=tier3[0]"
   ]
  },
  {
   "cell_type": "code",
   "execution_count": 25,
   "metadata": {},
   "outputs": [],
   "source": [
    "test_df.loc[(test_df.Outlet_Location_Type=='Tier 1')&(test_df.Outlet_Size.isna()),'Outlet_Size']=tier11\n",
    "test_df.loc[(test_df.Outlet_Location_Type=='Tier 2')&(test_df.Outlet_Size.isna()),'Outlet_Size']=tier21[0]\n",
    "test_df.loc[(test_df.Outlet_Location_Type=='Tier 3')&(test_df.Outlet_Size.isna()),'Outlet_Size']=tier31[0]"
   ]
  },
  {
   "cell_type": "code",
   "execution_count": 26,
   "metadata": {},
   "outputs": [
    {
     "data": {
      "text/plain": [
       "Item_Identifier              0\n",
       "Item_Weight                  0\n",
       "Item_Fat_Content             0\n",
       "Item_Visibility              0\n",
       "Item_Type                    0\n",
       "Item_MRP                     0\n",
       "Outlet_Identifier            0\n",
       "Outlet_Establishment_Year    0\n",
       "Outlet_Size                  0\n",
       "Outlet_Location_Type         0\n",
       "Outlet_Type                  0\n",
       "Item_Outlet_Sales            0\n",
       "dtype: int64"
      ]
     },
     "execution_count": 26,
     "metadata": {},
     "output_type": "execute_result"
    }
   ],
   "source": [
    "train_df.isna().sum()"
   ]
  },
  {
   "cell_type": "markdown",
   "metadata": {},
   "source": [
    "## Identifying duplicate values "
   ]
  },
  {
   "cell_type": "code",
   "execution_count": 27,
   "metadata": {},
   "outputs": [
    {
     "data": {
      "text/plain": [
       "Outlet_Identifier\n",
       "OUT010    555\n",
       "OUT013    932\n",
       "OUT017    926\n",
       "OUT018    928\n",
       "OUT019    528\n",
       "OUT027    935\n",
       "OUT035    930\n",
       "OUT045    929\n",
       "OUT046    930\n",
       "OUT049    930\n",
       "Name: Item_Identifier, dtype: int64"
      ]
     },
     "execution_count": 27,
     "metadata": {},
     "output_type": "execute_result"
    }
   ],
   "source": [
    "train_df.groupby('Outlet_Identifier')['Item_Identifier'].count()"
   ]
  },
  {
   "cell_type": "code",
   "execution_count": 28,
   "metadata": {},
   "outputs": [
    {
     "data": {
      "text/html": [
       "<div>\n",
       "<style scoped>\n",
       "    .dataframe tbody tr th:only-of-type {\n",
       "        vertical-align: middle;\n",
       "    }\n",
       "\n",
       "    .dataframe tbody tr th {\n",
       "        vertical-align: top;\n",
       "    }\n",
       "\n",
       "    .dataframe thead th {\n",
       "        text-align: right;\n",
       "    }\n",
       "</style>\n",
       "<table border=\"1\" class=\"dataframe\">\n",
       "  <thead>\n",
       "    <tr style=\"text-align: right;\">\n",
       "      <th></th>\n",
       "      <th>Item_Weight</th>\n",
       "      <th>Item_Visibility</th>\n",
       "      <th>Item_MRP</th>\n",
       "      <th>Outlet_Establishment_Year</th>\n",
       "      <th>Item_Outlet_Sales</th>\n",
       "    </tr>\n",
       "  </thead>\n",
       "  <tbody>\n",
       "    <tr>\n",
       "      <th>count</th>\n",
       "      <td>8523.000000</td>\n",
       "      <td>8523.000000</td>\n",
       "      <td>8523.000000</td>\n",
       "      <td>8523.000000</td>\n",
       "      <td>8523.000000</td>\n",
       "    </tr>\n",
       "    <tr>\n",
       "      <th>mean</th>\n",
       "      <td>12.860708</td>\n",
       "      <td>0.066132</td>\n",
       "      <td>140.992782</td>\n",
       "      <td>1997.831867</td>\n",
       "      <td>2181.288914</td>\n",
       "    </tr>\n",
       "    <tr>\n",
       "      <th>std</th>\n",
       "      <td>4.237815</td>\n",
       "      <td>0.051598</td>\n",
       "      <td>62.275067</td>\n",
       "      <td>8.371760</td>\n",
       "      <td>1706.499616</td>\n",
       "    </tr>\n",
       "    <tr>\n",
       "      <th>min</th>\n",
       "      <td>4.555000</td>\n",
       "      <td>0.000000</td>\n",
       "      <td>31.290000</td>\n",
       "      <td>1985.000000</td>\n",
       "      <td>33.290000</td>\n",
       "    </tr>\n",
       "    <tr>\n",
       "      <th>25%</th>\n",
       "      <td>9.310000</td>\n",
       "      <td>0.026989</td>\n",
       "      <td>93.826500</td>\n",
       "      <td>1987.000000</td>\n",
       "      <td>834.247400</td>\n",
       "    </tr>\n",
       "    <tr>\n",
       "      <th>50%</th>\n",
       "      <td>12.800000</td>\n",
       "      <td>0.053931</td>\n",
       "      <td>143.012800</td>\n",
       "      <td>1999.000000</td>\n",
       "      <td>1794.331000</td>\n",
       "    </tr>\n",
       "    <tr>\n",
       "      <th>75%</th>\n",
       "      <td>16.000000</td>\n",
       "      <td>0.094585</td>\n",
       "      <td>185.643700</td>\n",
       "      <td>2004.000000</td>\n",
       "      <td>3101.296400</td>\n",
       "    </tr>\n",
       "    <tr>\n",
       "      <th>max</th>\n",
       "      <td>21.350000</td>\n",
       "      <td>0.328391</td>\n",
       "      <td>266.888400</td>\n",
       "      <td>2009.000000</td>\n",
       "      <td>13086.964800</td>\n",
       "    </tr>\n",
       "  </tbody>\n",
       "</table>\n",
       "</div>"
      ],
      "text/plain": [
       "       Item_Weight  Item_Visibility     Item_MRP  Outlet_Establishment_Year  \\\n",
       "count  8523.000000      8523.000000  8523.000000                8523.000000   \n",
       "mean     12.860708         0.066132   140.992782                1997.831867   \n",
       "std       4.237815         0.051598    62.275067                   8.371760   \n",
       "min       4.555000         0.000000    31.290000                1985.000000   \n",
       "25%       9.310000         0.026989    93.826500                1987.000000   \n",
       "50%      12.800000         0.053931   143.012800                1999.000000   \n",
       "75%      16.000000         0.094585   185.643700                2004.000000   \n",
       "max      21.350000         0.328391   266.888400                2009.000000   \n",
       "\n",
       "       Item_Outlet_Sales  \n",
       "count        8523.000000  \n",
       "mean         2181.288914  \n",
       "std          1706.499616  \n",
       "min            33.290000  \n",
       "25%           834.247400  \n",
       "50%          1794.331000  \n",
       "75%          3101.296400  \n",
       "max         13086.964800  "
      ]
     },
     "execution_count": 28,
     "metadata": {},
     "output_type": "execute_result"
    }
   ],
   "source": [
    "train_df.describe()"
   ]
  },
  {
   "cell_type": "code",
   "execution_count": 29,
   "metadata": {},
   "outputs": [
    {
     "name": "stdout",
     "output_type": "stream",
     "text": [
      "There are 6964 duplicate ids for 8523 entries\n"
     ]
    }
   ],
   "source": [
    "# identifying duplicate items\n",
    "unique_items=train_df.Item_Identifier.nunique()\n",
    "total_items=train_df.shape[0]\n",
    "Dupli_items=total_items-unique_items\n",
    "print(\"There are {} duplicate ids for {} entries\".format(Dupli_items,total_items))"
   ]
  },
  {
   "cell_type": "markdown",
   "metadata": {},
   "source": [
    "These duplicates are obvious since same item has same identifier id and available in different stores."
   ]
  },
  {
   "cell_type": "markdown",
   "metadata": {},
   "source": [
    "# Exploratory Data Analysis"
   ]
  },
  {
   "cell_type": "markdown",
   "metadata": {},
   "source": [
    "## Item Outlet Sales distribution"
   ]
  },
  {
   "cell_type": "code",
   "execution_count": 30,
   "metadata": {},
   "outputs": [
    {
     "data": {
      "text/plain": [
       "Text(0.5,1,'Item_Outlet_Sales Distribution')"
      ]
     },
     "execution_count": 30,
     "metadata": {},
     "output_type": "execute_result"
    },
    {
     "data": {
      "image/png": "[encoded data removed]",
      "text/plain": [
       "<Figure size 864x504 with 1 Axes>"
      ]
     },
     "metadata": {},
     "output_type": "display_data"
    }
   ],
   "source": [
    "plt.style.use('fivethirtyeight')\n",
    "plt.figure(figsize=(12,7))\n",
    "sns.distplot(train_df.Item_Outlet_Sales, bins = 25)\n",
    "plt.ticklabel_format(style='plain', axis='x', scilimits=(0,1))\n",
    "plt.xlabel(\"Item_Outlet_Sales\")\n",
    "plt.ylabel(\"Number of Sales\")\n",
    "plt.title(\"Item_Outlet_Sales Distribution\")"
   ]
  },
  {
   "cell_type": "markdown",
   "metadata": {},
   "source": [
    "Maximum number of sales is skewed towards right and maximum sale or product is less than 2000."
   ]
  },
  {
   "cell_type": "code",
   "execution_count": 31,
   "metadata": {},
   "outputs": [
    {
     "data": {
      "text/html": [
       "<div>\n",
       "<style scoped>\n",
       "    .dataframe tbody tr th:only-of-type {\n",
       "        vertical-align: middle;\n",
       "    }\n",
       "\n",
       "    .dataframe tbody tr th {\n",
       "        vertical-align: top;\n",
       "    }\n",
       "\n",
       "    .dataframe thead th {\n",
       "        text-align: right;\n",
       "    }\n",
       "</style>\n",
       "<table border=\"1\" class=\"dataframe\">\n",
       "  <thead>\n",
       "    <tr style=\"text-align: right;\">\n",
       "      <th></th>\n",
       "      <th>Item_Identifier</th>\n",
       "      <th>Item_Weight</th>\n",
       "      <th>Item_Fat_Content</th>\n",
       "      <th>Item_Visibility</th>\n",
       "      <th>Item_Type</th>\n",
       "      <th>Item_MRP</th>\n",
       "      <th>Outlet_Identifier</th>\n",
       "      <th>Outlet_Establishment_Year</th>\n",
       "      <th>Outlet_Size</th>\n",
       "      <th>Outlet_Location_Type</th>\n",
       "      <th>Outlet_Type</th>\n",
       "      <th>Item_Outlet_Sales</th>\n",
       "    </tr>\n",
       "  </thead>\n",
       "  <tbody>\n",
       "    <tr>\n",
       "      <th>0</th>\n",
       "      <td>FDA15</td>\n",
       "      <td>9.30</td>\n",
       "      <td>Low Fat</td>\n",
       "      <td>0.016047</td>\n",
       "      <td>Dairy</td>\n",
       "      <td>249.8092</td>\n",
       "      <td>OUT049</td>\n",
       "      <td>1999</td>\n",
       "      <td>Medium</td>\n",
       "      <td>Tier 1</td>\n",
       "      <td>Supermarket Type1</td>\n",
       "      <td>3735.1380</td>\n",
       "    </tr>\n",
       "    <tr>\n",
       "      <th>1</th>\n",
       "      <td>DRC01</td>\n",
       "      <td>5.92</td>\n",
       "      <td>Regular</td>\n",
       "      <td>0.019278</td>\n",
       "      <td>Soft Drinks</td>\n",
       "      <td>48.2692</td>\n",
       "      <td>OUT018</td>\n",
       "      <td>2009</td>\n",
       "      <td>Medium</td>\n",
       "      <td>Tier 3</td>\n",
       "      <td>Supermarket Type2</td>\n",
       "      <td>443.4228</td>\n",
       "    </tr>\n",
       "    <tr>\n",
       "      <th>2</th>\n",
       "      <td>FDN15</td>\n",
       "      <td>17.50</td>\n",
       "      <td>Low Fat</td>\n",
       "      <td>0.016760</td>\n",
       "      <td>Meat</td>\n",
       "      <td>141.6180</td>\n",
       "      <td>OUT049</td>\n",
       "      <td>1999</td>\n",
       "      <td>Medium</td>\n",
       "      <td>Tier 1</td>\n",
       "      <td>Supermarket Type1</td>\n",
       "      <td>2097.2700</td>\n",
       "    </tr>\n",
       "    <tr>\n",
       "      <th>3</th>\n",
       "      <td>FDX07</td>\n",
       "      <td>19.20</td>\n",
       "      <td>Regular</td>\n",
       "      <td>0.000000</td>\n",
       "      <td>Fruits and Vegetables</td>\n",
       "      <td>182.0950</td>\n",
       "      <td>OUT010</td>\n",
       "      <td>1998</td>\n",
       "      <td>Medium</td>\n",
       "      <td>Tier 3</td>\n",
       "      <td>Grocery Store</td>\n",
       "      <td>732.3800</td>\n",
       "    </tr>\n",
       "    <tr>\n",
       "      <th>4</th>\n",
       "      <td>NCD19</td>\n",
       "      <td>8.93</td>\n",
       "      <td>Low Fat</td>\n",
       "      <td>0.000000</td>\n",
       "      <td>Household</td>\n",
       "      <td>53.8614</td>\n",
       "      <td>OUT013</td>\n",
       "      <td>1987</td>\n",
       "      <td>High</td>\n",
       "      <td>Tier 3</td>\n",
       "      <td>Supermarket Type1</td>\n",
       "      <td>994.7052</td>\n",
       "    </tr>\n",
       "  </tbody>\n",
       "</table>\n",
       "</div>"
      ],
      "text/plain": [
       "  Item_Identifier  Item_Weight Item_Fat_Content  Item_Visibility  \\\n",
       "0           FDA15         9.30          Low Fat         0.016047   \n",
       "1           DRC01         5.92          Regular         0.019278   \n",
       "2           FDN15        17.50          Low Fat         0.016760   \n",
       "3           FDX07        19.20          Regular         0.000000   \n",
       "4           NCD19         8.93          Low Fat         0.000000   \n",
       "\n",
       "               Item_Type  Item_MRP Outlet_Identifier  \\\n",
       "0                  Dairy  249.8092            OUT049   \n",
       "1            Soft Drinks   48.2692            OUT018   \n",
       "2                   Meat  141.6180            OUT049   \n",
       "3  Fruits and Vegetables  182.0950            OUT010   \n",
       "4              Household   53.8614            OUT013   \n",
       "\n",
       "   Outlet_Establishment_Year Outlet_Size Outlet_Location_Type  \\\n",
       "0                       1999      Medium               Tier 1   \n",
       "1                       2009      Medium               Tier 3   \n",
       "2                       1999      Medium               Tier 1   \n",
       "3                       1998      Medium               Tier 3   \n",
       "4                       1987        High               Tier 3   \n",
       "\n",
       "         Outlet_Type  Item_Outlet_Sales  \n",
       "0  Supermarket Type1          3735.1380  \n",
       "1  Supermarket Type2           443.4228  \n",
       "2  Supermarket Type1          2097.2700  \n",
       "3      Grocery Store           732.3800  \n",
       "4  Supermarket Type1           994.7052  "
      ]
     },
     "execution_count": 31,
     "metadata": {},
     "output_type": "execute_result"
    }
   ],
   "source": [
    "train_df.head()"
   ]
  },
  {
   "cell_type": "code",
   "execution_count": 32,
   "metadata": {},
   "outputs": [],
   "source": [
    "corr=train_df.corr()"
   ]
  },
  {
   "cell_type": "code",
   "execution_count": 33,
   "metadata": {},
   "outputs": [
    {
     "data": {
      "image/png": "[encoded data removed]",
      "text/plain": [
       "<Figure size 864x648 with 2 Axes>"
      ]
     },
     "metadata": {},
     "output_type": "display_data"
    }
   ],
   "source": [
    "f, ax = plt.subplots(figsize=(12, 9))\n",
    "sns.heatmap(corr, vmax=.8, square=True);"
   ]
  },
  {
   "cell_type": "markdown",
   "metadata": {},
   "source": [
    "From the current numeric variables we can observe that the **Item_Visibility** is the feature with the lowest correlation with our target variable. Therefore, the less visible the product is in the store the higher the price will be. This is curious since from the initial assumptions this variables was expected to have high impact in the sales increase. Nevertheless, since this is not an expected behaviour and we should investigate. Moreover, this feature has a negative correlation with all of the other features. Furthermore, the most positive correlation belongs to **Item_MRP** ."
   ]
  },
  {
   "cell_type": "markdown",
   "metadata": {},
   "source": [
    "## Fat Content"
   ]
  },
  {
   "cell_type": "code",
   "execution_count": 34,
   "metadata": {},
   "outputs": [
    {
     "data": {
      "text/plain": [
       "<matplotlib.axes._subplots.AxesSubplot at 0x19c3eaa11d0>"
      ]
     },
     "execution_count": 34,
     "metadata": {},
     "output_type": "execute_result"
    },
    {
     "data": {
      "image/png": "[encoded data removed]",
      "text/plain": [
       "<Figure size 432x288 with 1 Axes>"
      ]
     },
     "metadata": {},
     "output_type": "display_data"
    }
   ],
   "source": [
    "sns.countplot(x='Item_Fat_Content',data=train_df)"
   ]
  },
  {
   "cell_type": "markdown",
   "metadata": {},
   "source": [
    "Maximum number of items are Low Fat Content"
   ]
  },
  {
   "cell_type": "code",
   "execution_count": 35,
   "metadata": {},
   "outputs": [
    {
     "data": {
      "text/plain": [
       "<matplotlib.axes._subplots.AxesSubplot at 0x19c3eafc278>"
      ]
     },
     "execution_count": 35,
     "metadata": {},
     "output_type": "execute_result"
    },
    {
     "data": {
      "image/png": "[encoded data removed]",
      "text/plain": [
       "<Figure size 432x288 with 1 Axes>"
      ]
     },
     "metadata": {},
     "output_type": "display_data"
    }
   ],
   "source": [
    "sns.boxplot(y='Item_Weight',x='Item_Fat_Content',data=train_df)"
   ]
  },
  {
   "cell_type": "code",
   "execution_count": 36,
   "metadata": {},
   "outputs": [
    {
     "data": {
      "text/plain": [
       "<matplotlib.axes._subplots.AxesSubplot at 0x19c3eb55b70>"
      ]
     },
     "execution_count": 36,
     "metadata": {},
     "output_type": "execute_result"
    },
    {
     "data": {
      "image/png": "[encoded data removed]",
      "text/plain": [
       "<Figure size 432x288 with 1 Axes>"
      ]
     },
     "metadata": {},
     "output_type": "display_data"
    }
   ],
   "source": [
    "sns.boxplot(y='Item_MRP',x='Item_Fat_Content',data=train_df)"
   ]
  },
  {
   "cell_type": "code",
   "execution_count": 37,
   "metadata": {},
   "outputs": [
    {
     "data": {
      "text/plain": [
       "count    5517.000000\n",
       "mean      140.714098\n",
       "std        62.311756\n",
       "min        31.290000\n",
       "25%        94.477800\n",
       "50%       142.081200\n",
       "75%       185.089800\n",
       "max       266.888400\n",
       "Name: Item_MRP, dtype: float64"
      ]
     },
     "execution_count": 37,
     "metadata": {},
     "output_type": "execute_result"
    }
   ],
   "source": [
    "train_df[train_df.Item_Fat_Content=='Low Fat']['Item_MRP'].describe()"
   ]
  },
  {
   "cell_type": "code",
   "execution_count": 38,
   "metadata": {},
   "outputs": [
    {
     "data": {
      "text/plain": [
       "count    3006.000000\n",
       "mean      141.504259\n",
       "std        62.214786\n",
       "min        32.055800\n",
       "25%        92.221200\n",
       "50%       144.044400\n",
       "75%       186.521400\n",
       "max       266.888400\n",
       "Name: Item_MRP, dtype: float64"
      ]
     },
     "execution_count": 38,
     "metadata": {},
     "output_type": "execute_result"
    }
   ],
   "source": [
    "train_df[train_df.Item_Fat_Content=='Regular']['Item_MRP'].describe()"
   ]
  },
  {
   "cell_type": "code",
   "execution_count": 39,
   "metadata": {},
   "outputs": [
    {
     "data": {
      "text/plain": [
       "<matplotlib.axes._subplots.AxesSubplot at 0x19c3eda6ac8>"
      ]
     },
     "execution_count": 39,
     "metadata": {},
     "output_type": "execute_result"
    },
    {
     "data": {
      "image/png": "[encoded data removed]",
      "text/plain": [
       "<Figure size 432x288 with 1 Axes>"
      ]
     },
     "metadata": {},
     "output_type": "display_data"
    }
   ],
   "source": [
    "sns.distplot(train_df[train_df.Item_Fat_Content=='Regular']['Item_Outlet_Sales'],kde=True,color='r')\n",
    "sns.distplot(train_df[train_df.Item_Fat_Content=='Low Fat']['Item_Outlet_Sales'],kde=True,color='b')\n"
   ]
  },
  {
   "cell_type": "markdown",
   "metadata": {},
   "source": [
    "*Observation* :\n",
    "1. Maximum of Items to be sold are low fat content.\n",
    "2. There is no much difference in Item Weight and Item MRP distribution of Low Fat and Regular items.\n",
    "3. There is not much difference in Item Outlet sales distribution according to fat content"
   ]
  },
  {
   "cell_type": "markdown",
   "metadata": {},
   "source": [
    "## Item Types sales"
   ]
  },
  {
   "cell_type": "code",
   "execution_count": 40,
   "metadata": {},
   "outputs": [
    {
     "data": {
      "text/plain": [
       "(array([ 0,  1,  2,  3,  4,  5,  6,  7,  8,  9, 10, 11, 12, 13, 14, 15]),\n",
       " <a list of 16 Text xticklabel objects>)"
      ]
     },
     "execution_count": 40,
     "metadata": {},
     "output_type": "execute_result"
    },
    {
     "data": {
      "image/png": "[encoded data removed]",
      "text/plain": [
       "<Figure size 432x288 with 1 Axes>"
      ]
     },
     "metadata": {},
     "output_type": "display_data"
    }
   ],
   "source": [
    "sns.countplot(x='Item_Type',data=train_df)\n",
    "plt.xticks(rotation=90)"
   ]
  },
  {
   "cell_type": "code",
   "execution_count": 41,
   "metadata": {},
   "outputs": [
    {
     "data": {
      "text/plain": [
       "<matplotlib.axes._subplots.AxesSubplot at 0x19c3ef01ef0>"
      ]
     },
     "execution_count": 41,
     "metadata": {},
     "output_type": "execute_result"
    },
    {
     "data": {
      "image/png": "[encoded data removed]",
      "text/plain": [
       "<Figure size 432x288 with 1 Axes>"
      ]
     },
     "metadata": {},
     "output_type": "display_data"
    }
   ],
   "source": [
    "# Sales by Item type\n",
    "train_df.groupby('Item_Type')['Item_Outlet_Sales'].sum().plot(kind='bar')"
   ]
  },
  {
   "cell_type": "markdown",
   "metadata": {},
   "source": [
    "*Observation:*\n",
    "1. Maximum Item types available and has maximum sales proposition is Fruits and Vegetables and Snack Food showing that these are most popular items for sale."
   ]
  },
  {
   "cell_type": "markdown",
   "metadata": {},
   "source": [
    "## Understanding Outlets"
   ]
  },
  {
   "cell_type": "markdown",
   "metadata": {},
   "source": [
    "### Outlet Establish date and sales"
   ]
  },
  {
   "cell_type": "code",
   "execution_count": 42,
   "metadata": {},
   "outputs": [
    {
     "data": {
      "text/plain": [
       "Text(0.5,1,'Sales from stores according to year of establishment')"
      ]
     },
     "execution_count": 42,
     "metadata": {},
     "output_type": "execute_result"
    },
    {
     "data": {
      "image/png": "[encoded data removed]",
      "text/plain": [
       "<Figure size 432x288 with 1 Axes>"
      ]
     },
     "metadata": {},
     "output_type": "display_data"
    }
   ],
   "source": [
    "train_df.groupby('Outlet_Establishment_Year')['Item_Outlet_Sales'].sum().plot(kind='bar')\n",
    "plt.ylabel('Sales')\n",
    "plt.title('Sales from stores according to year of establishment')"
   ]
  },
  {
   "cell_type": "code",
   "execution_count": 43,
   "metadata": {},
   "outputs": [
    {
     "data": {
      "text/plain": [
       "Text(0.5,1,'Number of outlets established year wise')"
      ]
     },
     "execution_count": 43,
     "metadata": {},
     "output_type": "execute_result"
    },
    {
     "data": {
      "image/png": "[encoded data removed]",
      "text/plain": [
       "<Figure size 432x288 with 1 Axes>"
      ]
     },
     "metadata": {},
     "output_type": "display_data"
    }
   ],
   "source": [
    "train_df.groupby('Outlet_Establishment_Year')['Outlet_Identifier'].count().plot(kind='bar')\n",
    "plt.ylabel('Number of outlets')\n",
    "plt.title('Number of outlets established year wise')"
   ]
  },
  {
   "cell_type": "code",
   "execution_count": 44,
   "metadata": {
    "scrolled": true
   },
   "outputs": [
    {
     "data": {
      "text/plain": [
       "<matplotlib.axes._subplots.AxesSubplot at 0x19c3f356cf8>"
      ]
     },
     "execution_count": 44,
     "metadata": {},
     "output_type": "execute_result"
    },
    {
     "data": {
      "image/png": "[encoded data removed]",
      "text/plain": [
       "<Figure size 432x288 with 1 Axes>"
      ]
     },
     "metadata": {},
     "output_type": "display_data"
    }
   ],
   "source": [
    "sns.countplot('Outlet_Establishment_Year',hue='Outlet_Size',data=train_df)"
   ]
  },
  {
   "cell_type": "code",
   "execution_count": 45,
   "metadata": {},
   "outputs": [
    {
     "data": {
      "text/plain": [
       "<matplotlib.axes._subplots.AxesSubplot at 0x19c3f407908>"
      ]
     },
     "execution_count": 45,
     "metadata": {},
     "output_type": "execute_result"
    },
    {
     "data": {
      "image/png": "[encoded data removed]",
      "text/plain": [
       "<Figure size 432x288 with 1 Axes>"
      ]
     },
     "metadata": {},
     "output_type": "display_data"
    }
   ],
   "source": [
    "sns.countplot('Outlet_Establishment_Year',hue='Outlet_Location_Type',data=train_df)"
   ]
  },
  {
   "cell_type": "code",
   "execution_count": 46,
   "metadata": {},
   "outputs": [
    {
     "data": {
      "text/plain": [
       "Outlet_Establishment_Year  Outlet_Size  Outlet_Location_Type  Outlet_Type      \n",
       "1985                       Medium       Tier 3                Supermarket Type3    935\n",
       "                           Small        Tier 1                Grocery Store        528\n",
       "1987                       High         Tier 3                Supermarket Type1    932\n",
       "1997                       Small        Tier 1                Supermarket Type1    930\n",
       "1998                       Medium       Tier 3                Grocery Store        555\n",
       "1999                       Medium       Tier 1                Supermarket Type1    930\n",
       "2002                       Small        Tier 2                Supermarket Type1    929\n",
       "2004                       Small        Tier 2                Supermarket Type1    930\n",
       "2007                       Small        Tier 2                Supermarket Type1    926\n",
       "2009                       Medium       Tier 3                Supermarket Type2    928\n",
       "Name: Outlet_Size, dtype: int64"
      ]
     },
     "execution_count": 46,
     "metadata": {},
     "output_type": "execute_result"
    }
   ],
   "source": [
    "train_df.groupby(['Outlet_Establishment_Year','Outlet_Size','Outlet_Location_Type','Outlet_Type'])['Outlet_Size'].count()"
   ]
  },
  {
   "cell_type": "markdown",
   "metadata": {},
   "source": [
    "*Obesrvation:*\n",
    "1. Maximum amount of revenue is earned by outlets which were established earlier.\n",
    "2. Maximum number of outlets were established in year 1985 and government has since then BigMart has probably ensured target of same number of Outlets in later years.\n",
    "3. The outlets established in year 1998 contribute minumum revenue to BigMart sales. While cumulative revenue of stores establishe in other years is almost same.\n",
    "4. Stores opened in 1998 are all Grocery stores in in Tier 3 cities. My hypothesis is that Medium size stores and grocery stores has less sales as compared to other types of stores."
   ]
  },
  {
   "cell_type": "markdown",
   "metadata": {},
   "source": [
    "### Outlets according to size"
   ]
  },
  {
   "cell_type": "code",
   "execution_count": 47,
   "metadata": {},
   "outputs": [
    {
     "data": {
      "text/plain": [
       "Text(0.5,1,'Number of Outlets according to size')"
      ]
     },
     "execution_count": 47,
     "metadata": {},
     "output_type": "execute_result"
    },
    {
     "data": {
      "image/png": "[encoded data removed]",
      "text/plain": [
       "<Figure size 432x288 with 1 Axes>"
      ]
     },
     "metadata": {},
     "output_type": "display_data"
    }
   ],
   "source": [
    "sns.countplot('Outlet_Size',data=train_df)\n",
    "plt.title('Number of Outlets according to size')"
   ]
  },
  {
   "cell_type": "code",
   "execution_count": 48,
   "metadata": {},
   "outputs": [
    {
     "data": {
      "text/plain": [
       "Text(0.5,1,'Revenue per Outlet Size')"
      ]
     },
     "execution_count": 48,
     "metadata": {},
     "output_type": "execute_result"
    },
    {
     "data": {
      "image/png": "[encoded data removed]",
      "text/plain": [
       "<Figure size 432x288 with 1 Axes>"
      ]
     },
     "metadata": {},
     "output_type": "display_data"
    }
   ],
   "source": [
    "train_df.groupby('Outlet_Size')['Item_Outlet_Sales'].sum().plot(kind='bar')\n",
    "plt.ylabel('Total Sales(in millions) ')\n",
    "plt.title('Revenue per Outlet Size')"
   ]
  },
  {
   "cell_type": "markdown",
   "metadata": {},
   "source": [
    "*Observation:*\n",
    "1. BigMart is more focused on establishing stores  in medium and small sizes as compared to bigger sizes.\n",
    "2. Revenue generation is also high from medium and small stores."
   ]
  },
  {
   "cell_type": "markdown",
   "metadata": {},
   "source": [
    "### Outlet Location Type"
   ]
  },
  {
   "cell_type": "code",
   "execution_count": 49,
   "metadata": {},
   "outputs": [
    {
     "data": {
      "text/plain": [
       "Text(0.5,1,'Number of stores according to location types')"
      ]
     },
     "execution_count": 49,
     "metadata": {},
     "output_type": "execute_result"
    },
    {
     "data": {
      "image/png": "[encoded data removed]",
      "text/plain": [
       "<Figure size 432x288 with 1 Axes>"
      ]
     },
     "metadata": {},
     "output_type": "display_data"
    }
   ],
   "source": [
    "sns.countplot('Outlet_Location_Type',data=train_df)\n",
    "plt.title('Number of stores according to location types')"
   ]
  },
  {
   "cell_type": "code",
   "execution_count": 50,
   "metadata": {},
   "outputs": [
    {
     "data": {
      "text/plain": [
       "Text(0.5,1,'Total revenue by store location types')"
      ]
     },
     "execution_count": 50,
     "metadata": {},
     "output_type": "execute_result"
    },
    {
     "data": {
      "image/png": "[encoded data removed]",
      "text/plain": [
       "<Figure size 432x288 with 1 Axes>"
      ]
     },
     "metadata": {},
     "output_type": "display_data"
    }
   ],
   "source": [
    "train_df.groupby('Outlet_Location_Type')['Item_Outlet_Sales'].sum().plot(kind='bar')\n",
    "plt.ylabel('Sales in millions')\n",
    "plt.title(\"Total revenue by store location types\")"
   ]
  },
  {
   "cell_type": "markdown",
   "metadata": {},
   "source": [
    "*Observation:*\n",
    "1. BigMart is focused more on establishng stores and earning revenues from Tier 2 and Tier 3 cities.\n",
    "2. Big Mart established stores in Tier 1 cities in earlier years of establishment and shifted to Type 2 and Type 3 cities in later years.\n",
    "3. BigMart strategy of building bigsize stores to small and medium size stores also got shifted."
   ]
  },
  {
   "cell_type": "markdown",
   "metadata": {},
   "source": [
    "### Outlet Type"
   ]
  },
  {
   "cell_type": "code",
   "execution_count": 51,
   "metadata": {},
   "outputs": [
    {
     "data": {
      "text/plain": [
       "Text(0.5,1,'Count of Outlets according to their type')"
      ]
     },
     "execution_count": 51,
     "metadata": {},
     "output_type": "execute_result"
    },
    {
     "data": {
      "image/png": "[encoded data removed]",
      "text/plain": [
       "<Figure size 432x288 with 1 Axes>"
      ]
     },
     "metadata": {},
     "output_type": "display_data"
    }
   ],
   "source": [
    "sns.countplot('Outlet_Type',data=train_df)\n",
    "plt.xticks(rotation=90)\n",
    "plt.title('Count of Outlets according to their type')"
   ]
  },
  {
   "cell_type": "code",
   "execution_count": 52,
   "metadata": {},
   "outputs": [
    {
     "data": {
      "text/plain": [
       "Text(0,0.5,'')"
      ]
     },
     "execution_count": 52,
     "metadata": {},
     "output_type": "execute_result"
    },
    {
     "data": {
      "image/png": "[encoded data removed]",
      "text/plain": [
       "<Figure size 432x288 with 1 Axes>"
      ]
     },
     "metadata": {},
     "output_type": "display_data"
    }
   ],
   "source": [
    "train_df.groupby('Outlet_Type')['Item_Outlet_Sales'].sum().plot(kind='bar')\n",
    "plt.ylabel('')"
   ]
  },
  {
   "cell_type": "code",
   "execution_count": 53,
   "metadata": {},
   "outputs": [
    {
     "data": {
      "text/plain": [
       "(array([0, 1, 2, 3]), <a list of 4 Text xticklabel objects>)"
      ]
     },
     "execution_count": 53,
     "metadata": {},
     "output_type": "execute_result"
    },
    {
     "data": {
      "image/png": "[encoded data removed]",
      "text/plain": [
       "<Figure size 432x288 with 1 Axes>"
      ]
     },
     "metadata": {},
     "output_type": "display_data"
    }
   ],
   "source": [
    "sns.barplot(x='Outlet_Type',y='Item_Outlet_Sales',hue='Outlet_Location_Type',data=train_df)\n",
    "plt.xticks(rotation=90)"
   ]
  },
  {
   "cell_type": "code",
   "execution_count": 54,
   "metadata": {},
   "outputs": [
    {
     "data": {
      "text/plain": [
       "Text(0.5,1,'Sales at different outlet types location wise')"
      ]
     },
     "execution_count": 54,
     "metadata": {},
     "output_type": "execute_result"
    },
    {
     "data": {
      "image/png": "[encoded data removed]",
      "text/plain": [
       "<Figure size 432x288 with 1 Axes>"
      ]
     },
     "metadata": {},
     "output_type": "display_data"
    }
   ],
   "source": [
    "train_pivot=train_df.pivot_table(index='Outlet_Location_Type',columns='Outlet_Type',values='Item_Outlet_Sales',aggfunc=np.sum)\n",
    "train_pivot.plot(kind='bar')\n",
    "plt.ylabel('Sales')\n",
    "plt.title('Sales at different outlet types location wise')"
   ]
  },
  {
   "cell_type": "code",
   "execution_count": 55,
   "metadata": {},
   "outputs": [
    {
     "data": {
      "text/plain": [
       "(array([0, 1, 2, 3]), <a list of 4 Text xticklabel objects>)"
      ]
     },
     "execution_count": 55,
     "metadata": {},
     "output_type": "execute_result"
    },
    {
     "data": {
      "image/png": "[encoded data removed]",
      "text/plain": [
       "<Figure size 432x288 with 1 Axes>"
      ]
     },
     "metadata": {},
     "output_type": "display_data"
    }
   ],
   "source": [
    "sns.countplot('Outlet_Type',hue='Outlet_Size',data=train_df)\n",
    "plt.xticks(rotation=90)"
   ]
  },
  {
   "cell_type": "markdown",
   "metadata": {},
   "source": [
    "*Observation:*\n",
    "1. Maximum number of stores at Supermarket Type 1 and maximum of which are of small size.\n",
    "2. Most of Type 1 supermakets are Tier 2 cities.\n",
    "3. Tier 3 cities have all 4 different types of stores.\n",
    "4. Maximum revenue is earned also by Type 1 Super market and minimum by groceries which are established in Tier1 and Tier 3 cities."
   ]
  },
  {
   "cell_type": "markdown",
   "metadata": {},
   "source": [
    "### Outlets and Sales"
   ]
  },
  {
   "cell_type": "code",
   "execution_count": 56,
   "metadata": {},
   "outputs": [
    {
     "data": {
      "text/plain": [
       "Text(0.5,1,'Outlet mean sale')"
      ]
     },
     "execution_count": 56,
     "metadata": {},
     "output_type": "execute_result"
    },
    {
     "data": {
      "image/png": "[encoded data removed]",
      "text/plain": [
       "<Figure size 432x288 with 1 Axes>"
      ]
     },
     "metadata": {},
     "output_type": "display_data"
    }
   ],
   "source": [
    "train_df.groupby('Outlet_Identifier')['Item_Outlet_Sales'].mean().plot(kind='bar',color='b')\n",
    "plt.ylabel('Mean Sales')\n",
    "plt.title('Outlet mean sale')"
   ]
  },
  {
   "cell_type": "code",
   "execution_count": 57,
   "metadata": {},
   "outputs": [
    {
     "data": {
      "text/plain": [
       "Text(0.5,1,'Outlet Revenue sales')"
      ]
     },
     "execution_count": 57,
     "metadata": {},
     "output_type": "execute_result"
    },
    {
     "data": {
      "image/png": "[encoded data removed]",
      "text/plain": [
       "<Figure size 432x288 with 1 Axes>"
      ]
     },
     "metadata": {},
     "output_type": "display_data"
    }
   ],
   "source": [
    "train_df.groupby('Outlet_Identifier')['Item_Outlet_Sales'].sum().plot(kind='bar',color='b')\n",
    "plt.ylabel('Revenue Sales')\n",
    "plt.title('Outlet Revenue sales')"
   ]
  },
  {
   "cell_type": "code",
   "execution_count": 58,
   "metadata": {},
   "outputs": [
    {
     "data": {
      "text/html": [
       "<div>\n",
       "<style scoped>\n",
       "    .dataframe tbody tr th:only-of-type {\n",
       "        vertical-align: middle;\n",
       "    }\n",
       "\n",
       "    .dataframe tbody tr th {\n",
       "        vertical-align: top;\n",
       "    }\n",
       "\n",
       "    .dataframe thead th {\n",
       "        text-align: right;\n",
       "    }\n",
       "</style>\n",
       "<table border=\"1\" class=\"dataframe\">\n",
       "  <thead>\n",
       "    <tr style=\"text-align: right;\">\n",
       "      <th>Outlet_Identifier</th>\n",
       "      <th>OUT010</th>\n",
       "      <th>OUT013</th>\n",
       "      <th>OUT017</th>\n",
       "      <th>OUT018</th>\n",
       "      <th>OUT019</th>\n",
       "      <th>OUT027</th>\n",
       "      <th>OUT035</th>\n",
       "      <th>OUT045</th>\n",
       "      <th>OUT046</th>\n",
       "      <th>OUT049</th>\n",
       "    </tr>\n",
       "  </thead>\n",
       "  <tbody>\n",
       "    <tr>\n",
       "      <th>Outlet_Type</th>\n",
       "      <td>Grocery Store</td>\n",
       "      <td>Supermarket Type1</td>\n",
       "      <td>Supermarket Type1</td>\n",
       "      <td>Supermarket Type2</td>\n",
       "      <td>Grocery Store</td>\n",
       "      <td>Supermarket Type3</td>\n",
       "      <td>Supermarket Type1</td>\n",
       "      <td>Supermarket Type1</td>\n",
       "      <td>Supermarket Type1</td>\n",
       "      <td>Supermarket Type1</td>\n",
       "    </tr>\n",
       "  </tbody>\n",
       "</table>\n",
       "</div>"
      ],
      "text/plain": [
       "Outlet_Identifier         OUT010             OUT013             OUT017  \\\n",
       "Outlet_Type        Grocery Store  Supermarket Type1  Supermarket Type1   \n",
       "\n",
       "Outlet_Identifier             OUT018         OUT019             OUT027  \\\n",
       "Outlet_Type        Supermarket Type2  Grocery Store  Supermarket Type3   \n",
       "\n",
       "Outlet_Identifier             OUT035             OUT045             OUT046  \\\n",
       "Outlet_Type        Supermarket Type1  Supermarket Type1  Supermarket Type1   \n",
       "\n",
       "Outlet_Identifier             OUT049  \n",
       "Outlet_Type        Supermarket Type1  "
      ]
     },
     "execution_count": 58,
     "metadata": {},
     "output_type": "execute_result"
    }
   ],
   "source": [
    "train_df.pivot_table(values='Outlet_Type',columns='Outlet_Identifier',aggfunc=lambda x: x.mode())"
   ]
  },
  {
   "cell_type": "code",
   "execution_count": 59,
   "metadata": {},
   "outputs": [
    {
     "data": {
      "text/html": [
       "<div>\n",
       "<style scoped>\n",
       "    .dataframe tbody tr th:only-of-type {\n",
       "        vertical-align: middle;\n",
       "    }\n",
       "\n",
       "    .dataframe tbody tr th {\n",
       "        vertical-align: top;\n",
       "    }\n",
       "\n",
       "    .dataframe thead th {\n",
       "        text-align: right;\n",
       "    }\n",
       "</style>\n",
       "<table border=\"1\" class=\"dataframe\">\n",
       "  <thead>\n",
       "    <tr style=\"text-align: right;\">\n",
       "      <th>Outlet_Identifier</th>\n",
       "      <th>OUT010</th>\n",
       "      <th>OUT013</th>\n",
       "      <th>OUT017</th>\n",
       "      <th>OUT018</th>\n",
       "      <th>OUT019</th>\n",
       "      <th>OUT027</th>\n",
       "      <th>OUT035</th>\n",
       "      <th>OUT045</th>\n",
       "      <th>OUT046</th>\n",
       "      <th>OUT049</th>\n",
       "    </tr>\n",
       "  </thead>\n",
       "  <tbody>\n",
       "    <tr>\n",
       "      <th>Outlet_Location_Type</th>\n",
       "      <td>Tier 3</td>\n",
       "      <td>Tier 3</td>\n",
       "      <td>Tier 2</td>\n",
       "      <td>Tier 3</td>\n",
       "      <td>Tier 1</td>\n",
       "      <td>Tier 3</td>\n",
       "      <td>Tier 2</td>\n",
       "      <td>Tier 2</td>\n",
       "      <td>Tier 1</td>\n",
       "      <td>Tier 1</td>\n",
       "    </tr>\n",
       "  </tbody>\n",
       "</table>\n",
       "</div>"
      ],
      "text/plain": [
       "Outlet_Identifier     OUT010  OUT013  OUT017  OUT018  OUT019  OUT027  OUT035  \\\n",
       "Outlet_Location_Type  Tier 3  Tier 3  Tier 2  Tier 3  Tier 1  Tier 3  Tier 2   \n",
       "\n",
       "Outlet_Identifier     OUT045  OUT046  OUT049  \n",
       "Outlet_Location_Type  Tier 2  Tier 1  Tier 1  "
      ]
     },
     "execution_count": 59,
     "metadata": {},
     "output_type": "execute_result"
    }
   ],
   "source": [
    "train_df.pivot_table(values='Outlet_Location_Type',columns='Outlet_Identifier',aggfunc=lambda x: x.mode())"
   ]
  },
  {
   "cell_type": "markdown",
   "metadata": {},
   "source": [
    "*Observation:*\n",
    "1. Outlet with identifier OUT027 earned maximum revenue and has maximum sales. This outlet is located in Tier 3 city and is of Type 3 supermarket.\n",
    "2. Outlet 010 and Outlet 019 are grocery stores and earned minimum revenue. It confirms the hypothesis that grocery stores made minimum sales as comparison to other type of stores.\n",
    "3. 2 of the outlets are groceries types, 1 outlet each of Type 2 and Type 3 supermarket and rest all are Supermarket Type 1."
   ]
  },
  {
   "cell_type": "markdown",
   "metadata": {},
   "source": [
    "# Feature Engineering"
   ]
  },
  {
   "cell_type": "code",
   "execution_count": 60,
   "metadata": {},
   "outputs": [
    {
     "data": {
      "text/html": [
       "<div>\n",
       "<style scoped>\n",
       "    .dataframe tbody tr th:only-of-type {\n",
       "        vertical-align: middle;\n",
       "    }\n",
       "\n",
       "    .dataframe tbody tr th {\n",
       "        vertical-align: top;\n",
       "    }\n",
       "\n",
       "    .dataframe thead th {\n",
       "        text-align: right;\n",
       "    }\n",
       "</style>\n",
       "<table border=\"1\" class=\"dataframe\">\n",
       "  <thead>\n",
       "    <tr style=\"text-align: right;\">\n",
       "      <th></th>\n",
       "      <th>Item_Weight</th>\n",
       "      <th>Item_Visibility</th>\n",
       "      <th>Item_MRP</th>\n",
       "      <th>Outlet_Establishment_Year</th>\n",
       "      <th>Item_Outlet_Sales</th>\n",
       "    </tr>\n",
       "  </thead>\n",
       "  <tbody>\n",
       "    <tr>\n",
       "      <th>count</th>\n",
       "      <td>8523.000000</td>\n",
       "      <td>8523.000000</td>\n",
       "      <td>8523.000000</td>\n",
       "      <td>8523.000000</td>\n",
       "      <td>8523.000000</td>\n",
       "    </tr>\n",
       "    <tr>\n",
       "      <th>mean</th>\n",
       "      <td>12.860708</td>\n",
       "      <td>0.066132</td>\n",
       "      <td>140.992782</td>\n",
       "      <td>1997.831867</td>\n",
       "      <td>2181.288914</td>\n",
       "    </tr>\n",
       "    <tr>\n",
       "      <th>std</th>\n",
       "      <td>4.237815</td>\n",
       "      <td>0.051598</td>\n",
       "      <td>62.275067</td>\n",
       "      <td>8.371760</td>\n",
       "      <td>1706.499616</td>\n",
       "    </tr>\n",
       "    <tr>\n",
       "      <th>min</th>\n",
       "      <td>4.555000</td>\n",
       "      <td>0.000000</td>\n",
       "      <td>31.290000</td>\n",
       "      <td>1985.000000</td>\n",
       "      <td>33.290000</td>\n",
       "    </tr>\n",
       "    <tr>\n",
       "      <th>25%</th>\n",
       "      <td>9.310000</td>\n",
       "      <td>0.026989</td>\n",
       "      <td>93.826500</td>\n",
       "      <td>1987.000000</td>\n",
       "      <td>834.247400</td>\n",
       "    </tr>\n",
       "    <tr>\n",
       "      <th>50%</th>\n",
       "      <td>12.800000</td>\n",
       "      <td>0.053931</td>\n",
       "      <td>143.012800</td>\n",
       "      <td>1999.000000</td>\n",
       "      <td>1794.331000</td>\n",
       "    </tr>\n",
       "    <tr>\n",
       "      <th>75%</th>\n",
       "      <td>16.000000</td>\n",
       "      <td>0.094585</td>\n",
       "      <td>185.643700</td>\n",
       "      <td>2004.000000</td>\n",
       "      <td>3101.296400</td>\n",
       "    </tr>\n",
       "    <tr>\n",
       "      <th>max</th>\n",
       "      <td>21.350000</td>\n",
       "      <td>0.328391</td>\n",
       "      <td>266.888400</td>\n",
       "      <td>2009.000000</td>\n",
       "      <td>13086.964800</td>\n",
       "    </tr>\n",
       "  </tbody>\n",
       "</table>\n",
       "</div>"
      ],
      "text/plain": [
       "       Item_Weight  Item_Visibility     Item_MRP  Outlet_Establishment_Year  \\\n",
       "count  8523.000000      8523.000000  8523.000000                8523.000000   \n",
       "mean     12.860708         0.066132   140.992782                1997.831867   \n",
       "std       4.237815         0.051598    62.275067                   8.371760   \n",
       "min       4.555000         0.000000    31.290000                1985.000000   \n",
       "25%       9.310000         0.026989    93.826500                1987.000000   \n",
       "50%      12.800000         0.053931   143.012800                1999.000000   \n",
       "75%      16.000000         0.094585   185.643700                2004.000000   \n",
       "max      21.350000         0.328391   266.888400                2009.000000   \n",
       "\n",
       "       Item_Outlet_Sales  \n",
       "count        8523.000000  \n",
       "mean         2181.288914  \n",
       "std          1706.499616  \n",
       "min            33.290000  \n",
       "25%           834.247400  \n",
       "50%          1794.331000  \n",
       "75%          3101.296400  \n",
       "max         13086.964800  "
      ]
     },
     "execution_count": 60,
     "metadata": {},
     "output_type": "execute_result"
    }
   ],
   "source": [
    "train_df.describe()"
   ]
  },
  {
   "cell_type": "markdown",
   "metadata": {},
   "source": [
    "## Item Visibility"
   ]
  },
  {
   "cell_type": "markdown",
   "metadata": {},
   "source": [
    "Minimum **Item Visibility** according to description above is 0 which is rather seems impossible because all items are visible . Let's change that and impute values for items which is wrongly represented by 0 visibility."
   ]
  },
  {
   "cell_type": "code",
   "execution_count": 61,
   "metadata": {},
   "outputs": [],
   "source": [
    "#Get all Item_Visibility mean values for respective Item_Identifier\n",
    "visibility_item_avg = train_df.pivot_table(values='Item_Visibility',index='Item_Identifier')\n",
    "visibility_item_avg1 = test_df.pivot_table(values='Item_Visibility',index='Item_Identifier')"
   ]
  },
  {
   "cell_type": "code",
   "execution_count": 62,
   "metadata": {},
   "outputs": [
    {
     "name": "stdout",
     "output_type": "stream",
     "text": [
      "Original #zeros: 526\n",
      "Final #zeros: 0\n"
     ]
    }
   ],
   "source": [
    "def impute_visibility_mean(cols):\n",
    "    visibility = cols[0]\n",
    "    item = cols[1]\n",
    "    if visibility == 0:\n",
    "        return visibility_item_avg['Item_Visibility'][visibility_item_avg.index == item]\n",
    "    else:\n",
    "        return visibility\n",
    "\n",
    "print ('Original #zeros: %d'%sum(train_df['Item_Visibility'] == 0))\n",
    "train_df['Item_Visibility'] = train_df[['Item_Visibility','Item_Identifier']].apply(impute_visibility_mean,axis=1).astype(float)\n",
    "print ('Final #zeros: %d'%sum(train_df['Item_Visibility'] == 0))\n",
    "\n",
    "\n",
    "\n"
   ]
  },
  {
   "cell_type": "code",
   "execution_count": 63,
   "metadata": {},
   "outputs": [
    {
     "name": "stdout",
     "output_type": "stream",
     "text": [
      "Original #zeros: 353\n"
     ]
    }
   ],
   "source": [
    "def impute_visibility_mean1(cols):\n",
    "    visibility = cols[0]\n",
    "    item = cols[1]\n",
    "    if visibility == 0:\n",
    "        return visibility_item_avg1['Item_Visibility'][visibility_item_avg1.index == item]\n",
    "    else:\n",
    "        return visibility\n",
    "\n",
    "print ('Original #zeros: %d'%sum(test_df['Item_Visibility'] == 0))\n"
   ]
  },
  {
   "cell_type": "code",
   "execution_count": 64,
   "metadata": {},
   "outputs": [
    {
     "name": "stdout",
     "output_type": "stream",
     "text": [
      "Final #zeros: 13\n"
     ]
    }
   ],
   "source": [
    "test_df['Item_Visibility'] = test_df[['Item_Visibility','Item_Identifier']].apply(impute_visibility_mean1,axis=1).astype(float)\n",
    "print ('Final #zeros: %d'%sum(test_df['Item_Visibility'] == 0))"
   ]
  },
  {
   "cell_type": "code",
   "execution_count": 65,
   "metadata": {},
   "outputs": [],
   "source": [
    "l1=list(test_df[test_df.Item_Visibility==0]['Item_Identifier'])"
   ]
  },
  {
   "cell_type": "code",
   "execution_count": 66,
   "metadata": {},
   "outputs": [],
   "source": [
    "for l in l1:\n",
    "    test_df.loc[test_df.Item_Identifier==l,'Item_Visibility']=train_df[train_df.Item_Identifier==l]['Item_Visibility'].mean()"
   ]
  },
  {
   "cell_type": "code",
   "execution_count": 67,
   "metadata": {},
   "outputs": [
    {
     "name": "stdout",
     "output_type": "stream",
     "text": [
      "Final #zeros: 0\n"
     ]
    }
   ],
   "source": [
    "print ('Final #zeros: %d'%sum(test_df['Item_Visibility'] == 0))"
   ]
  },
  {
   "cell_type": "markdown",
   "metadata": {},
   "source": [
    "## Outlet age"
   ]
  },
  {
   "cell_type": "code",
   "execution_count": 68,
   "metadata": {},
   "outputs": [
    {
     "data": {
      "text/plain": [
       "Index(['Item_Identifier', 'Item_Weight', 'Item_Fat_Content', 'Item_Visibility',\n",
       "       'Item_Type', 'Item_MRP', 'Outlet_Identifier',\n",
       "       'Outlet_Establishment_Year', 'Outlet_Size', 'Outlet_Location_Type',\n",
       "       'Outlet_Type', 'Item_Outlet_Sales'],\n",
       "      dtype='object')"
      ]
     },
     "execution_count": 68,
     "metadata": {},
     "output_type": "execute_result"
    }
   ],
   "source": [
    "train_df.columns"
   ]
  },
  {
   "cell_type": "code",
   "execution_count": 69,
   "metadata": {
    "scrolled": true
   },
   "outputs": [
    {
     "data": {
      "text/plain": [
       "count    5681.000000\n",
       "mean       15.171097\n",
       "std         8.372256\n",
       "min         4.000000\n",
       "25%         9.000000\n",
       "50%        14.000000\n",
       "75%        26.000000\n",
       "max        28.000000\n",
       "Name: Outlet_Age, dtype: float64"
      ]
     },
     "execution_count": 69,
     "metadata": {},
     "output_type": "execute_result"
    }
   ],
   "source": [
    "# Considering 2013 as base year as same as date of publishing of data \n",
    "train_df['Outlet_Age'] = 2013 - train_df['Outlet_Establishment_Year']\n",
    "train_df['Outlet_Age'].describe()\n",
    "\n",
    "\n",
    "test_df['Outlet_Age'] = 2013 - test_df['Outlet_Establishment_Year']\n",
    "test_df['Outlet_Age'].describe()"
   ]
  },
  {
   "cell_type": "markdown",
   "metadata": {},
   "source": [
    "## Item Type Differentiation\n",
    "Earlier we saw that the **Item_Type** variable has 16 categories which might not prove to be very useful in our analysis. So it’s a good idea to combine them. If we look closely to the **Item_Identifier** of each item we see that each one starts with either “FD” (Food), “DR” (Drinks) or “NC” (Non-Consumables). Therefore, we can group the items within these 3 categories"
   ]
  },
  {
   "cell_type": "code",
   "execution_count": 70,
   "metadata": {},
   "outputs": [
    {
     "data": {
      "text/plain": [
       "Food              4076\n",
       "Non-Consumable    1087\n",
       "Drinks             518\n",
       "Name: Item_Type_Combined, dtype: int64"
      ]
     },
     "execution_count": 70,
     "metadata": {},
     "output_type": "execute_result"
    }
   ],
   "source": [
    "#Get the first two characters of ID:\n",
    "train_df['Item_Type_Combined'] = train_df['Item_Identifier'].apply(lambda x: x[0:2])\n",
    "#Rename them to more intuitive categories:\n",
    "train_df['Item_Type_Combined'] = train_df['Item_Type_Combined'].map({'FD':'Food', 'NC':'Non-Consumable', 'DR':'Drinks'})\n",
    "train_df['Item_Type_Combined'].value_counts()\n",
    "\n",
    "#Get the first two characters of ID:\n",
    "test_df['Item_Type_Combined'] = test_df['Item_Identifier'].apply(lambda x: x[0:2])\n",
    "#Rename them to more intuitive categories:\n",
    "test_df['Item_Type_Combined'] = test_df['Item_Type_Combined'].map({'FD':'Food','NC':'Non-Consumable','DR':'Drinks'})\n",
    "test_df['Item_Type_Combined'].value_counts()"
   ]
  },
  {
   "cell_type": "markdown",
   "metadata": {},
   "source": [
    "## Non Consumable Item Fat Content\n",
    "there were some non-consumables as well and a fat-content should not be specified for them. So we can also create a separate category for such kind of observations."
   ]
  },
  {
   "cell_type": "code",
   "execution_count": 71,
   "metadata": {},
   "outputs": [
    {
     "data": {
      "text/plain": [
       "Low Fat       3032\n",
       "Regular       1619\n",
       "Non-Edible    1030\n",
       "Name: Item_Fat_Content, dtype: int64"
      ]
     },
     "execution_count": 71,
     "metadata": {},
     "output_type": "execute_result"
    }
   ],
   "source": [
    "#Mark non-consumables as separate category in low_fat:\n",
    "train_df.loc[train_df['Item_Type_Combined']==\"Non-Consumable\",'Item_Fat_Content'] = \"Non-Edible\"\n",
    "train_df['Item_Fat_Content'].value_counts()\n",
    "\n",
    "#Mark non-consumables as separate category in low_fat:\n",
    "test_df.loc[train_df['Item_Type_Combined']==\"Non-Consumable\",'Item_Fat_Content'] = \"Non-Edible\"\n",
    "test_df['Item_Fat_Content'].value_counts()"
   ]
  },
  {
   "cell_type": "markdown",
   "metadata": {},
   "source": [
    "# Feature Transformation"
   ]
  },
  {
   "cell_type": "code",
   "execution_count": 72,
   "metadata": {},
   "outputs": [],
   "source": [
    "# Converting categorical variables into dummy variables\n",
    "#Import library:\n",
    "from sklearn.preprocessing import LabelEncoder\n",
    "le = LabelEncoder()\n",
    "#New variable for outlet\n",
    "train_df['Outlet'] = le.fit_transform(train_df['Outlet_Identifier'])\n",
    "var_mod = ['Item_Fat_Content','Outlet_Location_Type','Outlet_Size','Item_Type_Combined','Outlet_Type','Outlet']\n",
    "for i in var_mod:\n",
    "    train_df[i] = le.fit_transform(train_df[i])"
   ]
  },
  {
   "cell_type": "code",
   "execution_count": 73,
   "metadata": {},
   "outputs": [],
   "source": [
    "# Converting categorical variables into dummy variables\n",
    "#Import library:\n",
    "from sklearn.preprocessing import LabelEncoder\n",
    "le = LabelEncoder()\n",
    "#New variable for outlet\n",
    "test_df['Outlet'] = le.fit_transform(test_df['Outlet_Identifier'])\n",
    "var_mod = ['Item_Fat_Content','Outlet_Location_Type','Outlet_Size','Item_Type_Combined','Outlet_Type','Outlet']\n",
    "for i in var_mod:\n",
    "    test_df[i] = le.fit_transform(test_df[i])"
   ]
  },
  {
   "cell_type": "code",
   "execution_count": 74,
   "metadata": {},
   "outputs": [
    {
     "data": {
      "text/html": [
       "<div>\n",
       "<style scoped>\n",
       "    .dataframe tbody tr th:only-of-type {\n",
       "        vertical-align: middle;\n",
       "    }\n",
       "\n",
       "    .dataframe tbody tr th {\n",
       "        vertical-align: top;\n",
       "    }\n",
       "\n",
       "    .dataframe thead th {\n",
       "        text-align: right;\n",
       "    }\n",
       "</style>\n",
       "<table border=\"1\" class=\"dataframe\">\n",
       "  <thead>\n",
       "    <tr style=\"text-align: right;\">\n",
       "      <th></th>\n",
       "      <th>Item_Identifier</th>\n",
       "      <th>Item_Weight</th>\n",
       "      <th>Item_Fat_Content</th>\n",
       "      <th>Item_Visibility</th>\n",
       "      <th>Item_Type</th>\n",
       "      <th>Item_MRP</th>\n",
       "      <th>Outlet_Identifier</th>\n",
       "      <th>Outlet_Establishment_Year</th>\n",
       "      <th>Outlet_Size</th>\n",
       "      <th>Outlet_Location_Type</th>\n",
       "      <th>Outlet_Type</th>\n",
       "      <th>Item_Outlet_Sales</th>\n",
       "      <th>Outlet_Age</th>\n",
       "      <th>Item_Type_Combined</th>\n",
       "      <th>Outlet</th>\n",
       "    </tr>\n",
       "  </thead>\n",
       "  <tbody>\n",
       "    <tr>\n",
       "      <th>0</th>\n",
       "      <td>FDA15</td>\n",
       "      <td>9.300000</td>\n",
       "      <td>0</td>\n",
       "      <td>0.016047</td>\n",
       "      <td>Dairy</td>\n",
       "      <td>249.8092</td>\n",
       "      <td>OUT049</td>\n",
       "      <td>1999</td>\n",
       "      <td>1</td>\n",
       "      <td>0</td>\n",
       "      <td>1</td>\n",
       "      <td>3735.1380</td>\n",
       "      <td>14</td>\n",
       "      <td>1</td>\n",
       "      <td>9</td>\n",
       "    </tr>\n",
       "    <tr>\n",
       "      <th>1</th>\n",
       "      <td>DRC01</td>\n",
       "      <td>5.920000</td>\n",
       "      <td>2</td>\n",
       "      <td>0.019278</td>\n",
       "      <td>Soft Drinks</td>\n",
       "      <td>48.2692</td>\n",
       "      <td>OUT018</td>\n",
       "      <td>2009</td>\n",
       "      <td>1</td>\n",
       "      <td>2</td>\n",
       "      <td>2</td>\n",
       "      <td>443.4228</td>\n",
       "      <td>4</td>\n",
       "      <td>0</td>\n",
       "      <td>3</td>\n",
       "    </tr>\n",
       "    <tr>\n",
       "      <th>2</th>\n",
       "      <td>FDN15</td>\n",
       "      <td>17.500000</td>\n",
       "      <td>0</td>\n",
       "      <td>0.016760</td>\n",
       "      <td>Meat</td>\n",
       "      <td>141.6180</td>\n",
       "      <td>OUT049</td>\n",
       "      <td>1999</td>\n",
       "      <td>1</td>\n",
       "      <td>0</td>\n",
       "      <td>1</td>\n",
       "      <td>2097.2700</td>\n",
       "      <td>14</td>\n",
       "      <td>1</td>\n",
       "      <td>9</td>\n",
       "    </tr>\n",
       "    <tr>\n",
       "      <th>3</th>\n",
       "      <td>FDX07</td>\n",
       "      <td>19.200000</td>\n",
       "      <td>2</td>\n",
       "      <td>0.015274</td>\n",
       "      <td>Fruits and Vegetables</td>\n",
       "      <td>182.0950</td>\n",
       "      <td>OUT010</td>\n",
       "      <td>1998</td>\n",
       "      <td>1</td>\n",
       "      <td>2</td>\n",
       "      <td>0</td>\n",
       "      <td>732.3800</td>\n",
       "      <td>15</td>\n",
       "      <td>1</td>\n",
       "      <td>0</td>\n",
       "    </tr>\n",
       "    <tr>\n",
       "      <th>4</th>\n",
       "      <td>NCD19</td>\n",
       "      <td>8.930000</td>\n",
       "      <td>1</td>\n",
       "      <td>0.008082</td>\n",
       "      <td>Household</td>\n",
       "      <td>53.8614</td>\n",
       "      <td>OUT013</td>\n",
       "      <td>1987</td>\n",
       "      <td>0</td>\n",
       "      <td>2</td>\n",
       "      <td>1</td>\n",
       "      <td>994.7052</td>\n",
       "      <td>26</td>\n",
       "      <td>2</td>\n",
       "      <td>1</td>\n",
       "    </tr>\n",
       "    <tr>\n",
       "      <th>5</th>\n",
       "      <td>FDP36</td>\n",
       "      <td>10.395000</td>\n",
       "      <td>2</td>\n",
       "      <td>0.060928</td>\n",
       "      <td>Baking Goods</td>\n",
       "      <td>51.4008</td>\n",
       "      <td>OUT018</td>\n",
       "      <td>2009</td>\n",
       "      <td>1</td>\n",
       "      <td>2</td>\n",
       "      <td>2</td>\n",
       "      <td>556.6088</td>\n",
       "      <td>4</td>\n",
       "      <td>1</td>\n",
       "      <td>3</td>\n",
       "    </tr>\n",
       "    <tr>\n",
       "      <th>6</th>\n",
       "      <td>FDO10</td>\n",
       "      <td>13.650000</td>\n",
       "      <td>2</td>\n",
       "      <td>0.012741</td>\n",
       "      <td>Snack Foods</td>\n",
       "      <td>57.6588</td>\n",
       "      <td>OUT013</td>\n",
       "      <td>1987</td>\n",
       "      <td>0</td>\n",
       "      <td>2</td>\n",
       "      <td>1</td>\n",
       "      <td>343.5528</td>\n",
       "      <td>26</td>\n",
       "      <td>1</td>\n",
       "      <td>1</td>\n",
       "    </tr>\n",
       "    <tr>\n",
       "      <th>7</th>\n",
       "      <td>FDP10</td>\n",
       "      <td>13.707177</td>\n",
       "      <td>0</td>\n",
       "      <td>0.127470</td>\n",
       "      <td>Snack Foods</td>\n",
       "      <td>107.7622</td>\n",
       "      <td>OUT027</td>\n",
       "      <td>1985</td>\n",
       "      <td>1</td>\n",
       "      <td>2</td>\n",
       "      <td>3</td>\n",
       "      <td>4022.7636</td>\n",
       "      <td>28</td>\n",
       "      <td>1</td>\n",
       "      <td>5</td>\n",
       "    </tr>\n",
       "    <tr>\n",
       "      <th>8</th>\n",
       "      <td>FDH17</td>\n",
       "      <td>16.200000</td>\n",
       "      <td>2</td>\n",
       "      <td>0.016687</td>\n",
       "      <td>Frozen Foods</td>\n",
       "      <td>96.9726</td>\n",
       "      <td>OUT045</td>\n",
       "      <td>2002</td>\n",
       "      <td>2</td>\n",
       "      <td>1</td>\n",
       "      <td>1</td>\n",
       "      <td>1076.5986</td>\n",
       "      <td>11</td>\n",
       "      <td>1</td>\n",
       "      <td>7</td>\n",
       "    </tr>\n",
       "    <tr>\n",
       "      <th>9</th>\n",
       "      <td>FDU28</td>\n",
       "      <td>19.200000</td>\n",
       "      <td>2</td>\n",
       "      <td>0.094450</td>\n",
       "      <td>Frozen Foods</td>\n",
       "      <td>187.8214</td>\n",
       "      <td>OUT017</td>\n",
       "      <td>2007</td>\n",
       "      <td>2</td>\n",
       "      <td>1</td>\n",
       "      <td>1</td>\n",
       "      <td>4710.5350</td>\n",
       "      <td>6</td>\n",
       "      <td>1</td>\n",
       "      <td>2</td>\n",
       "    </tr>\n",
       "    <tr>\n",
       "      <th>10</th>\n",
       "      <td>FDY07</td>\n",
       "      <td>11.800000</td>\n",
       "      <td>0</td>\n",
       "      <td>0.052234</td>\n",
       "      <td>Fruits and Vegetables</td>\n",
       "      <td>45.5402</td>\n",
       "      <td>OUT049</td>\n",
       "      <td>1999</td>\n",
       "      <td>1</td>\n",
       "      <td>0</td>\n",
       "      <td>1</td>\n",
       "      <td>1516.0266</td>\n",
       "      <td>14</td>\n",
       "      <td>1</td>\n",
       "      <td>9</td>\n",
       "    </tr>\n",
       "    <tr>\n",
       "      <th>11</th>\n",
       "      <td>FDA03</td>\n",
       "      <td>18.500000</td>\n",
       "      <td>2</td>\n",
       "      <td>0.045464</td>\n",
       "      <td>Dairy</td>\n",
       "      <td>144.1102</td>\n",
       "      <td>OUT046</td>\n",
       "      <td>1997</td>\n",
       "      <td>2</td>\n",
       "      <td>0</td>\n",
       "      <td>1</td>\n",
       "      <td>2187.1530</td>\n",
       "      <td>16</td>\n",
       "      <td>1</td>\n",
       "      <td>8</td>\n",
       "    </tr>\n",
       "    <tr>\n",
       "      <th>12</th>\n",
       "      <td>FDX32</td>\n",
       "      <td>15.100000</td>\n",
       "      <td>2</td>\n",
       "      <td>0.100014</td>\n",
       "      <td>Fruits and Vegetables</td>\n",
       "      <td>145.4786</td>\n",
       "      <td>OUT049</td>\n",
       "      <td>1999</td>\n",
       "      <td>1</td>\n",
       "      <td>0</td>\n",
       "      <td>1</td>\n",
       "      <td>1589.2646</td>\n",
       "      <td>14</td>\n",
       "      <td>1</td>\n",
       "      <td>9</td>\n",
       "    </tr>\n",
       "    <tr>\n",
       "      <th>13</th>\n",
       "      <td>FDS46</td>\n",
       "      <td>17.600000</td>\n",
       "      <td>2</td>\n",
       "      <td>0.047257</td>\n",
       "      <td>Snack Foods</td>\n",
       "      <td>119.6782</td>\n",
       "      <td>OUT046</td>\n",
       "      <td>1997</td>\n",
       "      <td>2</td>\n",
       "      <td>0</td>\n",
       "      <td>1</td>\n",
       "      <td>2145.2076</td>\n",
       "      <td>16</td>\n",
       "      <td>1</td>\n",
       "      <td>8</td>\n",
       "    </tr>\n",
       "    <tr>\n",
       "      <th>14</th>\n",
       "      <td>FDF32</td>\n",
       "      <td>16.350000</td>\n",
       "      <td>0</td>\n",
       "      <td>0.068024</td>\n",
       "      <td>Fruits and Vegetables</td>\n",
       "      <td>196.4426</td>\n",
       "      <td>OUT013</td>\n",
       "      <td>1987</td>\n",
       "      <td>0</td>\n",
       "      <td>2</td>\n",
       "      <td>1</td>\n",
       "      <td>1977.4260</td>\n",
       "      <td>26</td>\n",
       "      <td>1</td>\n",
       "      <td>1</td>\n",
       "    </tr>\n",
       "    <tr>\n",
       "      <th>15</th>\n",
       "      <td>FDP49</td>\n",
       "      <td>9.000000</td>\n",
       "      <td>2</td>\n",
       "      <td>0.069089</td>\n",
       "      <td>Breakfast</td>\n",
       "      <td>56.3614</td>\n",
       "      <td>OUT046</td>\n",
       "      <td>1997</td>\n",
       "      <td>2</td>\n",
       "      <td>0</td>\n",
       "      <td>1</td>\n",
       "      <td>1547.3192</td>\n",
       "      <td>16</td>\n",
       "      <td>1</td>\n",
       "      <td>8</td>\n",
       "    </tr>\n",
       "    <tr>\n",
       "      <th>16</th>\n",
       "      <td>NCB42</td>\n",
       "      <td>11.800000</td>\n",
       "      <td>1</td>\n",
       "      <td>0.008596</td>\n",
       "      <td>Health and Hygiene</td>\n",
       "      <td>115.3492</td>\n",
       "      <td>OUT018</td>\n",
       "      <td>2009</td>\n",
       "      <td>1</td>\n",
       "      <td>2</td>\n",
       "      <td>2</td>\n",
       "      <td>1621.8888</td>\n",
       "      <td>4</td>\n",
       "      <td>2</td>\n",
       "      <td>3</td>\n",
       "    </tr>\n",
       "    <tr>\n",
       "      <th>17</th>\n",
       "      <td>FDP49</td>\n",
       "      <td>9.000000</td>\n",
       "      <td>2</td>\n",
       "      <td>0.069196</td>\n",
       "      <td>Breakfast</td>\n",
       "      <td>54.3614</td>\n",
       "      <td>OUT049</td>\n",
       "      <td>1999</td>\n",
       "      <td>1</td>\n",
       "      <td>0</td>\n",
       "      <td>1</td>\n",
       "      <td>718.3982</td>\n",
       "      <td>14</td>\n",
       "      <td>1</td>\n",
       "      <td>9</td>\n",
       "    </tr>\n",
       "    <tr>\n",
       "      <th>18</th>\n",
       "      <td>DRI11</td>\n",
       "      <td>11.400328</td>\n",
       "      <td>0</td>\n",
       "      <td>0.034238</td>\n",
       "      <td>Hard Drinks</td>\n",
       "      <td>113.2834</td>\n",
       "      <td>OUT027</td>\n",
       "      <td>1985</td>\n",
       "      <td>1</td>\n",
       "      <td>2</td>\n",
       "      <td>3</td>\n",
       "      <td>2303.6680</td>\n",
       "      <td>28</td>\n",
       "      <td>0</td>\n",
       "      <td>5</td>\n",
       "    </tr>\n",
       "    <tr>\n",
       "      <th>19</th>\n",
       "      <td>FDU02</td>\n",
       "      <td>13.350000</td>\n",
       "      <td>0</td>\n",
       "      <td>0.102492</td>\n",
       "      <td>Dairy</td>\n",
       "      <td>230.5352</td>\n",
       "      <td>OUT035</td>\n",
       "      <td>2004</td>\n",
       "      <td>2</td>\n",
       "      <td>1</td>\n",
       "      <td>1</td>\n",
       "      <td>2748.4224</td>\n",
       "      <td>9</td>\n",
       "      <td>1</td>\n",
       "      <td>6</td>\n",
       "    </tr>\n",
       "    <tr>\n",
       "      <th>20</th>\n",
       "      <td>FDN22</td>\n",
       "      <td>18.850000</td>\n",
       "      <td>2</td>\n",
       "      <td>0.138190</td>\n",
       "      <td>Snack Foods</td>\n",
       "      <td>250.8724</td>\n",
       "      <td>OUT013</td>\n",
       "      <td>1987</td>\n",
       "      <td>0</td>\n",
       "      <td>2</td>\n",
       "      <td>1</td>\n",
       "      <td>3775.0860</td>\n",
       "      <td>26</td>\n",
       "      <td>1</td>\n",
       "      <td>1</td>\n",
       "    </tr>\n",
       "    <tr>\n",
       "      <th>21</th>\n",
       "      <td>FDW12</td>\n",
       "      <td>12.013303</td>\n",
       "      <td>2</td>\n",
       "      <td>0.035400</td>\n",
       "      <td>Baking Goods</td>\n",
       "      <td>144.5444</td>\n",
       "      <td>OUT027</td>\n",
       "      <td>1985</td>\n",
       "      <td>1</td>\n",
       "      <td>2</td>\n",
       "      <td>3</td>\n",
       "      <td>4064.0432</td>\n",
       "      <td>28</td>\n",
       "      <td>1</td>\n",
       "      <td>5</td>\n",
       "    </tr>\n",
       "    <tr>\n",
       "      <th>22</th>\n",
       "      <td>NCB30</td>\n",
       "      <td>14.600000</td>\n",
       "      <td>1</td>\n",
       "      <td>0.025698</td>\n",
       "      <td>Household</td>\n",
       "      <td>196.5084</td>\n",
       "      <td>OUT035</td>\n",
       "      <td>2004</td>\n",
       "      <td>2</td>\n",
       "      <td>1</td>\n",
       "      <td>1</td>\n",
       "      <td>1587.2672</td>\n",
       "      <td>9</td>\n",
       "      <td>2</td>\n",
       "      <td>6</td>\n",
       "    </tr>\n",
       "    <tr>\n",
       "      <th>23</th>\n",
       "      <td>FDC37</td>\n",
       "      <td>12.552996</td>\n",
       "      <td>0</td>\n",
       "      <td>0.057557</td>\n",
       "      <td>Baking Goods</td>\n",
       "      <td>107.6938</td>\n",
       "      <td>OUT019</td>\n",
       "      <td>1985</td>\n",
       "      <td>2</td>\n",
       "      <td>0</td>\n",
       "      <td>0</td>\n",
       "      <td>214.3876</td>\n",
       "      <td>28</td>\n",
       "      <td>1</td>\n",
       "      <td>4</td>\n",
       "    </tr>\n",
       "    <tr>\n",
       "      <th>24</th>\n",
       "      <td>FDR28</td>\n",
       "      <td>13.850000</td>\n",
       "      <td>2</td>\n",
       "      <td>0.025896</td>\n",
       "      <td>Frozen Foods</td>\n",
       "      <td>165.0210</td>\n",
       "      <td>OUT046</td>\n",
       "      <td>1997</td>\n",
       "      <td>2</td>\n",
       "      <td>0</td>\n",
       "      <td>1</td>\n",
       "      <td>4078.0250</td>\n",
       "      <td>16</td>\n",
       "      <td>1</td>\n",
       "      <td>8</td>\n",
       "    </tr>\n",
       "    <tr>\n",
       "      <th>25</th>\n",
       "      <td>NCD06</td>\n",
       "      <td>13.000000</td>\n",
       "      <td>1</td>\n",
       "      <td>0.099887</td>\n",
       "      <td>Household</td>\n",
       "      <td>45.9060</td>\n",
       "      <td>OUT017</td>\n",
       "      <td>2007</td>\n",
       "      <td>2</td>\n",
       "      <td>1</td>\n",
       "      <td>1</td>\n",
       "      <td>838.9080</td>\n",
       "      <td>6</td>\n",
       "      <td>2</td>\n",
       "      <td>2</td>\n",
       "    </tr>\n",
       "    <tr>\n",
       "      <th>26</th>\n",
       "      <td>FDV10</td>\n",
       "      <td>7.645000</td>\n",
       "      <td>2</td>\n",
       "      <td>0.066693</td>\n",
       "      <td>Snack Foods</td>\n",
       "      <td>42.3112</td>\n",
       "      <td>OUT035</td>\n",
       "      <td>2004</td>\n",
       "      <td>2</td>\n",
       "      <td>1</td>\n",
       "      <td>1</td>\n",
       "      <td>1065.2800</td>\n",
       "      <td>9</td>\n",
       "      <td>1</td>\n",
       "      <td>6</td>\n",
       "    </tr>\n",
       "    <tr>\n",
       "      <th>27</th>\n",
       "      <td>DRJ59</td>\n",
       "      <td>11.650000</td>\n",
       "      <td>0</td>\n",
       "      <td>0.019356</td>\n",
       "      <td>Hard Drinks</td>\n",
       "      <td>39.1164</td>\n",
       "      <td>OUT013</td>\n",
       "      <td>1987</td>\n",
       "      <td>0</td>\n",
       "      <td>2</td>\n",
       "      <td>1</td>\n",
       "      <td>308.9312</td>\n",
       "      <td>26</td>\n",
       "      <td>0</td>\n",
       "      <td>1</td>\n",
       "    </tr>\n",
       "    <tr>\n",
       "      <th>28</th>\n",
       "      <td>FDE51</td>\n",
       "      <td>5.925000</td>\n",
       "      <td>2</td>\n",
       "      <td>0.161467</td>\n",
       "      <td>Dairy</td>\n",
       "      <td>45.5086</td>\n",
       "      <td>OUT010</td>\n",
       "      <td>1998</td>\n",
       "      <td>1</td>\n",
       "      <td>2</td>\n",
       "      <td>0</td>\n",
       "      <td>178.4344</td>\n",
       "      <td>15</td>\n",
       "      <td>1</td>\n",
       "      <td>0</td>\n",
       "    </tr>\n",
       "    <tr>\n",
       "      <th>29</th>\n",
       "      <td>FDC14</td>\n",
       "      <td>12.804289</td>\n",
       "      <td>2</td>\n",
       "      <td>0.072222</td>\n",
       "      <td>Canned</td>\n",
       "      <td>43.6454</td>\n",
       "      <td>OUT019</td>\n",
       "      <td>1985</td>\n",
       "      <td>2</td>\n",
       "      <td>0</td>\n",
       "      <td>0</td>\n",
       "      <td>125.8362</td>\n",
       "      <td>28</td>\n",
       "      <td>1</td>\n",
       "      <td>4</td>\n",
       "    </tr>\n",
       "    <tr>\n",
       "      <th>...</th>\n",
       "      <td>...</td>\n",
       "      <td>...</td>\n",
       "      <td>...</td>\n",
       "      <td>...</td>\n",
       "      <td>...</td>\n",
       "      <td>...</td>\n",
       "      <td>...</td>\n",
       "      <td>...</td>\n",
       "      <td>...</td>\n",
       "      <td>...</td>\n",
       "      <td>...</td>\n",
       "      <td>...</td>\n",
       "      <td>...</td>\n",
       "      <td>...</td>\n",
       "      <td>...</td>\n",
       "    </tr>\n",
       "    <tr>\n",
       "      <th>8493</th>\n",
       "      <td>FDP21</td>\n",
       "      <td>7.420000</td>\n",
       "      <td>2</td>\n",
       "      <td>0.025886</td>\n",
       "      <td>Snack Foods</td>\n",
       "      <td>189.1872</td>\n",
       "      <td>OUT017</td>\n",
       "      <td>2007</td>\n",
       "      <td>2</td>\n",
       "      <td>1</td>\n",
       "      <td>1</td>\n",
       "      <td>4727.1800</td>\n",
       "      <td>6</td>\n",
       "      <td>1</td>\n",
       "      <td>2</td>\n",
       "    </tr>\n",
       "    <tr>\n",
       "      <th>8494</th>\n",
       "      <td>NCI54</td>\n",
       "      <td>15.200000</td>\n",
       "      <td>1</td>\n",
       "      <td>0.035194</td>\n",
       "      <td>Household</td>\n",
       "      <td>110.4912</td>\n",
       "      <td>OUT017</td>\n",
       "      <td>2007</td>\n",
       "      <td>2</td>\n",
       "      <td>1</td>\n",
       "      <td>1</td>\n",
       "      <td>1637.8680</td>\n",
       "      <td>6</td>\n",
       "      <td>2</td>\n",
       "      <td>2</td>\n",
       "    </tr>\n",
       "    <tr>\n",
       "      <th>8495</th>\n",
       "      <td>FDE22</td>\n",
       "      <td>9.695000</td>\n",
       "      <td>0</td>\n",
       "      <td>0.029567</td>\n",
       "      <td>Snack Foods</td>\n",
       "      <td>160.4920</td>\n",
       "      <td>OUT035</td>\n",
       "      <td>2004</td>\n",
       "      <td>2</td>\n",
       "      <td>1</td>\n",
       "      <td>1</td>\n",
       "      <td>4314.3840</td>\n",
       "      <td>9</td>\n",
       "      <td>1</td>\n",
       "      <td>6</td>\n",
       "    </tr>\n",
       "    <tr>\n",
       "      <th>8496</th>\n",
       "      <td>FDJ57</td>\n",
       "      <td>7.420000</td>\n",
       "      <td>2</td>\n",
       "      <td>0.021696</td>\n",
       "      <td>Seafood</td>\n",
       "      <td>185.3582</td>\n",
       "      <td>OUT017</td>\n",
       "      <td>2007</td>\n",
       "      <td>2</td>\n",
       "      <td>1</td>\n",
       "      <td>1</td>\n",
       "      <td>3715.1640</td>\n",
       "      <td>6</td>\n",
       "      <td>1</td>\n",
       "      <td>2</td>\n",
       "    </tr>\n",
       "    <tr>\n",
       "      <th>8497</th>\n",
       "      <td>FDT08</td>\n",
       "      <td>13.650000</td>\n",
       "      <td>0</td>\n",
       "      <td>0.049209</td>\n",
       "      <td>Fruits and Vegetables</td>\n",
       "      <td>150.0050</td>\n",
       "      <td>OUT035</td>\n",
       "      <td>2004</td>\n",
       "      <td>2</td>\n",
       "      <td>1</td>\n",
       "      <td>1</td>\n",
       "      <td>2247.0750</td>\n",
       "      <td>9</td>\n",
       "      <td>1</td>\n",
       "      <td>6</td>\n",
       "    </tr>\n",
       "    <tr>\n",
       "      <th>8498</th>\n",
       "      <td>NCP54</td>\n",
       "      <td>15.350000</td>\n",
       "      <td>1</td>\n",
       "      <td>0.035293</td>\n",
       "      <td>Household</td>\n",
       "      <td>124.5730</td>\n",
       "      <td>OUT018</td>\n",
       "      <td>2009</td>\n",
       "      <td>1</td>\n",
       "      <td>2</td>\n",
       "      <td>2</td>\n",
       "      <td>1601.2490</td>\n",
       "      <td>4</td>\n",
       "      <td>2</td>\n",
       "      <td>3</td>\n",
       "    </tr>\n",
       "    <tr>\n",
       "      <th>8499</th>\n",
       "      <td>NCK53</td>\n",
       "      <td>11.600000</td>\n",
       "      <td>1</td>\n",
       "      <td>0.037574</td>\n",
       "      <td>Health and Hygiene</td>\n",
       "      <td>100.0042</td>\n",
       "      <td>OUT035</td>\n",
       "      <td>2004</td>\n",
       "      <td>2</td>\n",
       "      <td>1</td>\n",
       "      <td>1</td>\n",
       "      <td>2976.1260</td>\n",
       "      <td>9</td>\n",
       "      <td>2</td>\n",
       "      <td>6</td>\n",
       "    </tr>\n",
       "    <tr>\n",
       "      <th>8500</th>\n",
       "      <td>NCQ42</td>\n",
       "      <td>20.350000</td>\n",
       "      <td>1</td>\n",
       "      <td>0.037637</td>\n",
       "      <td>Household</td>\n",
       "      <td>125.1678</td>\n",
       "      <td>OUT017</td>\n",
       "      <td>2007</td>\n",
       "      <td>2</td>\n",
       "      <td>1</td>\n",
       "      <td>1</td>\n",
       "      <td>1907.5170</td>\n",
       "      <td>6</td>\n",
       "      <td>2</td>\n",
       "      <td>2</td>\n",
       "    </tr>\n",
       "    <tr>\n",
       "      <th>8501</th>\n",
       "      <td>FDW21</td>\n",
       "      <td>5.340000</td>\n",
       "      <td>2</td>\n",
       "      <td>0.005998</td>\n",
       "      <td>Snack Foods</td>\n",
       "      <td>100.4358</td>\n",
       "      <td>OUT017</td>\n",
       "      <td>2007</td>\n",
       "      <td>2</td>\n",
       "      <td>1</td>\n",
       "      <td>1</td>\n",
       "      <td>1508.0370</td>\n",
       "      <td>6</td>\n",
       "      <td>1</td>\n",
       "      <td>2</td>\n",
       "    </tr>\n",
       "    <tr>\n",
       "      <th>8502</th>\n",
       "      <td>NCH43</td>\n",
       "      <td>8.420000</td>\n",
       "      <td>1</td>\n",
       "      <td>0.070712</td>\n",
       "      <td>Household</td>\n",
       "      <td>216.4192</td>\n",
       "      <td>OUT045</td>\n",
       "      <td>2002</td>\n",
       "      <td>2</td>\n",
       "      <td>1</td>\n",
       "      <td>1</td>\n",
       "      <td>3020.0688</td>\n",
       "      <td>11</td>\n",
       "      <td>2</td>\n",
       "      <td>7</td>\n",
       "    </tr>\n",
       "    <tr>\n",
       "      <th>8503</th>\n",
       "      <td>FDQ44</td>\n",
       "      <td>20.500000</td>\n",
       "      <td>0</td>\n",
       "      <td>0.036133</td>\n",
       "      <td>Fruits and Vegetables</td>\n",
       "      <td>120.1756</td>\n",
       "      <td>OUT035</td>\n",
       "      <td>2004</td>\n",
       "      <td>2</td>\n",
       "      <td>1</td>\n",
       "      <td>1</td>\n",
       "      <td>3392.9168</td>\n",
       "      <td>9</td>\n",
       "      <td>1</td>\n",
       "      <td>6</td>\n",
       "    </tr>\n",
       "    <tr>\n",
       "      <th>8504</th>\n",
       "      <td>NCN18</td>\n",
       "      <td>13.384736</td>\n",
       "      <td>1</td>\n",
       "      <td>0.124111</td>\n",
       "      <td>Household</td>\n",
       "      <td>111.7544</td>\n",
       "      <td>OUT027</td>\n",
       "      <td>1985</td>\n",
       "      <td>1</td>\n",
       "      <td>2</td>\n",
       "      <td>3</td>\n",
       "      <td>4138.6128</td>\n",
       "      <td>28</td>\n",
       "      <td>2</td>\n",
       "      <td>5</td>\n",
       "    </tr>\n",
       "    <tr>\n",
       "      <th>8505</th>\n",
       "      <td>FDB46</td>\n",
       "      <td>10.500000</td>\n",
       "      <td>2</td>\n",
       "      <td>0.094146</td>\n",
       "      <td>Snack Foods</td>\n",
       "      <td>210.8244</td>\n",
       "      <td>OUT018</td>\n",
       "      <td>2009</td>\n",
       "      <td>1</td>\n",
       "      <td>2</td>\n",
       "      <td>2</td>\n",
       "      <td>2117.2440</td>\n",
       "      <td>4</td>\n",
       "      <td>1</td>\n",
       "      <td>3</td>\n",
       "    </tr>\n",
       "    <tr>\n",
       "      <th>8506</th>\n",
       "      <td>DRF37</td>\n",
       "      <td>17.250000</td>\n",
       "      <td>0</td>\n",
       "      <td>0.084676</td>\n",
       "      <td>Soft Drinks</td>\n",
       "      <td>263.1910</td>\n",
       "      <td>OUT018</td>\n",
       "      <td>2009</td>\n",
       "      <td>1</td>\n",
       "      <td>2</td>\n",
       "      <td>2</td>\n",
       "      <td>3944.8650</td>\n",
       "      <td>4</td>\n",
       "      <td>0</td>\n",
       "      <td>3</td>\n",
       "    </tr>\n",
       "    <tr>\n",
       "      <th>8507</th>\n",
       "      <td>FDN28</td>\n",
       "      <td>5.880000</td>\n",
       "      <td>2</td>\n",
       "      <td>0.030242</td>\n",
       "      <td>Frozen Foods</td>\n",
       "      <td>101.7990</td>\n",
       "      <td>OUT035</td>\n",
       "      <td>2004</td>\n",
       "      <td>2</td>\n",
       "      <td>1</td>\n",
       "      <td>1</td>\n",
       "      <td>515.9950</td>\n",
       "      <td>9</td>\n",
       "      <td>1</td>\n",
       "      <td>6</td>\n",
       "    </tr>\n",
       "    <tr>\n",
       "      <th>8508</th>\n",
       "      <td>FDW31</td>\n",
       "      <td>11.350000</td>\n",
       "      <td>2</td>\n",
       "      <td>0.043246</td>\n",
       "      <td>Fruits and Vegetables</td>\n",
       "      <td>199.4742</td>\n",
       "      <td>OUT045</td>\n",
       "      <td>2002</td>\n",
       "      <td>2</td>\n",
       "      <td>1</td>\n",
       "      <td>1</td>\n",
       "      <td>2587.9646</td>\n",
       "      <td>11</td>\n",
       "      <td>1</td>\n",
       "      <td>7</td>\n",
       "    </tr>\n",
       "    <tr>\n",
       "      <th>8509</th>\n",
       "      <td>FDG45</td>\n",
       "      <td>8.100000</td>\n",
       "      <td>0</td>\n",
       "      <td>0.214306</td>\n",
       "      <td>Fruits and Vegetables</td>\n",
       "      <td>213.9902</td>\n",
       "      <td>OUT010</td>\n",
       "      <td>1998</td>\n",
       "      <td>1</td>\n",
       "      <td>2</td>\n",
       "      <td>0</td>\n",
       "      <td>424.7804</td>\n",
       "      <td>15</td>\n",
       "      <td>1</td>\n",
       "      <td>0</td>\n",
       "    </tr>\n",
       "    <tr>\n",
       "      <th>8510</th>\n",
       "      <td>FDN58</td>\n",
       "      <td>13.800000</td>\n",
       "      <td>2</td>\n",
       "      <td>0.056862</td>\n",
       "      <td>Snack Foods</td>\n",
       "      <td>231.5984</td>\n",
       "      <td>OUT035</td>\n",
       "      <td>2004</td>\n",
       "      <td>2</td>\n",
       "      <td>1</td>\n",
       "      <td>1</td>\n",
       "      <td>7182.6504</td>\n",
       "      <td>9</td>\n",
       "      <td>1</td>\n",
       "      <td>6</td>\n",
       "    </tr>\n",
       "    <tr>\n",
       "      <th>8511</th>\n",
       "      <td>FDF05</td>\n",
       "      <td>17.500000</td>\n",
       "      <td>0</td>\n",
       "      <td>0.026980</td>\n",
       "      <td>Frozen Foods</td>\n",
       "      <td>262.5910</td>\n",
       "      <td>OUT018</td>\n",
       "      <td>2009</td>\n",
       "      <td>1</td>\n",
       "      <td>2</td>\n",
       "      <td>2</td>\n",
       "      <td>4207.8560</td>\n",
       "      <td>4</td>\n",
       "      <td>1</td>\n",
       "      <td>3</td>\n",
       "    </tr>\n",
       "    <tr>\n",
       "      <th>8512</th>\n",
       "      <td>FDR26</td>\n",
       "      <td>20.700000</td>\n",
       "      <td>0</td>\n",
       "      <td>0.042801</td>\n",
       "      <td>Dairy</td>\n",
       "      <td>178.3028</td>\n",
       "      <td>OUT013</td>\n",
       "      <td>1987</td>\n",
       "      <td>0</td>\n",
       "      <td>2</td>\n",
       "      <td>1</td>\n",
       "      <td>2479.4392</td>\n",
       "      <td>26</td>\n",
       "      <td>1</td>\n",
       "      <td>1</td>\n",
       "    </tr>\n",
       "    <tr>\n",
       "      <th>8513</th>\n",
       "      <td>FDH31</td>\n",
       "      <td>12.000000</td>\n",
       "      <td>2</td>\n",
       "      <td>0.020407</td>\n",
       "      <td>Meat</td>\n",
       "      <td>99.9042</td>\n",
       "      <td>OUT035</td>\n",
       "      <td>2004</td>\n",
       "      <td>2</td>\n",
       "      <td>1</td>\n",
       "      <td>1</td>\n",
       "      <td>595.2252</td>\n",
       "      <td>9</td>\n",
       "      <td>1</td>\n",
       "      <td>6</td>\n",
       "    </tr>\n",
       "    <tr>\n",
       "      <th>8514</th>\n",
       "      <td>FDA01</td>\n",
       "      <td>15.000000</td>\n",
       "      <td>2</td>\n",
       "      <td>0.054489</td>\n",
       "      <td>Canned</td>\n",
       "      <td>57.5904</td>\n",
       "      <td>OUT045</td>\n",
       "      <td>2002</td>\n",
       "      <td>2</td>\n",
       "      <td>1</td>\n",
       "      <td>1</td>\n",
       "      <td>468.7232</td>\n",
       "      <td>11</td>\n",
       "      <td>1</td>\n",
       "      <td>7</td>\n",
       "    </tr>\n",
       "    <tr>\n",
       "      <th>8515</th>\n",
       "      <td>FDH24</td>\n",
       "      <td>20.700000</td>\n",
       "      <td>0</td>\n",
       "      <td>0.021518</td>\n",
       "      <td>Baking Goods</td>\n",
       "      <td>157.5288</td>\n",
       "      <td>OUT018</td>\n",
       "      <td>2009</td>\n",
       "      <td>1</td>\n",
       "      <td>2</td>\n",
       "      <td>2</td>\n",
       "      <td>1571.2880</td>\n",
       "      <td>4</td>\n",
       "      <td>1</td>\n",
       "      <td>3</td>\n",
       "    </tr>\n",
       "    <tr>\n",
       "      <th>8516</th>\n",
       "      <td>NCJ19</td>\n",
       "      <td>18.600000</td>\n",
       "      <td>1</td>\n",
       "      <td>0.118661</td>\n",
       "      <td>Others</td>\n",
       "      <td>58.7588</td>\n",
       "      <td>OUT018</td>\n",
       "      <td>2009</td>\n",
       "      <td>1</td>\n",
       "      <td>2</td>\n",
       "      <td>2</td>\n",
       "      <td>858.8820</td>\n",
       "      <td>4</td>\n",
       "      <td>2</td>\n",
       "      <td>3</td>\n",
       "    </tr>\n",
       "    <tr>\n",
       "      <th>8517</th>\n",
       "      <td>FDF53</td>\n",
       "      <td>20.750000</td>\n",
       "      <td>2</td>\n",
       "      <td>0.083607</td>\n",
       "      <td>Frozen Foods</td>\n",
       "      <td>178.8318</td>\n",
       "      <td>OUT046</td>\n",
       "      <td>1997</td>\n",
       "      <td>2</td>\n",
       "      <td>0</td>\n",
       "      <td>1</td>\n",
       "      <td>3608.6360</td>\n",
       "      <td>16</td>\n",
       "      <td>1</td>\n",
       "      <td>8</td>\n",
       "    </tr>\n",
       "    <tr>\n",
       "      <th>8518</th>\n",
       "      <td>FDF22</td>\n",
       "      <td>6.865000</td>\n",
       "      <td>0</td>\n",
       "      <td>0.056783</td>\n",
       "      <td>Snack Foods</td>\n",
       "      <td>214.5218</td>\n",
       "      <td>OUT013</td>\n",
       "      <td>1987</td>\n",
       "      <td>0</td>\n",
       "      <td>2</td>\n",
       "      <td>1</td>\n",
       "      <td>2778.3834</td>\n",
       "      <td>26</td>\n",
       "      <td>1</td>\n",
       "      <td>1</td>\n",
       "    </tr>\n",
       "    <tr>\n",
       "      <th>8519</th>\n",
       "      <td>FDS36</td>\n",
       "      <td>8.380000</td>\n",
       "      <td>2</td>\n",
       "      <td>0.046982</td>\n",
       "      <td>Baking Goods</td>\n",
       "      <td>108.1570</td>\n",
       "      <td>OUT045</td>\n",
       "      <td>2002</td>\n",
       "      <td>2</td>\n",
       "      <td>1</td>\n",
       "      <td>1</td>\n",
       "      <td>549.2850</td>\n",
       "      <td>11</td>\n",
       "      <td>1</td>\n",
       "      <td>7</td>\n",
       "    </tr>\n",
       "    <tr>\n",
       "      <th>8520</th>\n",
       "      <td>NCJ29</td>\n",
       "      <td>10.600000</td>\n",
       "      <td>1</td>\n",
       "      <td>0.035186</td>\n",
       "      <td>Health and Hygiene</td>\n",
       "      <td>85.1224</td>\n",
       "      <td>OUT035</td>\n",
       "      <td>2004</td>\n",
       "      <td>2</td>\n",
       "      <td>1</td>\n",
       "      <td>1</td>\n",
       "      <td>1193.1136</td>\n",
       "      <td>9</td>\n",
       "      <td>2</td>\n",
       "      <td>6</td>\n",
       "    </tr>\n",
       "    <tr>\n",
       "      <th>8521</th>\n",
       "      <td>FDN46</td>\n",
       "      <td>7.210000</td>\n",
       "      <td>2</td>\n",
       "      <td>0.145221</td>\n",
       "      <td>Snack Foods</td>\n",
       "      <td>103.1332</td>\n",
       "      <td>OUT018</td>\n",
       "      <td>2009</td>\n",
       "      <td>1</td>\n",
       "      <td>2</td>\n",
       "      <td>2</td>\n",
       "      <td>1845.5976</td>\n",
       "      <td>4</td>\n",
       "      <td>1</td>\n",
       "      <td>3</td>\n",
       "    </tr>\n",
       "    <tr>\n",
       "      <th>8522</th>\n",
       "      <td>DRG01</td>\n",
       "      <td>14.800000</td>\n",
       "      <td>0</td>\n",
       "      <td>0.044878</td>\n",
       "      <td>Soft Drinks</td>\n",
       "      <td>75.4670</td>\n",
       "      <td>OUT046</td>\n",
       "      <td>1997</td>\n",
       "      <td>2</td>\n",
       "      <td>0</td>\n",
       "      <td>1</td>\n",
       "      <td>765.6700</td>\n",
       "      <td>16</td>\n",
       "      <td>0</td>\n",
       "      <td>8</td>\n",
       "    </tr>\n",
       "  </tbody>\n",
       "</table>\n",
       "<p>8523 rows × 15 columns</p>\n",
       "</div>"
      ],
      "text/plain": [
       "     Item_Identifier  Item_Weight  Item_Fat_Content  Item_Visibility  \\\n",
       "0              FDA15     9.300000                 0         0.016047   \n",
       "1              DRC01     5.920000                 2         0.019278   \n",
       "2              FDN15    17.500000                 0         0.016760   \n",
       "3              FDX07    19.200000                 2         0.015274   \n",
       "4              NCD19     8.930000                 1         0.008082   \n",
       "5              FDP36    10.395000                 2         0.060928   \n",
       "6              FDO10    13.650000                 2         0.012741   \n",
       "7              FDP10    13.707177                 0         0.127470   \n",
       "8              FDH17    16.200000                 2         0.016687   \n",
       "9              FDU28    19.200000                 2         0.094450   \n",
       "10             FDY07    11.800000                 0         0.052234   \n",
       "11             FDA03    18.500000                 2         0.045464   \n",
       "12             FDX32    15.100000                 2         0.100014   \n",
       "13             FDS46    17.600000                 2         0.047257   \n",
       "14             FDF32    16.350000                 0         0.068024   \n",
       "15             FDP49     9.000000                 2         0.069089   \n",
       "16             NCB42    11.800000                 1         0.008596   \n",
       "17             FDP49     9.000000                 2         0.069196   \n",
       "18             DRI11    11.400328                 0         0.034238   \n",
       "19             FDU02    13.350000                 0         0.102492   \n",
       "20             FDN22    18.850000                 2         0.138190   \n",
       "21             FDW12    12.013303                 2         0.035400   \n",
       "22             NCB30    14.600000                 1         0.025698   \n",
       "23             FDC37    12.552996                 0         0.057557   \n",
       "24             FDR28    13.850000                 2         0.025896   \n",
       "25             NCD06    13.000000                 1         0.099887   \n",
       "26             FDV10     7.645000                 2         0.066693   \n",
       "27             DRJ59    11.650000                 0         0.019356   \n",
       "28             FDE51     5.925000                 2         0.161467   \n",
       "29             FDC14    12.804289                 2         0.072222   \n",
       "...              ...          ...               ...              ...   \n",
       "8493           FDP21     7.420000                 2         0.025886   \n",
       "8494           NCI54    15.200000                 1         0.035194   \n",
       "8495           FDE22     9.695000                 0         0.029567   \n",
       "8496           FDJ57     7.420000                 2         0.021696   \n",
       "8497           FDT08    13.650000                 0         0.049209   \n",
       "8498           NCP54    15.350000                 1         0.035293   \n",
       "8499           NCK53    11.600000                 1         0.037574   \n",
       "8500           NCQ42    20.350000                 1         0.037637   \n",
       "8501           FDW21     5.340000                 2         0.005998   \n",
       "8502           NCH43     8.420000                 1         0.070712   \n",
       "8503           FDQ44    20.500000                 0         0.036133   \n",
       "8504           NCN18    13.384736                 1         0.124111   \n",
       "8505           FDB46    10.500000                 2         0.094146   \n",
       "8506           DRF37    17.250000                 0         0.084676   \n",
       "8507           FDN28     5.880000                 2         0.030242   \n",
       "8508           FDW31    11.350000                 2         0.043246   \n",
       "8509           FDG45     8.100000                 0         0.214306   \n",
       "8510           FDN58    13.800000                 2         0.056862   \n",
       "8511           FDF05    17.500000                 0         0.026980   \n",
       "8512           FDR26    20.700000                 0         0.042801   \n",
       "8513           FDH31    12.000000                 2         0.020407   \n",
       "8514           FDA01    15.000000                 2         0.054489   \n",
       "8515           FDH24    20.700000                 0         0.021518   \n",
       "8516           NCJ19    18.600000                 1         0.118661   \n",
       "8517           FDF53    20.750000                 2         0.083607   \n",
       "8518           FDF22     6.865000                 0         0.056783   \n",
       "8519           FDS36     8.380000                 2         0.046982   \n",
       "8520           NCJ29    10.600000                 1         0.035186   \n",
       "8521           FDN46     7.210000                 2         0.145221   \n",
       "8522           DRG01    14.800000                 0         0.044878   \n",
       "\n",
       "                  Item_Type  Item_MRP Outlet_Identifier  \\\n",
       "0                     Dairy  249.8092            OUT049   \n",
       "1               Soft Drinks   48.2692            OUT018   \n",
       "2                      Meat  141.6180            OUT049   \n",
       "3     Fruits and Vegetables  182.0950            OUT010   \n",
       "4                 Household   53.8614            OUT013   \n",
       "5              Baking Goods   51.4008            OUT018   \n",
       "6               Snack Foods   57.6588            OUT013   \n",
       "7               Snack Foods  107.7622            OUT027   \n",
       "8              Frozen Foods   96.9726            OUT045   \n",
       "9              Frozen Foods  187.8214            OUT017   \n",
       "10    Fruits and Vegetables   45.5402            OUT049   \n",
       "11                    Dairy  144.1102            OUT046   \n",
       "12    Fruits and Vegetables  145.4786            OUT049   \n",
       "13              Snack Foods  119.6782            OUT046   \n",
       "14    Fruits and Vegetables  196.4426            OUT013   \n",
       "15                Breakfast   56.3614            OUT046   \n",
       "16       Health and Hygiene  115.3492            OUT018   \n",
       "17                Breakfast   54.3614            OUT049   \n",
       "18              Hard Drinks  113.2834            OUT027   \n",
       "19                    Dairy  230.5352            OUT035   \n",
       "20              Snack Foods  250.8724            OUT013   \n",
       "21             Baking Goods  144.5444            OUT027   \n",
       "22                Household  196.5084            OUT035   \n",
       "23             Baking Goods  107.6938            OUT019   \n",
       "24             Frozen Foods  165.0210            OUT046   \n",
       "25                Household   45.9060            OUT017   \n",
       "26              Snack Foods   42.3112            OUT035   \n",
       "27              Hard Drinks   39.1164            OUT013   \n",
       "28                    Dairy   45.5086            OUT010   \n",
       "29                   Canned   43.6454            OUT019   \n",
       "...                     ...       ...               ...   \n",
       "8493            Snack Foods  189.1872            OUT017   \n",
       "8494              Household  110.4912            OUT017   \n",
       "8495            Snack Foods  160.4920            OUT035   \n",
       "8496                Seafood  185.3582            OUT017   \n",
       "8497  Fruits and Vegetables  150.0050            OUT035   \n",
       "8498              Household  124.5730            OUT018   \n",
       "8499     Health and Hygiene  100.0042            OUT035   \n",
       "8500              Household  125.1678            OUT017   \n",
       "8501            Snack Foods  100.4358            OUT017   \n",
       "8502              Household  216.4192            OUT045   \n",
       "8503  Fruits and Vegetables  120.1756            OUT035   \n",
       "8504              Household  111.7544            OUT027   \n",
       "8505            Snack Foods  210.8244            OUT018   \n",
       "8506            Soft Drinks  263.1910            OUT018   \n",
       "8507           Frozen Foods  101.7990            OUT035   \n",
       "8508  Fruits and Vegetables  199.4742            OUT045   \n",
       "8509  Fruits and Vegetables  213.9902            OUT010   \n",
       "8510            Snack Foods  231.5984            OUT035   \n",
       "8511           Frozen Foods  262.5910            OUT018   \n",
       "8512                  Dairy  178.3028            OUT013   \n",
       "8513                   Meat   99.9042            OUT035   \n",
       "8514                 Canned   57.5904            OUT045   \n",
       "8515           Baking Goods  157.5288            OUT018   \n",
       "8516                 Others   58.7588            OUT018   \n",
       "8517           Frozen Foods  178.8318            OUT046   \n",
       "8518            Snack Foods  214.5218            OUT013   \n",
       "8519           Baking Goods  108.1570            OUT045   \n",
       "8520     Health and Hygiene   85.1224            OUT035   \n",
       "8521            Snack Foods  103.1332            OUT018   \n",
       "8522            Soft Drinks   75.4670            OUT046   \n",
       "\n",
       "      Outlet_Establishment_Year  Outlet_Size  Outlet_Location_Type  \\\n",
       "0                          1999            1                     0   \n",
       "1                          2009            1                     2   \n",
       "2                          1999            1                     0   \n",
       "3                          1998            1                     2   \n",
       "4                          1987            0                     2   \n",
       "5                          2009            1                     2   \n",
       "6                          1987            0                     2   \n",
       "7                          1985            1                     2   \n",
       "8                          2002            2                     1   \n",
       "9                          2007            2                     1   \n",
       "10                         1999            1                     0   \n",
       "11                         1997            2                     0   \n",
       "12                         1999            1                     0   \n",
       "13                         1997            2                     0   \n",
       "14                         1987            0                     2   \n",
       "15                         1997            2                     0   \n",
       "16                         2009            1                     2   \n",
       "17                         1999            1                     0   \n",
       "18                         1985            1                     2   \n",
       "19                         2004            2                     1   \n",
       "20                         1987            0                     2   \n",
       "21                         1985            1                     2   \n",
       "22                         2004            2                     1   \n",
       "23                         1985            2                     0   \n",
       "24                         1997            2                     0   \n",
       "25                         2007            2                     1   \n",
       "26                         2004            2                     1   \n",
       "27                         1987            0                     2   \n",
       "28                         1998            1                     2   \n",
       "29                         1985            2                     0   \n",
       "...                         ...          ...                   ...   \n",
       "8493                       2007            2                     1   \n",
       "8494                       2007            2                     1   \n",
       "8495                       2004            2                     1   \n",
       "8496                       2007            2                     1   \n",
       "8497                       2004            2                     1   \n",
       "8498                       2009            1                     2   \n",
       "8499                       2004            2                     1   \n",
       "8500                       2007            2                     1   \n",
       "8501                       2007            2                     1   \n",
       "8502                       2002            2                     1   \n",
       "8503                       2004            2                     1   \n",
       "8504                       1985            1                     2   \n",
       "8505                       2009            1                     2   \n",
       "8506                       2009            1                     2   \n",
       "8507                       2004            2                     1   \n",
       "8508                       2002            2                     1   \n",
       "8509                       1998            1                     2   \n",
       "8510                       2004            2                     1   \n",
       "8511                       2009            1                     2   \n",
       "8512                       1987            0                     2   \n",
       "8513                       2004            2                     1   \n",
       "8514                       2002            2                     1   \n",
       "8515                       2009            1                     2   \n",
       "8516                       2009            1                     2   \n",
       "8517                       1997            2                     0   \n",
       "8518                       1987            0                     2   \n",
       "8519                       2002            2                     1   \n",
       "8520                       2004            2                     1   \n",
       "8521                       2009            1                     2   \n",
       "8522                       1997            2                     0   \n",
       "\n",
       "      Outlet_Type  Item_Outlet_Sales  Outlet_Age  Item_Type_Combined  Outlet  \n",
       "0               1          3735.1380          14                   1       9  \n",
       "1               2           443.4228           4                   0       3  \n",
       "2               1          2097.2700          14                   1       9  \n",
       "3               0           732.3800          15                   1       0  \n",
       "4               1           994.7052          26                   2       1  \n",
       "5               2           556.6088           4                   1       3  \n",
       "6               1           343.5528          26                   1       1  \n",
       "7               3          4022.7636          28                   1       5  \n",
       "8               1          1076.5986          11                   1       7  \n",
       "9               1          4710.5350           6                   1       2  \n",
       "10              1          1516.0266          14                   1       9  \n",
       "11              1          2187.1530          16                   1       8  \n",
       "12              1          1589.2646          14                   1       9  \n",
       "13              1          2145.2076          16                   1       8  \n",
       "14              1          1977.4260          26                   1       1  \n",
       "15              1          1547.3192          16                   1       8  \n",
       "16              2          1621.8888           4                   2       3  \n",
       "17              1           718.3982          14                   1       9  \n",
       "18              3          2303.6680          28                   0       5  \n",
       "19              1          2748.4224           9                   1       6  \n",
       "20              1          3775.0860          26                   1       1  \n",
       "21              3          4064.0432          28                   1       5  \n",
       "22              1          1587.2672           9                   2       6  \n",
       "23              0           214.3876          28                   1       4  \n",
       "24              1          4078.0250          16                   1       8  \n",
       "25              1           838.9080           6                   2       2  \n",
       "26              1          1065.2800           9                   1       6  \n",
       "27              1           308.9312          26                   0       1  \n",
       "28              0           178.4344          15                   1       0  \n",
       "29              0           125.8362          28                   1       4  \n",
       "...           ...                ...         ...                 ...     ...  \n",
       "8493            1          4727.1800           6                   1       2  \n",
       "8494            1          1637.8680           6                   2       2  \n",
       "8495            1          4314.3840           9                   1       6  \n",
       "8496            1          3715.1640           6                   1       2  \n",
       "8497            1          2247.0750           9                   1       6  \n",
       "8498            2          1601.2490           4                   2       3  \n",
       "8499            1          2976.1260           9                   2       6  \n",
       "8500            1          1907.5170           6                   2       2  \n",
       "8501            1          1508.0370           6                   1       2  \n",
       "8502            1          3020.0688          11                   2       7  \n",
       "8503            1          3392.9168           9                   1       6  \n",
       "8504            3          4138.6128          28                   2       5  \n",
       "8505            2          2117.2440           4                   1       3  \n",
       "8506            2          3944.8650           4                   0       3  \n",
       "8507            1           515.9950           9                   1       6  \n",
       "8508            1          2587.9646          11                   1       7  \n",
       "8509            0           424.7804          15                   1       0  \n",
       "8510            1          7182.6504           9                   1       6  \n",
       "8511            2          4207.8560           4                   1       3  \n",
       "8512            1          2479.4392          26                   1       1  \n",
       "8513            1           595.2252           9                   1       6  \n",
       "8514            1           468.7232          11                   1       7  \n",
       "8515            2          1571.2880           4                   1       3  \n",
       "8516            2           858.8820           4                   2       3  \n",
       "8517            1          3608.6360          16                   1       8  \n",
       "8518            1          2778.3834          26                   1       1  \n",
       "8519            1           549.2850          11                   1       7  \n",
       "8520            1          1193.1136           9                   2       6  \n",
       "8521            2          1845.5976           4                   1       3  \n",
       "8522            1           765.6700          16                   0       8  \n",
       "\n",
       "[8523 rows x 15 columns]"
      ]
     },
     "execution_count": 74,
     "metadata": {},
     "output_type": "execute_result"
    }
   ],
   "source": [
    "train_df"
   ]
  },
  {
   "cell_type": "code",
   "execution_count": 75,
   "metadata": {},
   "outputs": [],
   "source": [
    "#Drop the columns which have been converted to different types:\n",
    "train_df.drop(['Item_Type','Outlet_Establishment_Year'],axis=1,inplace=True)\n"
   ]
  },
  {
   "cell_type": "code",
   "execution_count": 76,
   "metadata": {},
   "outputs": [],
   "source": [
    "test_df.drop(['Item_Type','Outlet_Establishment_Year'],axis=1,inplace=True)"
   ]
  },
  {
   "cell_type": "markdown",
   "metadata": {},
   "source": [
    "# Model Building"
   ]
  },
  {
   "cell_type": "markdown",
   "metadata": {},
   "source": [
    "## Model 1-Linear Regression"
   ]
  },
  {
   "cell_type": "code",
   "execution_count": 77,
   "metadata": {},
   "outputs": [],
   "source": [
    "target='Item_Outlet_Sales'\n",
    "parameter=train_df.drop(['Item_Identifier','Outlet_Identifier','Item_Outlet_Sales'],axis=1).columns\n",
    "IDcol=['Item_Identifier','Outlet_Identifier']"
   ]
  },
  {
   "cell_type": "code",
   "execution_count": 78,
   "metadata": {},
   "outputs": [],
   "source": [
    "X=train_df[parameter]\n",
    "y=train_df[target]"
   ]
  },
  {
   "cell_type": "code",
   "execution_count": 79,
   "metadata": {},
   "outputs": [
    {
     "name": "stderr",
     "output_type": "stream",
     "text": [
      "C:\\Users\\ASUS\\Anaconda3\\lib\\site-packages\\sklearn\\cross_validation.py:41: DeprecationWarning: This module was deprecated in version 0.18 in favor of the model_selection module into which all the refactored classes and functions are moved. Also note that the interface of the new CV iterators are different from that of this module. This module will be removed in 0.20.\n",
      "  \"This module will be removed in 0.20.\", DeprecationWarning)\n"
     ]
    }
   ],
   "source": [
    "from sklearn.linear_model import LinearRegression\n",
    "from sklearn.cross_validation import cross_val_score, cross_val_predict\n",
    "from sklearn import metrics\n",
    "from sklearn.model_selection import train_test_split\n"
   ]
  },
  {
   "cell_type": "code",
   "execution_count": 80,
   "metadata": {},
   "outputs": [],
   "source": [
    "X_train,X_test,y_train,y_test=train_test_split(X,y,test_size=0.3)\n"
   ]
  },
  {
   "cell_type": "code",
   "execution_count": 81,
   "metadata": {},
   "outputs": [],
   "source": [
    "LR=LinearRegression()"
   ]
  },
  {
   "cell_type": "code",
   "execution_count": 82,
   "metadata": {},
   "outputs": [],
   "source": [
    "model=LR.fit(X_train,y_train)"
   ]
  },
  {
   "cell_type": "code",
   "execution_count": 83,
   "metadata": {},
   "outputs": [],
   "source": [
    "prediction=LR.predict(X_test)"
   ]
  },
  {
   "cell_type": "code",
   "execution_count": 84,
   "metadata": {},
   "outputs": [],
   "source": [
    "LR_accuracy=round(cross_val_score(LR,X,y,cv=10).mean()*100,2)"
   ]
  },
  {
   "cell_type": "code",
   "execution_count": 85,
   "metadata": {},
   "outputs": [
    {
     "data": {
      "text/plain": [
       "49.93"
      ]
     },
     "execution_count": 85,
     "metadata": {},
     "output_type": "execute_result"
    }
   ],
   "source": [
    "LR_accuracy"
   ]
  },
  {
   "cell_type": "markdown",
   "metadata": {},
   "source": [
    "## Decision Tree"
   ]
  },
  {
   "cell_type": "code",
   "execution_count": 86,
   "metadata": {},
   "outputs": [],
   "source": [
    "from sklearn.tree import DecisionTreeRegressor"
   ]
  },
  {
   "cell_type": "code",
   "execution_count": 87,
   "metadata": {},
   "outputs": [],
   "source": [
    "tree = DecisionTreeRegressor(max_depth=15,min_samples_leaf=100)"
   ]
  },
  {
   "cell_type": "code",
   "execution_count": 88,
   "metadata": {},
   "outputs": [],
   "source": [
    "DR_accuracy=round(cross_val_score(tree,X,y,cv=10).mean()*100,2)"
   ]
  },
  {
   "cell_type": "code",
   "execution_count": 89,
   "metadata": {},
   "outputs": [
    {
     "data": {
      "text/plain": [
       "58.7"
      ]
     },
     "execution_count": 89,
     "metadata": {},
     "output_type": "execute_result"
    }
   ],
   "source": [
    "DR_accuracy"
   ]
  },
  {
   "cell_type": "markdown",
   "metadata": {},
   "source": [
    "## RandomForest"
   ]
  },
  {
   "cell_type": "code",
   "execution_count": 90,
   "metadata": {},
   "outputs": [
    {
     "name": "stderr",
     "output_type": "stream",
     "text": [
      "C:\\Users\\ASUS\\Anaconda3\\lib\\site-packages\\sklearn\\ensemble\\weight_boosting.py:29: DeprecationWarning: numpy.core.umath_tests is an internal NumPy module and should not be imported. It will be removed in a future NumPy release.\n",
      "  from numpy.core.umath_tests import inner1d\n"
     ]
    }
   ],
   "source": [
    "from sklearn.ensemble import RandomForestRegressor\n",
    "RF=RandomForestRegressor(n_estimators=400,max_depth=6, min_samples_leaf=100,n_jobs=4)\n",
    "RF_accuracy=round(cross_val_score(RF,X,y,cv=10).mean()*100,2)"
   ]
  },
  {
   "cell_type": "code",
   "execution_count": 91,
   "metadata": {},
   "outputs": [
    {
     "data": {
      "text/plain": [
       "59.47"
      ]
     },
     "execution_count": 91,
     "metadata": {},
     "output_type": "execute_result"
    }
   ],
   "source": [
    "RF_accuracy"
   ]
  },
  {
   "cell_type": "markdown",
   "metadata": {},
   "source": [
    "## SupportVector"
   ]
  },
  {
   "cell_type": "code",
   "execution_count": 92,
   "metadata": {},
   "outputs": [],
   "source": [
    "from sklearn.svm import SVR\n",
    "svm=SVR(kernel='linear',C=100,gamma='auto')\n",
    "svm_accuracy=round(cross_val_score(tree,X,y,cv=10).mean()*100,2)"
   ]
  },
  {
   "cell_type": "code",
   "execution_count": 93,
   "metadata": {},
   "outputs": [
    {
     "data": {
      "text/plain": [
       "58.7"
      ]
     },
     "execution_count": 93,
     "metadata": {},
     "output_type": "execute_result"
    }
   ],
   "source": [
    "svm_accuracy"
   ]
  },
  {
   "cell_type": "markdown",
   "metadata": {},
   "source": [
    "## KNearestNeighbors"
   ]
  },
  {
   "cell_type": "code",
   "execution_count": 94,
   "metadata": {},
   "outputs": [],
   "source": [
    "from sklearn.neighbors import KNeighborsRegressor\n",
    "KNN=KNeighborsRegressor(weights='uniform')\n",
    "KNN_accuracy=round(cross_val_score(KNN,X,y,cv=10).mean()*100,2)"
   ]
  },
  {
   "cell_type": "code",
   "execution_count": 95,
   "metadata": {},
   "outputs": [
    {
     "data": {
      "text/plain": [
       "51.22"
      ]
     },
     "execution_count": 95,
     "metadata": {},
     "output_type": "execute_result"
    }
   ],
   "source": [
    "KNN_accuracy"
   ]
  },
  {
   "cell_type": "markdown",
   "metadata": {},
   "source": [
    "## Bagging"
   ]
  },
  {
   "cell_type": "code",
   "execution_count": 96,
   "metadata": {},
   "outputs": [],
   "source": [
    "from sklearn.ensemble import BaggingRegressor\n",
    "regr = BaggingRegressor(base_estimator=DecisionTreeRegressor(max_depth=15,min_samples_leaf=100),n_estimators=10, random_state=0)\n",
    "regr_accuracy=round(cross_val_score(regr,X,y,cv=10).mean()*100,2)"
   ]
  },
  {
   "cell_type": "code",
   "execution_count": 97,
   "metadata": {},
   "outputs": [
    {
     "data": {
      "text/plain": [
       "59.26"
      ]
     },
     "execution_count": 97,
     "metadata": {},
     "output_type": "execute_result"
    }
   ],
   "source": [
    "regr_accuracy"
   ]
  },
  {
   "cell_type": "markdown",
   "metadata": {},
   "source": [
    "## GradientBoost"
   ]
  },
  {
   "cell_type": "code",
   "execution_count": 106,
   "metadata": {},
   "outputs": [],
   "source": [
    "from sklearn.ensemble import GradientBoostingRegressor\n",
    "est = GradientBoostingRegressor(n_estimators=100, learning_rate=0.1,\n",
    "                                max_depth=1, random_state=42, loss='ls')\n",
    "est_accuracy=round(cross_val_score(est,X,y,cv=10).mean()*100,2)"
   ]
  },
  {
   "cell_type": "code",
   "execution_count": 107,
   "metadata": {},
   "outputs": [
    {
     "data": {
      "text/plain": [
       "55.46"
      ]
     },
     "execution_count": 107,
     "metadata": {},
     "output_type": "execute_result"
    }
   ],
   "source": [
    "est_accuracy"
   ]
  },
  {
   "cell_type": "markdown",
   "metadata": {},
   "source": [
    "## Evaluating Models"
   ]
  },
  {
   "cell_type": "code",
   "execution_count": 113,
   "metadata": {},
   "outputs": [],
   "source": [
    "models_accuracy={'Models':['LinearRegression','SVM','DecisionTree','RandomForest','KNN','Bagging','GradientBoost'],\n",
    "                'Accuracy':[LR_accuracy,svm_accuracy,DR_accuracy,RF_accuracy,KNN_accuracy,regr_accuracy,est_accuracy]}\n",
    "model_df=pd.DataFrame.from_dict(models_accuracy)"
   ]
  },
  {
   "cell_type": "code",
   "execution_count": 115,
   "metadata": {},
   "outputs": [
    {
     "data": {
      "text/plain": [
       "(array([0, 1, 2, 3, 4, 5, 6]), <a list of 7 Text xticklabel objects>)"
      ]
     },
     "execution_count": 115,
     "metadata": {},
     "output_type": "execute_result"
    },
    {
     "data": {
      "image/png": "[encoded data removed]",
      "text/plain": [
       "<Figure size 432x288 with 1 Axes>"
      ]
     },
     "metadata": {},
     "output_type": "display_data"
    }
   ],
   "source": [
    "sns.barplot(x='Models',y='Accuracy',data=model_df)\n",
    "plt.xticks(rotation=90)"
   ]
  },
  {
   "cell_type": "markdown",
   "metadata": {},
   "source": [
    "# Predicting Outlet Sales"
   ]
  },
  {
   "cell_type": "markdown",
   "metadata": {},
   "source": [
    "We will use Random Forest Classifier for this dataset as its mean score on cross validation is highest and it is more reliable and efficient.\n"
   ]
  },
  {
   "cell_type": "code",
   "execution_count": 136,
   "metadata": {},
   "outputs": [],
   "source": [
    "X_test=test_df[parameter]"
   ]
  },
  {
   "cell_type": "code",
   "execution_count": 142,
   "metadata": {},
   "outputs": [
    {
     "name": "stdout",
     "output_type": "stream",
     "text": [
      "accuracy of model:60.82\n"
     ]
    }
   ],
   "source": [
    "RF=RandomForestRegressor(n_estimators=400,max_depth=6, min_samples_leaf=100,n_jobs=4)\n",
    "RF.fit(X,y)\n",
    "print('accuracy of model:{}'.format(round(RF.score(X,y)*100,2)))\n",
    "y_predict=RF.predict(X_test)"
   ]
  },
  {
   "cell_type": "code",
   "execution_count": 138,
   "metadata": {},
   "outputs": [],
   "source": [
    "test_df['Item_Outlet_Sales']=y_predict"
   ]
  },
  {
   "cell_type": "code",
   "execution_count": 139,
   "metadata": {},
   "outputs": [
    {
     "data": {
      "text/html": [
       "<div>\n",
       "<style scoped>\n",
       "    .dataframe tbody tr th:only-of-type {\n",
       "        vertical-align: middle;\n",
       "    }\n",
       "\n",
       "    .dataframe tbody tr th {\n",
       "        vertical-align: top;\n",
       "    }\n",
       "\n",
       "    .dataframe thead th {\n",
       "        text-align: right;\n",
       "    }\n",
       "</style>\n",
       "<table border=\"1\" class=\"dataframe\">\n",
       "  <thead>\n",
       "    <tr style=\"text-align: right;\">\n",
       "      <th></th>\n",
       "      <th>Item_Identifier</th>\n",
       "      <th>Outlet_Identifier</th>\n",
       "      <th>Item_Outlet_Sales</th>\n",
       "    </tr>\n",
       "  </thead>\n",
       "  <tbody>\n",
       "    <tr>\n",
       "      <th>0</th>\n",
       "      <td>FDW58</td>\n",
       "      <td>OUT049</td>\n",
       "      <td>1651.247013</td>\n",
       "    </tr>\n",
       "    <tr>\n",
       "      <th>1</th>\n",
       "      <td>FDW14</td>\n",
       "      <td>OUT017</td>\n",
       "      <td>1361.471622</td>\n",
       "    </tr>\n",
       "    <tr>\n",
       "      <th>2</th>\n",
       "      <td>NCN55</td>\n",
       "      <td>OUT010</td>\n",
       "      <td>569.878672</td>\n",
       "    </tr>\n",
       "    <tr>\n",
       "      <th>3</th>\n",
       "      <td>FDQ58</td>\n",
       "      <td>OUT017</td>\n",
       "      <td>2455.761549</td>\n",
       "    </tr>\n",
       "    <tr>\n",
       "      <th>4</th>\n",
       "      <td>FDY38</td>\n",
       "      <td>OUT027</td>\n",
       "      <td>5835.128562</td>\n",
       "    </tr>\n",
       "    <tr>\n",
       "      <th>5</th>\n",
       "      <td>FDH56</td>\n",
       "      <td>OUT046</td>\n",
       "      <td>1926.436917</td>\n",
       "    </tr>\n",
       "    <tr>\n",
       "      <th>6</th>\n",
       "      <td>FDL48</td>\n",
       "      <td>OUT018</td>\n",
       "      <td>737.065235</td>\n",
       "    </tr>\n",
       "    <tr>\n",
       "      <th>7</th>\n",
       "      <td>FDC48</td>\n",
       "      <td>OUT027</td>\n",
       "      <td>2213.291560</td>\n",
       "    </tr>\n",
       "    <tr>\n",
       "      <th>8</th>\n",
       "      <td>FDN33</td>\n",
       "      <td>OUT045</td>\n",
       "      <td>1518.186469</td>\n",
       "    </tr>\n",
       "    <tr>\n",
       "      <th>9</th>\n",
       "      <td>FDA36</td>\n",
       "      <td>OUT017</td>\n",
       "      <td>3113.112003</td>\n",
       "    </tr>\n",
       "    <tr>\n",
       "      <th>10</th>\n",
       "      <td>FDT44</td>\n",
       "      <td>OUT017</td>\n",
       "      <td>1919.264300</td>\n",
       "    </tr>\n",
       "    <tr>\n",
       "      <th>11</th>\n",
       "      <td>FDQ56</td>\n",
       "      <td>OUT045</td>\n",
       "      <td>1364.399623</td>\n",
       "    </tr>\n",
       "    <tr>\n",
       "      <th>12</th>\n",
       "      <td>NCC54</td>\n",
       "      <td>OUT019</td>\n",
       "      <td>568.396161</td>\n",
       "    </tr>\n",
       "    <tr>\n",
       "      <th>13</th>\n",
       "      <td>FDU11</td>\n",
       "      <td>OUT049</td>\n",
       "      <td>2010.628936</td>\n",
       "    </tr>\n",
       "    <tr>\n",
       "      <th>14</th>\n",
       "      <td>DRL59</td>\n",
       "      <td>OUT013</td>\n",
       "      <td>841.463063</td>\n",
       "    </tr>\n",
       "    <tr>\n",
       "      <th>15</th>\n",
       "      <td>FDM24</td>\n",
       "      <td>OUT049</td>\n",
       "      <td>2462.048662</td>\n",
       "    </tr>\n",
       "    <tr>\n",
       "      <th>16</th>\n",
       "      <td>FDI57</td>\n",
       "      <td>OUT045</td>\n",
       "      <td>3038.804521</td>\n",
       "    </tr>\n",
       "    <tr>\n",
       "      <th>17</th>\n",
       "      <td>DRC12</td>\n",
       "      <td>OUT018</td>\n",
       "      <td>2934.353096</td>\n",
       "    </tr>\n",
       "    <tr>\n",
       "      <th>18</th>\n",
       "      <td>NCM42</td>\n",
       "      <td>OUT027</td>\n",
       "      <td>2915.820657</td>\n",
       "    </tr>\n",
       "    <tr>\n",
       "      <th>19</th>\n",
       "      <td>FDA46</td>\n",
       "      <td>OUT010</td>\n",
       "      <td>505.532952</td>\n",
       "    </tr>\n",
       "    <tr>\n",
       "      <th>20</th>\n",
       "      <td>FDA31</td>\n",
       "      <td>OUT013</td>\n",
       "      <td>2849.484874</td>\n",
       "    </tr>\n",
       "    <tr>\n",
       "      <th>21</th>\n",
       "      <td>NCJ31</td>\n",
       "      <td>OUT035</td>\n",
       "      <td>3868.511420</td>\n",
       "    </tr>\n",
       "    <tr>\n",
       "      <th>22</th>\n",
       "      <td>FDG52</td>\n",
       "      <td>OUT046</td>\n",
       "      <td>791.156425</td>\n",
       "    </tr>\n",
       "    <tr>\n",
       "      <th>23</th>\n",
       "      <td>NCL19</td>\n",
       "      <td>OUT019</td>\n",
       "      <td>287.875121</td>\n",
       "    </tr>\n",
       "    <tr>\n",
       "      <th>24</th>\n",
       "      <td>FDS10</td>\n",
       "      <td>OUT035</td>\n",
       "      <td>2974.099248</td>\n",
       "    </tr>\n",
       "    <tr>\n",
       "      <th>25</th>\n",
       "      <td>FDX22</td>\n",
       "      <td>OUT010</td>\n",
       "      <td>565.637068</td>\n",
       "    </tr>\n",
       "    <tr>\n",
       "      <th>26</th>\n",
       "      <td>NCF19</td>\n",
       "      <td>OUT035</td>\n",
       "      <td>773.551193</td>\n",
       "    </tr>\n",
       "    <tr>\n",
       "      <th>27</th>\n",
       "      <td>NCE06</td>\n",
       "      <td>OUT046</td>\n",
       "      <td>2547.920353</td>\n",
       "    </tr>\n",
       "    <tr>\n",
       "      <th>28</th>\n",
       "      <td>DRC27</td>\n",
       "      <td>OUT046</td>\n",
       "      <td>3947.432592</td>\n",
       "    </tr>\n",
       "    <tr>\n",
       "      <th>29</th>\n",
       "      <td>FDE21</td>\n",
       "      <td>OUT035</td>\n",
       "      <td>1959.572343</td>\n",
       "    </tr>\n",
       "    <tr>\n",
       "      <th>...</th>\n",
       "      <td>...</td>\n",
       "      <td>...</td>\n",
       "      <td>...</td>\n",
       "    </tr>\n",
       "    <tr>\n",
       "      <th>5651</th>\n",
       "      <td>FDD23</td>\n",
       "      <td>OUT013</td>\n",
       "      <td>3107.387364</td>\n",
       "    </tr>\n",
       "    <tr>\n",
       "      <th>5652</th>\n",
       "      <td>FDP32</td>\n",
       "      <td>OUT045</td>\n",
       "      <td>1988.790426</td>\n",
       "    </tr>\n",
       "    <tr>\n",
       "      <th>5653</th>\n",
       "      <td>FDO31</td>\n",
       "      <td>OUT035</td>\n",
       "      <td>1300.307480</td>\n",
       "    </tr>\n",
       "    <tr>\n",
       "      <th>5654</th>\n",
       "      <td>FDQ57</td>\n",
       "      <td>OUT013</td>\n",
       "      <td>2410.934162</td>\n",
       "    </tr>\n",
       "    <tr>\n",
       "      <th>5655</th>\n",
       "      <td>FDX32</td>\n",
       "      <td>OUT027</td>\n",
       "      <td>3916.157378</td>\n",
       "    </tr>\n",
       "    <tr>\n",
       "      <th>5656</th>\n",
       "      <td>FDC39</td>\n",
       "      <td>OUT027</td>\n",
       "      <td>5833.389510</td>\n",
       "    </tr>\n",
       "    <tr>\n",
       "      <th>5657</th>\n",
       "      <td>FDU55</td>\n",
       "      <td>OUT046</td>\n",
       "      <td>4164.006434</td>\n",
       "    </tr>\n",
       "    <tr>\n",
       "      <th>5658</th>\n",
       "      <td>FDL45</td>\n",
       "      <td>OUT013</td>\n",
       "      <td>2033.015995</td>\n",
       "    </tr>\n",
       "    <tr>\n",
       "      <th>5659</th>\n",
       "      <td>DRK37</td>\n",
       "      <td>OUT049</td>\n",
       "      <td>3140.733867</td>\n",
       "    </tr>\n",
       "    <tr>\n",
       "      <th>5660</th>\n",
       "      <td>FDK22</td>\n",
       "      <td>OUT013</td>\n",
       "      <td>3605.711988</td>\n",
       "    </tr>\n",
       "    <tr>\n",
       "      <th>5661</th>\n",
       "      <td>DRG37</td>\n",
       "      <td>OUT027</td>\n",
       "      <td>4111.579756</td>\n",
       "    </tr>\n",
       "    <tr>\n",
       "      <th>5662</th>\n",
       "      <td>FDK22</td>\n",
       "      <td>OUT017</td>\n",
       "      <td>3694.062351</td>\n",
       "    </tr>\n",
       "    <tr>\n",
       "      <th>5663</th>\n",
       "      <td>DRH36</td>\n",
       "      <td>OUT018</td>\n",
       "      <td>1070.535303</td>\n",
       "    </tr>\n",
       "    <tr>\n",
       "      <th>5664</th>\n",
       "      <td>DRC36</td>\n",
       "      <td>OUT018</td>\n",
       "      <td>2772.914891</td>\n",
       "    </tr>\n",
       "    <tr>\n",
       "      <th>5665</th>\n",
       "      <td>DRE03</td>\n",
       "      <td>OUT027</td>\n",
       "      <td>1099.647553</td>\n",
       "    </tr>\n",
       "    <tr>\n",
       "      <th>5666</th>\n",
       "      <td>FDF34</td>\n",
       "      <td>OUT046</td>\n",
       "      <td>3083.226139</td>\n",
       "    </tr>\n",
       "    <tr>\n",
       "      <th>5667</th>\n",
       "      <td>FDZ22</td>\n",
       "      <td>OUT046</td>\n",
       "      <td>1362.647979</td>\n",
       "    </tr>\n",
       "    <tr>\n",
       "      <th>5668</th>\n",
       "      <td>FDC44</td>\n",
       "      <td>OUT010</td>\n",
       "      <td>268.766245</td>\n",
       "    </tr>\n",
       "    <tr>\n",
       "      <th>5669</th>\n",
       "      <td>FDN31</td>\n",
       "      <td>OUT027</td>\n",
       "      <td>5149.736454</td>\n",
       "    </tr>\n",
       "    <tr>\n",
       "      <th>5670</th>\n",
       "      <td>FDO03</td>\n",
       "      <td>OUT017</td>\n",
       "      <td>3898.071404</td>\n",
       "    </tr>\n",
       "    <tr>\n",
       "      <th>5671</th>\n",
       "      <td>FDA01</td>\n",
       "      <td>OUT049</td>\n",
       "      <td>958.947032</td>\n",
       "    </tr>\n",
       "    <tr>\n",
       "      <th>5672</th>\n",
       "      <td>NCH42</td>\n",
       "      <td>OUT049</td>\n",
       "      <td>3795.008238</td>\n",
       "    </tr>\n",
       "    <tr>\n",
       "      <th>5673</th>\n",
       "      <td>FDF46</td>\n",
       "      <td>OUT018</td>\n",
       "      <td>1850.227608</td>\n",
       "    </tr>\n",
       "    <tr>\n",
       "      <th>5674</th>\n",
       "      <td>DRL35</td>\n",
       "      <td>OUT046</td>\n",
       "      <td>661.949552</td>\n",
       "    </tr>\n",
       "    <tr>\n",
       "      <th>5675</th>\n",
       "      <td>FDW46</td>\n",
       "      <td>OUT049</td>\n",
       "      <td>1066.099813</td>\n",
       "    </tr>\n",
       "    <tr>\n",
       "      <th>5676</th>\n",
       "      <td>FDB58</td>\n",
       "      <td>OUT046</td>\n",
       "      <td>2142.151232</td>\n",
       "    </tr>\n",
       "    <tr>\n",
       "      <th>5677</th>\n",
       "      <td>FDD47</td>\n",
       "      <td>OUT018</td>\n",
       "      <td>2658.207653</td>\n",
       "    </tr>\n",
       "    <tr>\n",
       "      <th>5678</th>\n",
       "      <td>NCO17</td>\n",
       "      <td>OUT045</td>\n",
       "      <td>1918.077919</td>\n",
       "    </tr>\n",
       "    <tr>\n",
       "      <th>5679</th>\n",
       "      <td>FDJ26</td>\n",
       "      <td>OUT017</td>\n",
       "      <td>3653.236502</td>\n",
       "    </tr>\n",
       "    <tr>\n",
       "      <th>5680</th>\n",
       "      <td>FDU37</td>\n",
       "      <td>OUT045</td>\n",
       "      <td>1298.094799</td>\n",
       "    </tr>\n",
       "  </tbody>\n",
       "</table>\n",
       "<p>5681 rows × 3 columns</p>\n",
       "</div>"
      ],
      "text/plain": [
       "     Item_Identifier Outlet_Identifier  Item_Outlet_Sales\n",
       "0              FDW58            OUT049        1651.247013\n",
       "1              FDW14            OUT017        1361.471622\n",
       "2              NCN55            OUT010         569.878672\n",
       "3              FDQ58            OUT017        2455.761549\n",
       "4              FDY38            OUT027        5835.128562\n",
       "5              FDH56            OUT046        1926.436917\n",
       "6              FDL48            OUT018         737.065235\n",
       "7              FDC48            OUT027        2213.291560\n",
       "8              FDN33            OUT045        1518.186469\n",
       "9              FDA36            OUT017        3113.112003\n",
       "10             FDT44            OUT017        1919.264300\n",
       "11             FDQ56            OUT045        1364.399623\n",
       "12             NCC54            OUT019         568.396161\n",
       "13             FDU11            OUT049        2010.628936\n",
       "14             DRL59            OUT013         841.463063\n",
       "15             FDM24            OUT049        2462.048662\n",
       "16             FDI57            OUT045        3038.804521\n",
       "17             DRC12            OUT018        2934.353096\n",
       "18             NCM42            OUT027        2915.820657\n",
       "19             FDA46            OUT010         505.532952\n",
       "20             FDA31            OUT013        2849.484874\n",
       "21             NCJ31            OUT035        3868.511420\n",
       "22             FDG52            OUT046         791.156425\n",
       "23             NCL19            OUT019         287.875121\n",
       "24             FDS10            OUT035        2974.099248\n",
       "25             FDX22            OUT010         565.637068\n",
       "26             NCF19            OUT035         773.551193\n",
       "27             NCE06            OUT046        2547.920353\n",
       "28             DRC27            OUT046        3947.432592\n",
       "29             FDE21            OUT035        1959.572343\n",
       "...              ...               ...                ...\n",
       "5651           FDD23            OUT013        3107.387364\n",
       "5652           FDP32            OUT045        1988.790426\n",
       "5653           FDO31            OUT035        1300.307480\n",
       "5654           FDQ57            OUT013        2410.934162\n",
       "5655           FDX32            OUT027        3916.157378\n",
       "5656           FDC39            OUT027        5833.389510\n",
       "5657           FDU55            OUT046        4164.006434\n",
       "5658           FDL45            OUT013        2033.015995\n",
       "5659           DRK37            OUT049        3140.733867\n",
       "5660           FDK22            OUT013        3605.711988\n",
       "5661           DRG37            OUT027        4111.579756\n",
       "5662           FDK22            OUT017        3694.062351\n",
       "5663           DRH36            OUT018        1070.535303\n",
       "5664           DRC36            OUT018        2772.914891\n",
       "5665           DRE03            OUT027        1099.647553\n",
       "5666           FDF34            OUT046        3083.226139\n",
       "5667           FDZ22            OUT046        1362.647979\n",
       "5668           FDC44            OUT010         268.766245\n",
       "5669           FDN31            OUT027        5149.736454\n",
       "5670           FDO03            OUT017        3898.071404\n",
       "5671           FDA01            OUT049         958.947032\n",
       "5672           NCH42            OUT049        3795.008238\n",
       "5673           FDF46            OUT018        1850.227608\n",
       "5674           DRL35            OUT046         661.949552\n",
       "5675           FDW46            OUT049        1066.099813\n",
       "5676           FDB58            OUT046        2142.151232\n",
       "5677           FDD47            OUT018        2658.207653\n",
       "5678           NCO17            OUT045        1918.077919\n",
       "5679           FDJ26            OUT017        3653.236502\n",
       "5680           FDU37            OUT045        1298.094799\n",
       "\n",
       "[5681 rows x 3 columns]"
      ]
     },
     "execution_count": 139,
     "metadata": {},
     "output_type": "execute_result"
    }
   ],
   "source": [
    "test_df[['Item_Identifier','Outlet_Identifier','Item_Outlet_Sales']]"
   ]
  },
  {
   "cell_type": "code",
   "execution_count": 143,
   "metadata": {},
   "outputs": [],
   "source": [
    "final_submission=test_df[['Item_Identifier','Outlet_Identifier','Item_Outlet_Sales']]\n",
    "final_submission.to_csv('Final Outcome Predictions.csv')"
   ]
  },
  {
   "cell_type": "code",
   "execution_count": null,
   "metadata": {},
   "outputs": [],
   "source": []
  }
 ],
 "metadata": {
  "kernelspec": {
   "display_name": "Python 3",
   "language": "python",
   "name": "python3"
  },
  "language_info": {
   "codemirror_mode": {
    "name": "ipython",
    "version": 3
   },
   "file_extension": ".py",
   "mimetype": "text/x-python",
   "name": "python",
   "nbconvert_exporter": "python",
   "pygments_lexer": "ipython3",
   "version": "3.6.4"
  },
  "toc": {
   "base_numbering": 1,
   "nav_menu": {},
   "number_sections": true,
   "sideBar": true,
   "skip_h1_title": false,
   "title_cell": "Table of Contents",
   "title_sidebar": "Contents",
   "toc_cell": false,
   "toc_position": {},
   "toc_section_display": true,
   "toc_window_display": false
  }
 },
 "nbformat": 4,
 "nbformat_minor": 2
}
